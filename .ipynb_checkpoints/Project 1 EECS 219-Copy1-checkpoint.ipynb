{
 "cells": [
  {
   "cell_type": "markdown",
   "id": "75d193e2",
   "metadata": {},
   "source": [
    "## Project 1"
   ]
  },
  {
   "cell_type": "markdown",
   "id": "1f03dcfb",
   "metadata": {},
   "source": [
    "### Import Data"
   ]
  },
  {
   "cell_type": "code",
   "execution_count": 1,
   "id": "bbb4e82b",
   "metadata": {},
   "outputs": [
    {
     "data": {
      "text/html": [
       "<div>\n",
       "<style scoped>\n",
       "    .dataframe tbody tr th:only-of-type {\n",
       "        vertical-align: middle;\n",
       "    }\n",
       "\n",
       "    .dataframe tbody tr th {\n",
       "        vertical-align: top;\n",
       "    }\n",
       "\n",
       "    .dataframe thead th {\n",
       "        text-align: right;\n",
       "    }\n",
       "</style>\n",
       "<table border=\"1\" class=\"dataframe\">\n",
       "  <thead>\n",
       "    <tr style=\"text-align: right;\">\n",
       "      <th></th>\n",
       "      <th>full_text</th>\n",
       "      <th>summary</th>\n",
       "      <th>keywords</th>\n",
       "      <th>publish_date</th>\n",
       "      <th>authors</th>\n",
       "      <th>url</th>\n",
       "      <th>leaf_label</th>\n",
       "      <th>root_label</th>\n",
       "    </tr>\n",
       "  </thead>\n",
       "  <tbody>\n",
       "    <tr>\n",
       "      <th>0</th>\n",
       "      <td>'Pure Hockey, the largest hockey retailer in t...</td>\n",
       "      <td>'Pure Hockey, the largest hockey retailer in t...</td>\n",
       "      <td>['acquire', 'agrees', 'nevada', 'retail', 'hoc...</td>\n",
       "      <td>2022-10-21 17:11:22+00:00</td>\n",
       "      <td>['Ein News']</td>\n",
       "      <td>https://www.einnews.com/pr_news/597148062/pure...</td>\n",
       "      <td>hockey</td>\n",
       "      <td>sports</td>\n",
       "    </tr>\n",
       "    <tr>\n",
       "      <th>1</th>\n",
       "      <td>'HKO Hockey Canada Sponsorship 20221006\\n\\nHoc...</td>\n",
       "      <td>'The tally of Hockey Canada’s sponsorship loss...</td>\n",
       "      <td>['sexual', 'exclusive', 'settlement', 'million...</td>\n",
       "      <td>NaN</td>\n",
       "      <td>['Barbara Shecter']</td>\n",
       "      <td>https://ca.finance.yahoo.com/news/exclusive-ho...</td>\n",
       "      <td>hockey</td>\n",
       "      <td>sports</td>\n",
       "    </tr>\n",
       "    <tr>\n",
       "      <th>2</th>\n",
       "      <td>'Canadian Prime Minister Justin Trudeau said W...</td>\n",
       "      <td>'Canadian Prime Minister Justin Trudeau said W...</td>\n",
       "      <td>['québec', 'surprise', 'trust', 'sexual', 'org...</td>\n",
       "      <td>2022-10-05 00:00:00</td>\n",
       "      <td>['The Athletic Staff']</td>\n",
       "      <td>https://theathletic.com/3659888/2022/10/05/hoc...</td>\n",
       "      <td>hockey</td>\n",
       "      <td>sports</td>\n",
       "    </tr>\n",
       "    <tr>\n",
       "      <th>3</th>\n",
       "      <td>'Hockey Canada paid a crisis communications fi...</td>\n",
       "      <td>'Nicholson says that Hockey Canada did not go ...</td>\n",
       "      <td>['sexual', 'organization', 'million', 'ceo', '...</td>\n",
       "      <td>2022-11-15 00:00:00</td>\n",
       "      <td>['Dan Robson']</td>\n",
       "      <td>https://theathletic.com/3900630/2022/11/15/hoc...</td>\n",
       "      <td>hockey</td>\n",
       "      <td>sports</td>\n",
       "    </tr>\n",
       "    <tr>\n",
       "      <th>4</th>\n",
       "      <td>'The Denver Broncos are looking for a new head...</td>\n",
       "      <td>'The Denver Broncos are looking for a new head...</td>\n",
       "      <td>['beats', 'force', 'season', 'teams', 'anchora...</td>\n",
       "      <td>NaN</td>\n",
       "      <td>['Parker Seibold', 'The Gazette', 'Gazette File']</td>\n",
       "      <td>https://gazette.com/multimedia/photo-air-force...</td>\n",
       "      <td>hockey</td>\n",
       "      <td>sports</td>\n",
       "    </tr>\n",
       "  </tbody>\n",
       "</table>\n",
       "</div>"
      ],
      "text/plain": [
       "                                           full_text  \\\n",
       "0  'Pure Hockey, the largest hockey retailer in t...   \n",
       "1  'HKO Hockey Canada Sponsorship 20221006\\n\\nHoc...   \n",
       "2  'Canadian Prime Minister Justin Trudeau said W...   \n",
       "3  'Hockey Canada paid a crisis communications fi...   \n",
       "4  'The Denver Broncos are looking for a new head...   \n",
       "\n",
       "                                             summary  \\\n",
       "0  'Pure Hockey, the largest hockey retailer in t...   \n",
       "1  'The tally of Hockey Canada’s sponsorship loss...   \n",
       "2  'Canadian Prime Minister Justin Trudeau said W...   \n",
       "3  'Nicholson says that Hockey Canada did not go ...   \n",
       "4  'The Denver Broncos are looking for a new head...   \n",
       "\n",
       "                                            keywords  \\\n",
       "0  ['acquire', 'agrees', 'nevada', 'retail', 'hoc...   \n",
       "1  ['sexual', 'exclusive', 'settlement', 'million...   \n",
       "2  ['québec', 'surprise', 'trust', 'sexual', 'org...   \n",
       "3  ['sexual', 'organization', 'million', 'ceo', '...   \n",
       "4  ['beats', 'force', 'season', 'teams', 'anchora...   \n",
       "\n",
       "                publish_date  \\\n",
       "0  2022-10-21 17:11:22+00:00   \n",
       "1                        NaN   \n",
       "2        2022-10-05 00:00:00   \n",
       "3        2022-11-15 00:00:00   \n",
       "4                        NaN   \n",
       "\n",
       "                                             authors  \\\n",
       "0                                       ['Ein News']   \n",
       "1                                ['Barbara Shecter']   \n",
       "2                             ['The Athletic Staff']   \n",
       "3                                     ['Dan Robson']   \n",
       "4  ['Parker Seibold', 'The Gazette', 'Gazette File']   \n",
       "\n",
       "                                                 url leaf_label root_label  \n",
       "0  https://www.einnews.com/pr_news/597148062/pure...     hockey     sports  \n",
       "1  https://ca.finance.yahoo.com/news/exclusive-ho...     hockey     sports  \n",
       "2  https://theathletic.com/3659888/2022/10/05/hoc...     hockey     sports  \n",
       "3  https://theathletic.com/3900630/2022/11/15/hoc...     hockey     sports  \n",
       "4  https://gazette.com/multimedia/photo-air-force...     hockey     sports  "
      ]
     },
     "execution_count": 1,
     "metadata": {},
     "output_type": "execute_result"
    }
   ],
   "source": [
    "import matplotlib.pyplot as plt\n",
    "import pandas as pd\n",
    "import numpy as np\n",
    "from nltk import pos_tag\n",
    "from nltk import RegexpParser\n",
    "import string\n",
    "import collections\n",
    "import nltk\n",
    "\n",
    "#asdjasbdkasjbd\n",
    "\n",
    "data=pd.read_csv(\"Project1-Classification.csv\")\n",
    "data.head()"
   ]
  },
  {
   "cell_type": "code",
   "execution_count": 2,
   "id": "0fa19692",
   "metadata": {},
   "outputs": [
    {
     "data": {
      "text/plain": [
       "(3150, 8)"
      ]
     },
     "execution_count": 2,
     "metadata": {},
     "output_type": "execute_result"
    }
   ],
   "source": [
    "data.shape"
   ]
  },
  {
   "cell_type": "markdown",
   "id": "97434f46",
   "metadata": {},
   "source": [
    "#### Question 1:\n",
    "##### There are 3150 rows and 8 columns. \n"
   ]
  },
  {
   "cell_type": "code",
   "execution_count": 3,
   "id": "15ace874",
   "metadata": {},
   "outputs": [
    {
     "data": {
      "text/plain": [
       "array([[<AxesSubplot:title={'center':'0'}>]], dtype=object)"
      ]
     },
     "execution_count": 3,
     "metadata": {},
     "output_type": "execute_result"
    },
    {
     "data": {
      "image/png": "[encoded data removed]",
      "text/plain": [
       "<Figure size 432x288 with 1 Axes>"
      ]
     },
     "metadata": {
      "needs_background": "light"
     },
     "output_type": "display_data"
    }
   ],
   "source": [
    "count=[]\n",
    "for row in data['full_text']:\n",
    "    countForRow=0\n",
    "    for c in row:\n",
    "        if c.isalnum():\n",
    "            countForRow+=1\n",
    "    count.append(countForRow)\n",
    "# q1 histogram (a)\n",
    "countHist=pd.DataFrame(count)\n",
    "countHist.hist()        "
   ]
  },
  {
   "cell_type": "code",
   "execution_count": 4,
   "id": "767c5754",
   "metadata": {},
   "outputs": [
    {
     "data": {
      "text/plain": [
       "<AxesSubplot:>"
      ]
     },
     "execution_count": 4,
     "metadata": {},
     "output_type": "execute_result"
    },
    {
     "data": {
      "image/png": "[encoded data removed]",
      "text/plain": [
       "<Figure size 432x288 with 1 Axes>"
      ]
     },
     "metadata": {
      "needs_background": "light"
     },
     "output_type": "display_data"
    }
   ],
   "source": [
    "# q1 histogram (b)\n",
    "data['leaf_label'].hist(bins=30)"
   ]
  },
  {
   "cell_type": "code",
   "execution_count": 5,
   "id": "45410ec3",
   "metadata": {},
   "outputs": [
    {
     "data": {
      "text/plain": [
       "<AxesSubplot:>"
      ]
     },
     "execution_count": 5,
     "metadata": {},
     "output_type": "execute_result"
    },
    {
     "data": {
      "image/png": "[encoded data removed]",
      "text/plain": [
       "<Figure size 432x288 with 1 Axes>"
      ]
     },
     "metadata": {
      "needs_background": "light"
     },
     "output_type": "display_data"
    }
   ],
   "source": [
    "# q1 histogram (c)\n",
    "data['root_label'].hist()"
   ]
  },
  {
   "cell_type": "markdown",
   "id": "a2a38d72",
   "metadata": {},
   "source": [
    "### Interpret Plots: most text in this dataset have under 10000 alphabetic or numeric characters, and only few samples have 20000, 30000, or more alphabetic or numeric characters. As the leaf_topic histogram shown, text about 9 different topics are collected so that each topic has the same frequency. As we can see from the root_topic histogram, text in the dataset are separated into two different root labels: sports and climate, and the dataset focus more on sports"
   ]
  },
  {
   "cell_type": "markdown",
   "id": "55e71526",
   "metadata": {},
   "source": [
    "### 1 Split into train and test data"
   ]
  },
  {
   "cell_type": "code",
   "execution_count": 6,
   "id": "4055650b",
   "metadata": {},
   "outputs": [],
   "source": [
    "import numpy as np\n",
    "import random\n",
    "np.random.seed(42)\n",
    "random.seed(42)"
   ]
  },
  {
   "cell_type": "code",
   "execution_count": 7,
   "id": "0b77e4cd",
   "metadata": {},
   "outputs": [],
   "source": [
    "from sklearn.model_selection import train_test_split\n",
    "train, test = train_test_split(data[[\"full_text\",\"root_label\"]], test_size=0.2)"
   ]
  },
  {
   "cell_type": "code",
   "execution_count": 8,
   "id": "d759922d",
   "metadata": {},
   "outputs": [
    {
     "name": "stdout",
     "output_type": "stream",
     "text": [
      "(2520, 2) (630, 2)\n"
     ]
    }
   ],
   "source": [
    "print(train.shape, test.shape)"
   ]
  },
  {
   "cell_type": "markdown",
   "id": "8c770170",
   "metadata": {},
   "source": [
    "#### Question 2:\n",
    "#### There are 2520 samples in training data and 630 samples in testing data. "
   ]
  },
  {
   "cell_type": "markdown",
   "id": "8dcd2d2a",
   "metadata": {},
   "source": [
    "### 2 Feature Extraction"
   ]
  },
  {
   "cell_type": "code",
   "execution_count": 9,
   "id": "72581de5",
   "metadata": {},
   "outputs": [],
   "source": [
    "import re\n",
    "def clean(text):\n",
    "        text = re.sub(r'^https?:\\/\\/.*[\\r\\n]*', '', text, flags=re.MULTILINE)\n",
    "        texter = re.sub(r\"<br />\", \" \", text)\n",
    "        texter = re.sub(r\"&quot;\", \"\\\"\",texter)\n",
    "        texter = re.sub('&#39;', \"\\\"\", texter)\n",
    "        texter = re.sub('\\n', \" \", texter)\n",
    "        texter = re.sub(' u ',\" you \", texter)\n",
    "        texter = re.sub('`',\"\", texter)\n",
    "        texter = re.sub(' +', ' ', texter)\n",
    "        texter = re.sub(r\"(!)\\1+\", r\"!\", texter)\n",
    "        texter = re.sub(r\"(\\?)\\1+\", r\"?\", texter)\n",
    "        texter = re.sub('&amp;', 'and', texter)\n",
    "        texter = re.sub('\\r', ' ',texter)\n",
    "        clean = re.compile('<.*?>')\n",
    "        texter = texter.encode('ascii', 'ignore').decode('ascii')\n",
    "        texter = re.sub(clean, '', texter)\n",
    "        if texter == \"\":\n",
    "            texter = \"\"\n",
    "        return texter"
   ]
  },
  {
   "cell_type": "code",
   "execution_count": 10,
   "id": "46d17a13",
   "metadata": {},
   "outputs": [],
   "source": [
    "train_text = train.full_text\n",
    "test_text = test.full_text"
   ]
  },
  {
   "cell_type": "code",
   "execution_count": 11,
   "id": "3ce52fb5",
   "metadata": {},
   "outputs": [],
   "source": [
    "df_train = []\n",
    "df_test = []\n",
    "for x in train_text:\n",
    "    ff = clean(x)\n",
    "    df_train.append(ff)\n",
    "\n",
    "for x in test_text:\n",
    "    ff = clean(x)\n",
    "    df_test.append(ff)"
   ]
  },
  {
   "cell_type": "code",
   "execution_count": 12,
   "id": "d60b804c",
   "metadata": {},
   "outputs": [
    {
     "name": "stderr",
     "output_type": "stream",
     "text": [
      "[nltk_data] Downloading package averaged_perceptron_tagger to\n",
      "[nltk_data]     /Users/mac/nltk_data...\n",
      "[nltk_data]   Package averaged_perceptron_tagger is already up-to-\n",
      "[nltk_data]       date!\n"
     ]
    }
   ],
   "source": [
    "from nltk import pos_tag\n",
    "#nltk.download('punkt')#, if you need \"tokenizers/punkt/english.pickle\", choose it\n",
    "# nltk.download('averaged_perceptron_tagger')\n",
    "wnl = nltk.wordnet.WordNetLemmatizer()\n",
    "nltk.download('averaged_perceptron_tagger')\n",
    "\n",
    "# first you clean\n",
    "# you break up the document into sentences\n",
    "# you pass each sentence into the pos tagger\n",
    "\n",
    "\n",
    "def penn2morphy(penntag):\n",
    "    \"\"\" Converts Penn Treebank tags to WordNet. \"\"\"\n",
    "    morphy_tag = {'NN':'n', 'JJ':'a',\n",
    "                  'VB':'v', 'RB':'r'}\n",
    "    try:\n",
    "        return morphy_tag[penntag[:2]]\n",
    "    except:\n",
    "        return 'n' \n",
    "def lemmatize_sent_demo(text): \n",
    "    # Text input is string, returns array of lowercased strings(words).\n",
    "    return [wnl.lemmatize(word.lower(), pos=penn2morphy(tag)) \n",
    "            for word, tag in pos_tag(nltk.word_tokenize(text))]\n",
    "def lemmatize_sent(list_word): \n",
    "    # Text input is string, returns array of lowercased strings(words).\n",
    "    return [wnl.lemmatize(word.lower(), pos=penn2morphy(tag)) \n",
    "            for word, tag in pos_tag(list_word)]"
   ]
  },
  {
   "cell_type": "code",
   "execution_count": 13,
   "id": "7b80d0f9",
   "metadata": {},
   "outputs": [
    {
     "data": {
      "text/plain": [
       "'\\nimport re\\nRE_D = re.compile(\\'\\\\d\\')\\nfor x in range(len(df_train)):\\n    lis = lemmatize_sent_demo(df_train[x])\\n    lis = [i for i in lis if i not in string.punctuation]\\n    lis = [i for i in lis if not RE_D.search(i)]\\n    df_train[x] = (\" \".join(lis))\\n\\nfor x in range(len(df_test)):\\n    lis = lemmatize_sent_demo(df_test[x])\\n    lis = [i for i in lis if i not in string.punctuation]\\n    lis = [i for i in lis if not RE_D.search(i)]\\n    df_test[x] = (\" \".join(lis))\\n'"
      ]
     },
     "execution_count": 13,
     "metadata": {},
     "output_type": "execute_result"
    }
   ],
   "source": [
    "'''\n",
    "import re\n",
    "RE_D = re.compile('\\d')\n",
    "for x in range(len(df_train)):\n",
    "    lis = lemmatize_sent_demo(df_train[x])\n",
    "    lis = [i for i in lis if i not in string.punctuation]\n",
    "    lis = [i for i in lis if not RE_D.search(i)]\n",
    "    df_train[x] = (\" \".join(lis))\n",
    "\n",
    "for x in range(len(df_test)):\n",
    "    lis = lemmatize_sent_demo(df_test[x])\n",
    "    lis = [i for i in lis if i not in string.punctuation]\n",
    "    lis = [i for i in lis if not RE_D.search(i)]\n",
    "    df_test[x] = (\" \".join(lis))\n",
    "'''"
   ]
  },
  {
   "cell_type": "code",
   "execution_count": 14,
   "id": "d10e1e77",
   "metadata": {},
   "outputs": [
    {
     "name": "stdout",
     "output_type": "stream",
     "text": [
      "# of stop_words_skt:\t\t 318\n",
      "# of stop_words_en:\t\t 179\n",
      "# of punctuation:\t\t 32\n",
      "# of combined_stopwords:\t 410\n"
     ]
    }
   ],
   "source": [
    "from sklearn.feature_extraction import text\n",
    "stop_words_skt = text.ENGLISH_STOP_WORDS\n",
    "from nltk.corpus import stopwords\n",
    "#nltk.download('stopwords' )\n",
    "stop_words_en = stopwords.words('english')\n",
    "\n",
    "print(\"# of stop_words_skt:\\t\\t %s\" % len(stop_words_skt))\n",
    "print(\"# of stop_words_en:\\t\\t %s\" % len(stop_words_en))\n",
    "from string import punctuation\n",
    "print(\"# of punctuation:\\t\\t %s\" % len(punctuation))\n",
    "combined_stopwords = set.union(set(stop_words_en),set(punctuation),set(stop_words_skt))\n",
    "print(\"# of combined_stopwords:\\t %s\" % len(combined_stopwords))"
   ]
  },
  {
   "cell_type": "code",
   "execution_count": 15,
   "id": "d1c73aef",
   "metadata": {},
   "outputs": [],
   "source": [
    "from sklearn.feature_extraction.text import CountVectorizer\n",
    "from sklearn.feature_extraction.text import TfidfTransformer\n",
    "analyzer = CountVectorizer().build_analyzer()\n",
    "def stem_rmv_punc(doc):\n",
    "    return (word for word in lemmatize_sent(analyzer(doc)) if word not in combined_stopwords and not word.isdigit())"
   ]
  },
  {
   "cell_type": "code",
   "execution_count": 109,
   "id": "83dffdaf",
   "metadata": {},
   "outputs": [],
   "source": [
    "\n",
    "from sklearn.pipeline import Pipeline\n",
    "vectorizer = CountVectorizer(min_df=3,analyzer=stem_rmv_punc)\n",
    "pipe = Pipeline([('count', vectorizer),('tfid', TfidfTransformer())])"
   ]
  },
  {
   "cell_type": "code",
   "execution_count": 18,
   "id": "5a32ad06",
   "metadata": {},
   "outputs": [
    {
     "name": "stdout",
     "output_type": "stream",
     "text": [
      "(2520, 13715)\n"
     ]
    }
   ],
   "source": [
    "df_train_transform = pipe.fit_transform(df_train)\n",
    "print(df_train_transform.shape)"
   ]
  },
  {
   "cell_type": "code",
   "execution_count": 19,
   "id": "38884dc0",
   "metadata": {},
   "outputs": [
    {
     "name": "stdout",
     "output_type": "stream",
     "text": [
      "(630, 13715)\n"
     ]
    }
   ],
   "source": [
    "df_test_transform = pipe.transform(df_test)\n",
    "print(df_test_transform.shape)"
   ]
  },
  {
   "cell_type": "code",
   "execution_count": 26,
   "id": "37f225df",
   "metadata": {},
   "outputs": [],
   "source": [
    "from sklearn.decomposition import TruncatedSVD\n",
    "from sklearn.utils.extmath import randomized_svd\n"
   ]
  },
  {
   "cell_type": "code",
   "execution_count": 27,
   "id": "cd0d943d",
   "metadata": {},
   "outputs": [],
   "source": [
    "Ratio = []\n",
    "for x in [1, 10, 50, 100, 200, 500, 1000, 2000]:\n",
    "    svd = TruncatedSVD(n_components=x, n_iter=7, random_state=42)\n",
    "    Reduced_train_it = svd.fit(df_train_transform)\n",
    "    Ratio.append(Reduced_train_it.explained_variance_ratio_.sum())\n"
   ]
  },
  {
   "cell_type": "code",
   "execution_count": 28,
   "id": "621ae103",
   "metadata": {},
   "outputs": [
    {
     "name": "stdout",
     "output_type": "stream",
     "text": [
      "[0.006265247957095012, 0.15565720322040097, 0.3153705953848364, 0.40478978193176157, 0.5166887933258042, 0.7103445122032146, 0.8814187974243513, 0.999989373963423]\n"
     ]
    }
   ],
   "source": [
    "print(Ratio)"
   ]
  },
  {
   "cell_type": "code",
   "execution_count": 29,
   "id": "ce68036a",
   "metadata": {},
   "outputs": [
    {
     "data": {
      "text/plain": [
       "[1, 10, 50, 100, 200, 500, 1000, 2000]"
      ]
     },
     "execution_count": 29,
     "metadata": {},
     "output_type": "execute_result"
    }
   ],
   "source": [
    "k = [1,10,50,100,200,500,1000,2000]\n",
    "k"
   ]
  },
  {
   "cell_type": "code",
   "execution_count": 30,
   "id": "39f34498",
   "metadata": {},
   "outputs": [
    {
     "data": {
      "image/png": "[encoded data removed]",
      "text/plain": [
       "<Figure size 432x288 with 1 Axes>"
      ]
     },
     "metadata": {
      "needs_background": "light"
     },
     "output_type": "display_data"
    }
   ],
   "source": [
    "import matplotlib.pyplot as plt\n",
    "import numpy as np\n",
    "\n",
    "plt.plot(k, Ratio)\n",
    "plt.show()"
   ]
  },
  {
   "cell_type": "markdown",
   "id": "c01cdd05",
   "metadata": {},
   "source": [
    "### **Question 4**\n",
    "#### As k increase, explained variance ratio increases. The concavity in the plot suggests that k=50 should be the best k value which with simplest complexity and high variance explained. "
   ]
  },
  {
   "cell_type": "code",
   "execution_count": 31,
   "id": "ac397a99",
   "metadata": {},
   "outputs": [
    {
     "name": "stderr",
     "output_type": "stream",
     "text": [
      "/Users/mac/opt/anaconda3/lib/python3.9/site-packages/sklearn/decomposition/_nmf.py:1637: ConvergenceWarning: Maximum number of iterations 200 reached. Increase it to improve convergence.\n",
      "  warnings.warn(\n"
     ]
    }
   ],
   "source": [
    "from sklearn.decomposition import NMF\n",
    "NMF = NMF(n_components=50, init='random', random_state=42)\n",
    "W = NMF.fit_transform(df_train_transform)\n",
    "H = NMF.components_"
   ]
  },
  {
   "cell_type": "code",
   "execution_count": 44,
   "id": "2479676f",
   "metadata": {},
   "outputs": [
    {
     "name": "stdout",
     "output_type": "stream",
     "text": [
      "residual MSE error when use NMF is 1697.896641857878\n"
     ]
    }
   ],
   "source": [
    "print(\"residual MSE error when use NMF is\", np.linalg.norm(df_train_transform-np.dot(W,H))**2)"
   ]
  },
  {
   "cell_type": "code",
   "execution_count": 37,
   "id": "99272fd5",
   "metadata": {},
   "outputs": [],
   "source": [
    "svd_50 = TruncatedSVD(n_components=50, n_iter=7, random_state=42)\n",
    "U, sigma, V_t = randomized_svd(df_train_transform, n_components=50, random_state=42)"
   ]
  },
  {
   "cell_type": "code",
   "execution_count": 40,
   "id": "1f45b179",
   "metadata": {},
   "outputs": [
    {
     "name": "stdout",
     "output_type": "stream",
     "text": [
      "(2520, 50) (50,) (50, 13715)\n"
     ]
    }
   ],
   "source": [
    "print(U.shape, sigma.shape, V_t.shape)"
   ]
  },
  {
   "cell_type": "code",
   "execution_count": 42,
   "id": "f4fe464a",
   "metadata": {},
   "outputs": [
    {
     "name": "stdout",
     "output_type": "stream",
     "text": [
      "[[9.69518894 0.         0.         ... 0.         0.         0.        ]\n",
      " [0.         7.98587792 0.         ... 0.         0.         0.        ]\n",
      " [0.         0.         7.43735801 ... 0.         0.         0.        ]\n",
      " ...\n",
      " [0.         0.         0.         ... 2.40233685 0.         0.        ]\n",
      " [0.         0.         0.         ... 0.         2.39302463 0.        ]\n",
      " [0.         0.         0.         ... 0.         0.         2.38223557]]\n"
     ]
    }
   ],
   "source": [
    "s=np.diag(sigma)\n",
    "print(s)"
   ]
  },
  {
   "cell_type": "code",
   "execution_count": 51,
   "id": "82d3c186",
   "metadata": {},
   "outputs": [
    {
     "name": "stdout",
     "output_type": "stream",
     "text": [
      "residual MSE error when use LSI is 1669.3038263016867\n"
     ]
    }
   ],
   "source": [
    "Reduced_train = U.dot(s).dot(V_t)\n",
    "print(\"residual MSE error when use LSI is\", np.linalg.norm(df_train_transform-Reduced_train)**2)"
   ]
  },
  {
   "cell_type": "markdown",
   "id": "ef5bb530",
   "metadata": {},
   "source": [
    "#### Residual MSE error in NMF is larger. "
   ]
  },
  {
   "cell_type": "markdown",
   "id": "6261bc0d",
   "metadata": {},
   "source": [
    "### Question 5"
   ]
  },
  {
   "cell_type": "markdown",
   "id": "7419b6f3",
   "metadata": {},
   "source": [
    "#### – Train one SVM with γ = 1000 (hard margin), another with γ = 0.0001 (soft margin)."
   ]
  },
  {
   "cell_type": "code",
   "execution_count": 79,
   "id": "cc5ed801",
   "metadata": {},
   "outputs": [],
   "source": [
    "train_LSI50 = svd_50.fit_transform(df_train_transform)\n",
    "test_LSI50 = svd_50.transform(df_test_transform)"
   ]
  },
  {
   "cell_type": "code",
   "execution_count": 166,
   "id": "d54bb806",
   "metadata": {},
   "outputs": [],
   "source": [
    "from sklearn import svm\n",
    "\n",
    "#from sklearn.svm import LinearSVC\n",
    "\n",
    "clf_hard = svm.SVC(kernel='linear', C = 1000, probability=True)\n",
    "#clf_hard = LinearSVC(C=1000, random_state=42)\n",
    "clf_hard.fit(train_LSI50, train.root_label)\n",
    "hard_predicted = clf_hard.predict(test_LSI50)"
   ]
  },
  {
   "cell_type": "code",
   "execution_count": 167,
   "id": "f59597e5",
   "metadata": {},
   "outputs": [],
   "source": [
    "clf_soft = svm.SVC(kernel='linear', C = 0.0001, probability=True)\n",
    "#clf_soft = LinearSVC(C=0.0001, random_state=42)\n",
    "clf_soft.fit(train_LSI50, train.root_label)\n",
    "soft_predicted = clf_soft.predict(test_LSI50)"
   ]
  },
  {
   "cell_type": "markdown",
   "id": "4916279d",
   "metadata": {},
   "source": [
    "#### – Plot the ROC curve"
   ]
  },
  {
   "cell_type": "code",
   "execution_count": 168,
   "id": "10b74e2c",
   "metadata": {},
   "outputs": [],
   "source": [
    "from sklearn.metrics import roc_curve\n",
    "from sklearn.metrics import auc\n",
    "import matplotlib.pyplot as plt\n",
    "%matplotlib inline\n",
    "def plot_roc(fpr, tpr):\n",
    "    fig, ax = plt.subplots()\n",
    "\n",
    "    roc_auc = auc(fpr,tpr)\n",
    "\n",
    "    ax.plot(fpr, tpr, lw=2, label= 'area under curve = %0.4f' % roc_auc)\n",
    "\n",
    "    ax.grid(color='0.7', linestyle='--', linewidth=1)\n",
    "\n",
    "    ax.set_xlim([-0.1, 1.1])\n",
    "    ax.set_ylim([0.0, 1.05])\n",
    "    ax.set_xlabel('False Positive Rate',fontsize=15)\n",
    "    ax.set_ylabel('True Positive Rate',fontsize=15)\n",
    "\n",
    "    ax.legend(loc=\"lower right\")\n",
    "\n",
    "    for label in ax.get_xticklabels()+ax.get_yticklabels():\n",
    "        label.set_fontsize(15)\n",
    "\n",
    "def fit_predict_and_plot_roc(model, train_data, train_label, test_data, test_label):\n",
    "    model.fit(train_data, train_label)\n",
    "\n",
    "    prob_score = model.predict_proba(test_data)\n",
    "\n",
    "    fpr, tpr, _ = roc_curve(test_label, prob_score[:,1], pos_label=\"sports\")\n",
    "\n",
    "    plot_roc(fpr, tpr)\n",
    "    return model"
   ]
  },
  {
   "cell_type": "code",
   "execution_count": 169,
   "id": "47e949aa",
   "metadata": {
    "scrolled": true
   },
   "outputs": [
    {
     "data": {
      "text/plain": [
       "SVC(C=1000, kernel='linear', probability=True)"
      ]
     },
     "execution_count": 169,
     "metadata": {},
     "output_type": "execute_result"
    },
    {
     "data": {
      "image/png": "[encoded data removed]",
      "text/plain": [
       "<Figure size 432x288 with 1 Axes>"
      ]
     },
     "metadata": {
      "needs_background": "light"
     },
     "output_type": "display_data"
    }
   ],
   "source": [
    "fit_predict_and_plot_roc(clf_hard, train_LSI50, train.root_label, test_LSI50, test.root_label)"
   ]
  },
  {
   "cell_type": "code",
   "execution_count": 170,
   "id": "f967126e",
   "metadata": {},
   "outputs": [
    {
     "data": {
      "text/plain": [
       "SVC(C=0.0001, kernel='linear', probability=True)"
      ]
     },
     "execution_count": 170,
     "metadata": {},
     "output_type": "execute_result"
    },
    {
     "data": {
      "image/png": "[encoded data removed]",
      "text/plain": [
       "<Figure size 432x288 with 1 Axes>"
      ]
     },
     "metadata": {
      "needs_background": "light"
     },
     "output_type": "display_data"
    }
   ],
   "source": [
    "fit_predict_and_plot_roc(clf_soft, train_LSI50, train.root_label, test_LSI50, test.root_label)"
   ]
  },
  {
   "cell_type": "markdown",
   "id": "c0426469",
   "metadata": {},
   "source": [
    "#### -report the confusion matrix"
   ]
  },
  {
   "cell_type": "code",
   "execution_count": 171,
   "id": "36d69318",
   "metadata": {},
   "outputs": [
    {
     "data": {
      "text/plain": [
       "array([[258,   5],\n",
       "       [ 18, 349]])"
      ]
     },
     "execution_count": 171,
     "metadata": {},
     "output_type": "execute_result"
    }
   ],
   "source": [
    "from sklearn import metrics\n",
    "confusion_matrix_hard = metrics.confusion_matrix(test.root_label, hard_predicted)\n",
    "confusion_matrix_hard"
   ]
  },
  {
   "cell_type": "code",
   "execution_count": 172,
   "id": "4ef68cd7",
   "metadata": {},
   "outputs": [
    {
     "data": {
      "image/png": "[encoded data removed]",
      "text/plain": [
       "<Figure size 432x288 with 2 Axes>"
      ]
     },
     "metadata": {
      "needs_background": "light"
     },
     "output_type": "display_data"
    }
   ],
   "source": [
    "cm_display = metrics.ConfusionMatrixDisplay(confusion_matrix = confusion_matrix_hard, display_labels = [False, True])\n",
    "\n",
    "cm_display.plot()\n",
    "plt.title(\"Confusion Matrix of hard margin \\nγ = 1000\")\n",
    "plt.show()"
   ]
  },
  {
   "cell_type": "code",
   "execution_count": 173,
   "id": "41fe1a1b",
   "metadata": {},
   "outputs": [
    {
     "data": {
      "text/plain": [
       "array([[  0, 263],\n",
       "       [  0, 367]])"
      ]
     },
     "execution_count": 173,
     "metadata": {},
     "output_type": "execute_result"
    }
   ],
   "source": [
    "confusion_matrix_soft = metrics.confusion_matrix(test.root_label, soft_predicted)\n",
    "confusion_matrix_soft"
   ]
  },
  {
   "cell_type": "code",
   "execution_count": 174,
   "id": "74a6d090",
   "metadata": {},
   "outputs": [
    {
     "data": {
      "image/png": "[encoded data removed]",
      "text/plain": [
       "<Figure size 432x288 with 2 Axes>"
      ]
     },
     "metadata": {
      "needs_background": "light"
     },
     "output_type": "display_data"
    }
   ],
   "source": [
    "cm_display2 = metrics.ConfusionMatrixDisplay(confusion_matrix = confusion_matrix_soft, display_labels = [False, True])\n",
    "\n",
    "cm_display2.plot()\n",
    "plt.title(\"Confusion Matrix of soft margin \\nγ = 0.0001\")\n",
    "plt.show()"
   ]
  },
  {
   "cell_type": "markdown",
   "id": "3629a51f",
   "metadata": {},
   "source": [
    "#### accuracy, recall, precision and F-1 score of both SVM classifiers on the testing set"
   ]
  },
  {
   "cell_type": "code",
   "execution_count": 176,
   "id": "d758c650",
   "metadata": {},
   "outputs": [
    {
     "name": "stdout",
     "output_type": "stream",
     "text": [
      "accuracy score of hard margin is 0.9634920634920635 \n",
      "recall score of hard margin is 0.9509536784741145 \n",
      "precision score of hard margin is 0.9858757062146892 \n",
      "f1 score of hard margin is 0.9680998613037448\n"
     ]
    }
   ],
   "source": [
    "print(\"accuracy score of hard margin is\",accuracy_score(test.root_label,hard_predicted),\n",
    "\"\\nrecall score of hard margin is\", recall_score(test.root_label,hard_predicted,\n",
    "                                                 average='binary',pos_label=\"sports\"),\n",
    "\"\\nprecision score of hard margin is\", precision_score(test.root_label,hard_predicted,\n",
    "                                                       average='binary',pos_label=\"sports\"),\n",
    "\"\\nf1 score of hard margin is\", f1_score(test.root_label,hard_predicted,pos_label=\"sports\"))"
   ]
  },
  {
   "cell_type": "code",
   "execution_count": 177,
   "id": "c46880ba",
   "metadata": {},
   "outputs": [
    {
     "name": "stdout",
     "output_type": "stream",
     "text": [
      "accuracy score of soft margin is 0.5825396825396826 \n",
      "recall score of soft margin is 1.0 \n",
      "precision score of soft margin is 0.5825396825396826 \n",
      "f1 score of soft margin is 0.7362086258776329\n"
     ]
    }
   ],
   "source": [
    "from sklearn.metrics import accuracy_score, recall_score, precision_score, f1_score\n",
    "print(\"accuracy score of soft margin is\",accuracy_score(test.root_label,soft_predicted),\n",
    "\"\\nrecall score of soft margin is\", recall_score(test.root_label,soft_predicted,\n",
    "                                                 average='binary',pos_label=\"sports\"),\n",
    "\"\\nprecision score of soft margin is\", precision_score(test.root_label,soft_predicted,\n",
    "                                                       average='binary',pos_label=\"sports\"),\n",
    "\"\\nf1 score of soft margin is\", f1_score(test.root_label,soft_predicted,pos_label=\"sports\"))"
   ]
  },
  {
   "cell_type": "markdown",
   "id": "98984cb8",
   "metadata": {},
   "source": [
    "#### – What happens for the soft margin SVM? Why is the case? Analyze in terms of the confusion matrix.\n",
    "#### Soft margin SVM has very low score and predict all False value to True. SVM with soft margin easily predict \"sports\" to \"climate\". "
   ]
  },
  {
   "cell_type": "markdown",
   "id": "8b4766ef",
   "metadata": {},
   "source": [
    "#### -Use cross-validation to choose γ (use average validation 3 accuracy to compare): Using a 5-fold cross-validation, find the best value of the parameter γ in the range {10k| − 3 ≤ k ≤ 6,k ∈ Z}. "
   ]
  },
  {
   "cell_type": "code",
   "execution_count": 86,
   "id": "92d3d711",
   "metadata": {},
   "outputs": [
    {
     "data": {
      "text/html": [
       "<style>#sk-container-id-17 {color: black;background-color: white;}#sk-container-id-17 pre{padding: 0;}#sk-container-id-17 div.sk-toggleable {background-color: white;}#sk-container-id-17 label.sk-toggleable__label {cursor: pointer;display: block;width: 100%;margin-bottom: 0;padding: 0.3em;box-sizing: border-box;text-align: center;}#sk-container-id-17 label.sk-toggleable__label-arrow:before {content: \"▸\";float: left;margin-right: 0.25em;color: #696969;}#sk-container-id-17 label.sk-toggleable__label-arrow:hover:before {color: black;}#sk-container-id-17 div.sk-estimator:hover label.sk-toggleable__label-arrow:before {color: black;}#sk-container-id-17 div.sk-toggleable__content {max-height: 0;max-width: 0;overflow: hidden;text-align: left;background-color: #f0f8ff;}#sk-container-id-17 div.sk-toggleable__content pre {margin: 0.2em;color: black;border-radius: 0.25em;background-color: #f0f8ff;}#sk-container-id-17 input.sk-toggleable__control:checked~div.sk-toggleable__content {max-height: 200px;max-width: 100%;overflow: auto;}#sk-container-id-17 input.sk-toggleable__control:checked~label.sk-toggleable__label-arrow:before {content: \"▾\";}#sk-container-id-17 div.sk-estimator input.sk-toggleable__control:checked~label.sk-toggleable__label {background-color: #d4ebff;}#sk-container-id-17 div.sk-label input.sk-toggleable__control:checked~label.sk-toggleable__label {background-color: #d4ebff;}#sk-container-id-17 input.sk-hidden--visually {border: 0;clip: rect(1px 1px 1px 1px);clip: rect(1px, 1px, 1px, 1px);height: 1px;margin: -1px;overflow: hidden;padding: 0;position: absolute;width: 1px;}#sk-container-id-17 div.sk-estimator {font-family: monospace;background-color: #f0f8ff;border: 1px dotted black;border-radius: 0.25em;box-sizing: border-box;margin-bottom: 0.5em;}#sk-container-id-17 div.sk-estimator:hover {background-color: #d4ebff;}#sk-container-id-17 div.sk-parallel-item::after {content: \"\";width: 100%;border-bottom: 1px solid gray;flex-grow: 1;}#sk-container-id-17 div.sk-label:hover label.sk-toggleable__label {background-color: #d4ebff;}#sk-container-id-17 div.sk-serial::before {content: \"\";position: absolute;border-left: 1px solid gray;box-sizing: border-box;top: 0;bottom: 0;left: 50%;z-index: 0;}#sk-container-id-17 div.sk-serial {display: flex;flex-direction: column;align-items: center;background-color: white;padding-right: 0.2em;padding-left: 0.2em;position: relative;}#sk-container-id-17 div.sk-item {position: relative;z-index: 1;}#sk-container-id-17 div.sk-parallel {display: flex;align-items: stretch;justify-content: center;background-color: white;position: relative;}#sk-container-id-17 div.sk-item::before, #sk-container-id-17 div.sk-parallel-item::before {content: \"\";position: absolute;border-left: 1px solid gray;box-sizing: border-box;top: 0;bottom: 0;left: 50%;z-index: -1;}#sk-container-id-17 div.sk-parallel-item {display: flex;flex-direction: column;z-index: 1;position: relative;background-color: white;}#sk-container-id-17 div.sk-parallel-item:first-child::after {align-self: flex-end;width: 50%;}#sk-container-id-17 div.sk-parallel-item:last-child::after {align-self: flex-start;width: 50%;}#sk-container-id-17 div.sk-parallel-item:only-child::after {width: 0;}#sk-container-id-17 div.sk-dashed-wrapped {border: 1px dashed gray;margin: 0 0.4em 0.5em 0.4em;box-sizing: border-box;padding-bottom: 0.4em;background-color: white;}#sk-container-id-17 div.sk-label label {font-family: monospace;font-weight: bold;display: inline-block;line-height: 1.2em;}#sk-container-id-17 div.sk-label-container {text-align: center;}#sk-container-id-17 div.sk-container {/* jupyter's `normalize.less` sets `[hidden] { display: none; }` but bootstrap.min.css set `[hidden] { display: none !important; }` so we also need the `!important` here to be able to override the default hidden behavior on the sphinx rendered scikit-learn.org. See: https://github.com/scikit-learn/scikit-learn/issues/21755 */display: inline-block !important;position: relative;}#sk-container-id-17 div.sk-text-repr-fallback {display: none;}</style><div id=\"sk-container-id-17\" class=\"sk-top-container\"><div class=\"sk-text-repr-fallback\"><pre>GridSearchCV(cv=5, estimator=SVC(kernel=&#x27;linear&#x27;, probability=True), n_jobs=10,\n",
       "             param_grid={&#x27;C&#x27;: [0.001, 0.01, 0.1, 1, 10, 100, 1000]},\n",
       "             scoring=&#x27;accuracy&#x27;)</pre><b>In a Jupyter environment, please rerun this cell to show the HTML representation or trust the notebook. <br />On GitHub, the HTML representation is unable to render, please try loading this page with nbviewer.org.</b></div><div class=\"sk-container\" hidden><div class=\"sk-item sk-dashed-wrapped\"><div class=\"sk-label-container\"><div class=\"sk-label sk-toggleable\"><input class=\"sk-toggleable__control sk-hidden--visually\" id=\"sk-estimator-id-25\" type=\"checkbox\" ><label for=\"sk-estimator-id-25\" class=\"sk-toggleable__label sk-toggleable__label-arrow\">GridSearchCV</label><div class=\"sk-toggleable__content\"><pre>GridSearchCV(cv=5, estimator=SVC(kernel=&#x27;linear&#x27;, probability=True), n_jobs=10,\n",
       "             param_grid={&#x27;C&#x27;: [0.001, 0.01, 0.1, 1, 10, 100, 1000]},\n",
       "             scoring=&#x27;accuracy&#x27;)</pre></div></div></div><div class=\"sk-parallel\"><div class=\"sk-parallel-item\"><div class=\"sk-item\"><div class=\"sk-label-container\"><div class=\"sk-label sk-toggleable\"><input class=\"sk-toggleable__control sk-hidden--visually\" id=\"sk-estimator-id-26\" type=\"checkbox\" ><label for=\"sk-estimator-id-26\" class=\"sk-toggleable__label sk-toggleable__label-arrow\">estimator: SVC</label><div class=\"sk-toggleable__content\"><pre>SVC(kernel=&#x27;linear&#x27;, probability=True)</pre></div></div></div><div class=\"sk-serial\"><div class=\"sk-item\"><div class=\"sk-estimator sk-toggleable\"><input class=\"sk-toggleable__control sk-hidden--visually\" id=\"sk-estimator-id-27\" type=\"checkbox\" ><label for=\"sk-estimator-id-27\" class=\"sk-toggleable__label sk-toggleable__label-arrow\">SVC</label><div class=\"sk-toggleable__content\"><pre>SVC(kernel=&#x27;linear&#x27;, probability=True)</pre></div></div></div></div></div></div></div></div></div></div>"
      ],
      "text/plain": [
       "GridSearchCV(cv=5, estimator=SVC(kernel='linear', probability=True), n_jobs=10,\n",
       "             param_grid={'C': [0.001, 0.01, 0.1, 1, 10, 100, 1000]},\n",
       "             scoring='accuracy')"
      ]
     },
     "execution_count": 86,
     "metadata": {},
     "output_type": "execute_result"
    }
   ],
   "source": [
    "from sklearn.model_selection import GridSearchCV\n",
    "params = {'C':[0.001,0.01,0.1,1,10,100,1000]}\n",
    "search = GridSearchCV(svm.SVC(kernel='linear', probability=True),params, n_jobs=10,cv=5,scoring='accuracy')\n",
    "search.fit(train_LSI50,train.root_label)\n"
   ]
  },
  {
   "cell_type": "code",
   "execution_count": 87,
   "id": "91a6e7a5",
   "metadata": {},
   "outputs": [
    {
     "data": {
      "text/plain": [
       "{'C': 100}"
      ]
     },
     "execution_count": 87,
     "metadata": {},
     "output_type": "execute_result"
    }
   ],
   "source": [
    "search.best_params_"
   ]
  },
  {
   "cell_type": "code",
   "execution_count": 88,
   "id": "0c66f83f",
   "metadata": {},
   "outputs": [],
   "source": [
    "clf_best = svm.SVC(kernel='linear', C = 100, probability=True)\n",
    "#clf_hard = LinearSVC(C=1000, random_state=42)\n",
    "clf_best.fit(train_LSI50, train.root_label)\n",
    "best_predicted = clf_best.predict(test_LSI50)"
   ]
  },
  {
   "cell_type": "code",
   "execution_count": 89,
   "id": "0419bbbf",
   "metadata": {},
   "outputs": [
    {
     "data": {
      "text/plain": [
       "array([[258,   5],\n",
       "       [ 17, 350]])"
      ]
     },
     "execution_count": 89,
     "metadata": {},
     "output_type": "execute_result"
    }
   ],
   "source": [
    "confusion_matrix_best = metrics.confusion_matrix(test.root_label, best_predicted)\n",
    "confusion_matrix_best"
   ]
  },
  {
   "cell_type": "markdown",
   "id": "58450ca4",
   "metadata": {},
   "source": [
    "## Logistic"
   ]
  },
  {
   "cell_type": "code",
   "execution_count": 98,
   "id": "25e32a87",
   "metadata": {},
   "outputs": [
    {
     "data": {
      "text/html": [
       "<style>#sk-container-id-21 {color: black;background-color: white;}#sk-container-id-21 pre{padding: 0;}#sk-container-id-21 div.sk-toggleable {background-color: white;}#sk-container-id-21 label.sk-toggleable__label {cursor: pointer;display: block;width: 100%;margin-bottom: 0;padding: 0.3em;box-sizing: border-box;text-align: center;}#sk-container-id-21 label.sk-toggleable__label-arrow:before {content: \"▸\";float: left;margin-right: 0.25em;color: #696969;}#sk-container-id-21 label.sk-toggleable__label-arrow:hover:before {color: black;}#sk-container-id-21 div.sk-estimator:hover label.sk-toggleable__label-arrow:before {color: black;}#sk-container-id-21 div.sk-toggleable__content {max-height: 0;max-width: 0;overflow: hidden;text-align: left;background-color: #f0f8ff;}#sk-container-id-21 div.sk-toggleable__content pre {margin: 0.2em;color: black;border-radius: 0.25em;background-color: #f0f8ff;}#sk-container-id-21 input.sk-toggleable__control:checked~div.sk-toggleable__content {max-height: 200px;max-width: 100%;overflow: auto;}#sk-container-id-21 input.sk-toggleable__control:checked~label.sk-toggleable__label-arrow:before {content: \"▾\";}#sk-container-id-21 div.sk-estimator input.sk-toggleable__control:checked~label.sk-toggleable__label {background-color: #d4ebff;}#sk-container-id-21 div.sk-label input.sk-toggleable__control:checked~label.sk-toggleable__label {background-color: #d4ebff;}#sk-container-id-21 input.sk-hidden--visually {border: 0;clip: rect(1px 1px 1px 1px);clip: rect(1px, 1px, 1px, 1px);height: 1px;margin: -1px;overflow: hidden;padding: 0;position: absolute;width: 1px;}#sk-container-id-21 div.sk-estimator {font-family: monospace;background-color: #f0f8ff;border: 1px dotted black;border-radius: 0.25em;box-sizing: border-box;margin-bottom: 0.5em;}#sk-container-id-21 div.sk-estimator:hover {background-color: #d4ebff;}#sk-container-id-21 div.sk-parallel-item::after {content: \"\";width: 100%;border-bottom: 1px solid gray;flex-grow: 1;}#sk-container-id-21 div.sk-label:hover label.sk-toggleable__label {background-color: #d4ebff;}#sk-container-id-21 div.sk-serial::before {content: \"\";position: absolute;border-left: 1px solid gray;box-sizing: border-box;top: 0;bottom: 0;left: 50%;z-index: 0;}#sk-container-id-21 div.sk-serial {display: flex;flex-direction: column;align-items: center;background-color: white;padding-right: 0.2em;padding-left: 0.2em;position: relative;}#sk-container-id-21 div.sk-item {position: relative;z-index: 1;}#sk-container-id-21 div.sk-parallel {display: flex;align-items: stretch;justify-content: center;background-color: white;position: relative;}#sk-container-id-21 div.sk-item::before, #sk-container-id-21 div.sk-parallel-item::before {content: \"\";position: absolute;border-left: 1px solid gray;box-sizing: border-box;top: 0;bottom: 0;left: 50%;z-index: -1;}#sk-container-id-21 div.sk-parallel-item {display: flex;flex-direction: column;z-index: 1;position: relative;background-color: white;}#sk-container-id-21 div.sk-parallel-item:first-child::after {align-self: flex-end;width: 50%;}#sk-container-id-21 div.sk-parallel-item:last-child::after {align-self: flex-start;width: 50%;}#sk-container-id-21 div.sk-parallel-item:only-child::after {width: 0;}#sk-container-id-21 div.sk-dashed-wrapped {border: 1px dashed gray;margin: 0 0.4em 0.5em 0.4em;box-sizing: border-box;padding-bottom: 0.4em;background-color: white;}#sk-container-id-21 div.sk-label label {font-family: monospace;font-weight: bold;display: inline-block;line-height: 1.2em;}#sk-container-id-21 div.sk-label-container {text-align: center;}#sk-container-id-21 div.sk-container {/* jupyter's `normalize.less` sets `[hidden] { display: none; }` but bootstrap.min.css set `[hidden] { display: none !important; }` so we also need the `!important` here to be able to override the default hidden behavior on the sphinx rendered scikit-learn.org. See: https://github.com/scikit-learn/scikit-learn/issues/21755 */display: inline-block !important;position: relative;}#sk-container-id-21 div.sk-text-repr-fallback {display: none;}</style><div id=\"sk-container-id-21\" class=\"sk-top-container\"><div class=\"sk-text-repr-fallback\"><pre>LogisticRegression(C=100000000000, random_state=42, solver=&#x27;liblinear&#x27;)</pre><b>In a Jupyter environment, please rerun this cell to show the HTML representation or trust the notebook. <br />On GitHub, the HTML representation is unable to render, please try loading this page with nbviewer.org.</b></div><div class=\"sk-container\" hidden><div class=\"sk-item\"><div class=\"sk-estimator sk-toggleable\"><input class=\"sk-toggleable__control sk-hidden--visually\" id=\"sk-estimator-id-35\" type=\"checkbox\" checked><label for=\"sk-estimator-id-35\" class=\"sk-toggleable__label sk-toggleable__label-arrow\">LogisticRegression</label><div class=\"sk-toggleable__content\"><pre>LogisticRegression(C=100000000000, random_state=42, solver=&#x27;liblinear&#x27;)</pre></div></div></div></div></div>"
      ],
      "text/plain": [
       "LogisticRegression(C=100000000000, random_state=42, solver='liblinear')"
      ]
     },
     "execution_count": 98,
     "metadata": {},
     "output_type": "execute_result"
    }
   ],
   "source": [
    "from sklearn.linear_model import LogisticRegression\n",
    "Logistic_r = LogisticRegression(C=10**11,solver='liblinear',random_state=42)\n",
    "Logistic_r.fit(train_LSI50,train.root_label)"
   ]
  },
  {
   "cell_type": "code",
   "execution_count": 99,
   "id": "cb8f188a",
   "metadata": {},
   "outputs": [],
   "source": [
    "Lr_no_predict = Logistic_r.predict(test_LSI50)"
   ]
  },
  {
   "cell_type": "code",
   "execution_count": 100,
   "id": "af4385b9",
   "metadata": {},
   "outputs": [
    {
     "name": "stdout",
     "output_type": "stream",
     "text": [
      "No regulerization\n",
      "[[258   5]\n",
      " [ 18 349]]\n"
     ]
    }
   ],
   "source": [
    "print(\"No regulerization\")\n",
    "print(metrics.confusion_matrix(test.root_label, Lr_no_predict))"
   ]
  },
  {
   "cell_type": "code",
   "execution_count": 101,
   "id": "6e5a2d80",
   "metadata": {},
   "outputs": [
    {
     "data": {
      "text/html": [
       "<style>#sk-container-id-22 {color: black;background-color: white;}#sk-container-id-22 pre{padding: 0;}#sk-container-id-22 div.sk-toggleable {background-color: white;}#sk-container-id-22 label.sk-toggleable__label {cursor: pointer;display: block;width: 100%;margin-bottom: 0;padding: 0.3em;box-sizing: border-box;text-align: center;}#sk-container-id-22 label.sk-toggleable__label-arrow:before {content: \"▸\";float: left;margin-right: 0.25em;color: #696969;}#sk-container-id-22 label.sk-toggleable__label-arrow:hover:before {color: black;}#sk-container-id-22 div.sk-estimator:hover label.sk-toggleable__label-arrow:before {color: black;}#sk-container-id-22 div.sk-toggleable__content {max-height: 0;max-width: 0;overflow: hidden;text-align: left;background-color: #f0f8ff;}#sk-container-id-22 div.sk-toggleable__content pre {margin: 0.2em;color: black;border-radius: 0.25em;background-color: #f0f8ff;}#sk-container-id-22 input.sk-toggleable__control:checked~div.sk-toggleable__content {max-height: 200px;max-width: 100%;overflow: auto;}#sk-container-id-22 input.sk-toggleable__control:checked~label.sk-toggleable__label-arrow:before {content: \"▾\";}#sk-container-id-22 div.sk-estimator input.sk-toggleable__control:checked~label.sk-toggleable__label {background-color: #d4ebff;}#sk-container-id-22 div.sk-label input.sk-toggleable__control:checked~label.sk-toggleable__label {background-color: #d4ebff;}#sk-container-id-22 input.sk-hidden--visually {border: 0;clip: rect(1px 1px 1px 1px);clip: rect(1px, 1px, 1px, 1px);height: 1px;margin: -1px;overflow: hidden;padding: 0;position: absolute;width: 1px;}#sk-container-id-22 div.sk-estimator {font-family: monospace;background-color: #f0f8ff;border: 1px dotted black;border-radius: 0.25em;box-sizing: border-box;margin-bottom: 0.5em;}#sk-container-id-22 div.sk-estimator:hover {background-color: #d4ebff;}#sk-container-id-22 div.sk-parallel-item::after {content: \"\";width: 100%;border-bottom: 1px solid gray;flex-grow: 1;}#sk-container-id-22 div.sk-label:hover label.sk-toggleable__label {background-color: #d4ebff;}#sk-container-id-22 div.sk-serial::before {content: \"\";position: absolute;border-left: 1px solid gray;box-sizing: border-box;top: 0;bottom: 0;left: 50%;z-index: 0;}#sk-container-id-22 div.sk-serial {display: flex;flex-direction: column;align-items: center;background-color: white;padding-right: 0.2em;padding-left: 0.2em;position: relative;}#sk-container-id-22 div.sk-item {position: relative;z-index: 1;}#sk-container-id-22 div.sk-parallel {display: flex;align-items: stretch;justify-content: center;background-color: white;position: relative;}#sk-container-id-22 div.sk-item::before, #sk-container-id-22 div.sk-parallel-item::before {content: \"\";position: absolute;border-left: 1px solid gray;box-sizing: border-box;top: 0;bottom: 0;left: 50%;z-index: -1;}#sk-container-id-22 div.sk-parallel-item {display: flex;flex-direction: column;z-index: 1;position: relative;background-color: white;}#sk-container-id-22 div.sk-parallel-item:first-child::after {align-self: flex-end;width: 50%;}#sk-container-id-22 div.sk-parallel-item:last-child::after {align-self: flex-start;width: 50%;}#sk-container-id-22 div.sk-parallel-item:only-child::after {width: 0;}#sk-container-id-22 div.sk-dashed-wrapped {border: 1px dashed gray;margin: 0 0.4em 0.5em 0.4em;box-sizing: border-box;padding-bottom: 0.4em;background-color: white;}#sk-container-id-22 div.sk-label label {font-family: monospace;font-weight: bold;display: inline-block;line-height: 1.2em;}#sk-container-id-22 div.sk-label-container {text-align: center;}#sk-container-id-22 div.sk-container {/* jupyter's `normalize.less` sets `[hidden] { display: none; }` but bootstrap.min.css set `[hidden] { display: none !important; }` so we also need the `!important` here to be able to override the default hidden behavior on the sphinx rendered scikit-learn.org. See: https://github.com/scikit-learn/scikit-learn/issues/21755 */display: inline-block !important;position: relative;}#sk-container-id-22 div.sk-text-repr-fallback {display: none;}</style><div id=\"sk-container-id-22\" class=\"sk-top-container\"><div class=\"sk-text-repr-fallback\"><pre>GridSearchCV(cv=5,\n",
       "             estimator=LogisticRegression(penalty=&#x27;l1&#x27;, random_state=42,\n",
       "                                          solver=&#x27;liblinear&#x27;),\n",
       "             n_jobs=10,\n",
       "             param_grid={&#x27;C&#x27;: [1e-05, 0.0001, 0.001, 0.01, 0.1, 1, 10, 100,\n",
       "                               1000, 10000, 100000]},\n",
       "             scoring=&#x27;accuracy&#x27;)</pre><b>In a Jupyter environment, please rerun this cell to show the HTML representation or trust the notebook. <br />On GitHub, the HTML representation is unable to render, please try loading this page with nbviewer.org.</b></div><div class=\"sk-container\" hidden><div class=\"sk-item sk-dashed-wrapped\"><div class=\"sk-label-container\"><div class=\"sk-label sk-toggleable\"><input class=\"sk-toggleable__control sk-hidden--visually\" id=\"sk-estimator-id-36\" type=\"checkbox\" ><label for=\"sk-estimator-id-36\" class=\"sk-toggleable__label sk-toggleable__label-arrow\">GridSearchCV</label><div class=\"sk-toggleable__content\"><pre>GridSearchCV(cv=5,\n",
       "             estimator=LogisticRegression(penalty=&#x27;l1&#x27;, random_state=42,\n",
       "                                          solver=&#x27;liblinear&#x27;),\n",
       "             n_jobs=10,\n",
       "             param_grid={&#x27;C&#x27;: [1e-05, 0.0001, 0.001, 0.01, 0.1, 1, 10, 100,\n",
       "                               1000, 10000, 100000]},\n",
       "             scoring=&#x27;accuracy&#x27;)</pre></div></div></div><div class=\"sk-parallel\"><div class=\"sk-parallel-item\"><div class=\"sk-item\"><div class=\"sk-label-container\"><div class=\"sk-label sk-toggleable\"><input class=\"sk-toggleable__control sk-hidden--visually\" id=\"sk-estimator-id-37\" type=\"checkbox\" ><label for=\"sk-estimator-id-37\" class=\"sk-toggleable__label sk-toggleable__label-arrow\">estimator: LogisticRegression</label><div class=\"sk-toggleable__content\"><pre>LogisticRegression(penalty=&#x27;l1&#x27;, random_state=42, solver=&#x27;liblinear&#x27;)</pre></div></div></div><div class=\"sk-serial\"><div class=\"sk-item\"><div class=\"sk-estimator sk-toggleable\"><input class=\"sk-toggleable__control sk-hidden--visually\" id=\"sk-estimator-id-38\" type=\"checkbox\" ><label for=\"sk-estimator-id-38\" class=\"sk-toggleable__label sk-toggleable__label-arrow\">LogisticRegression</label><div class=\"sk-toggleable__content\"><pre>LogisticRegression(penalty=&#x27;l1&#x27;, random_state=42, solver=&#x27;liblinear&#x27;)</pre></div></div></div></div></div></div></div></div></div></div>"
      ],
      "text/plain": [
       "GridSearchCV(cv=5,\n",
       "             estimator=LogisticRegression(penalty='l1', random_state=42,\n",
       "                                          solver='liblinear'),\n",
       "             n_jobs=10,\n",
       "             param_grid={'C': [1e-05, 0.0001, 0.001, 0.01, 0.1, 1, 10, 100,\n",
       "                               1000, 10000, 100000]},\n",
       "             scoring='accuracy')"
      ]
     },
     "execution_count": 101,
     "metadata": {},
     "output_type": "execute_result"
    }
   ],
   "source": [
    "params = {'C':[0.00001,0.0001,0.001,0.01,0.1,1,10,100,1000,10000,100000]}\n",
    "search_L1_lr = GridSearchCV(LogisticRegression(penalty='l1',solver='liblinear',random_state=42),params, n_jobs=10, cv=5,scoring='accuracy')\n",
    "search_L1_lr.fit(train_LSI50,train.root_label)"
   ]
  },
  {
   "cell_type": "code",
   "execution_count": 104,
   "id": "e56688ca",
   "metadata": {},
   "outputs": [
    {
     "data": {
      "text/html": [
       "<style>#sk-container-id-23 {color: black;background-color: white;}#sk-container-id-23 pre{padding: 0;}#sk-container-id-23 div.sk-toggleable {background-color: white;}#sk-container-id-23 label.sk-toggleable__label {cursor: pointer;display: block;width: 100%;margin-bottom: 0;padding: 0.3em;box-sizing: border-box;text-align: center;}#sk-container-id-23 label.sk-toggleable__label-arrow:before {content: \"▸\";float: left;margin-right: 0.25em;color: #696969;}#sk-container-id-23 label.sk-toggleable__label-arrow:hover:before {color: black;}#sk-container-id-23 div.sk-estimator:hover label.sk-toggleable__label-arrow:before {color: black;}#sk-container-id-23 div.sk-toggleable__content {max-height: 0;max-width: 0;overflow: hidden;text-align: left;background-color: #f0f8ff;}#sk-container-id-23 div.sk-toggleable__content pre {margin: 0.2em;color: black;border-radius: 0.25em;background-color: #f0f8ff;}#sk-container-id-23 input.sk-toggleable__control:checked~div.sk-toggleable__content {max-height: 200px;max-width: 100%;overflow: auto;}#sk-container-id-23 input.sk-toggleable__control:checked~label.sk-toggleable__label-arrow:before {content: \"▾\";}#sk-container-id-23 div.sk-estimator input.sk-toggleable__control:checked~label.sk-toggleable__label {background-color: #d4ebff;}#sk-container-id-23 div.sk-label input.sk-toggleable__control:checked~label.sk-toggleable__label {background-color: #d4ebff;}#sk-container-id-23 input.sk-hidden--visually {border: 0;clip: rect(1px 1px 1px 1px);clip: rect(1px, 1px, 1px, 1px);height: 1px;margin: -1px;overflow: hidden;padding: 0;position: absolute;width: 1px;}#sk-container-id-23 div.sk-estimator {font-family: monospace;background-color: #f0f8ff;border: 1px dotted black;border-radius: 0.25em;box-sizing: border-box;margin-bottom: 0.5em;}#sk-container-id-23 div.sk-estimator:hover {background-color: #d4ebff;}#sk-container-id-23 div.sk-parallel-item::after {content: \"\";width: 100%;border-bottom: 1px solid gray;flex-grow: 1;}#sk-container-id-23 div.sk-label:hover label.sk-toggleable__label {background-color: #d4ebff;}#sk-container-id-23 div.sk-serial::before {content: \"\";position: absolute;border-left: 1px solid gray;box-sizing: border-box;top: 0;bottom: 0;left: 50%;z-index: 0;}#sk-container-id-23 div.sk-serial {display: flex;flex-direction: column;align-items: center;background-color: white;padding-right: 0.2em;padding-left: 0.2em;position: relative;}#sk-container-id-23 div.sk-item {position: relative;z-index: 1;}#sk-container-id-23 div.sk-parallel {display: flex;align-items: stretch;justify-content: center;background-color: white;position: relative;}#sk-container-id-23 div.sk-item::before, #sk-container-id-23 div.sk-parallel-item::before {content: \"\";position: absolute;border-left: 1px solid gray;box-sizing: border-box;top: 0;bottom: 0;left: 50%;z-index: -1;}#sk-container-id-23 div.sk-parallel-item {display: flex;flex-direction: column;z-index: 1;position: relative;background-color: white;}#sk-container-id-23 div.sk-parallel-item:first-child::after {align-self: flex-end;width: 50%;}#sk-container-id-23 div.sk-parallel-item:last-child::after {align-self: flex-start;width: 50%;}#sk-container-id-23 div.sk-parallel-item:only-child::after {width: 0;}#sk-container-id-23 div.sk-dashed-wrapped {border: 1px dashed gray;margin: 0 0.4em 0.5em 0.4em;box-sizing: border-box;padding-bottom: 0.4em;background-color: white;}#sk-container-id-23 div.sk-label label {font-family: monospace;font-weight: bold;display: inline-block;line-height: 1.2em;}#sk-container-id-23 div.sk-label-container {text-align: center;}#sk-container-id-23 div.sk-container {/* jupyter's `normalize.less` sets `[hidden] { display: none; }` but bootstrap.min.css set `[hidden] { display: none !important; }` so we also need the `!important` here to be able to override the default hidden behavior on the sphinx rendered scikit-learn.org. See: https://github.com/scikit-learn/scikit-learn/issues/21755 */display: inline-block !important;position: relative;}#sk-container-id-23 div.sk-text-repr-fallback {display: none;}</style><div id=\"sk-container-id-23\" class=\"sk-top-container\"><div class=\"sk-text-repr-fallback\"><pre>GridSearchCV(cv=5,\n",
       "             estimator=LogisticRegression(random_state=42, solver=&#x27;liblinear&#x27;),\n",
       "             n_jobs=10,\n",
       "             param_grid={&#x27;C&#x27;: [1e-05, 0.0001, 0.001, 0.01, 0.1, 1, 10, 100,\n",
       "                               1000, 10000, 100000]},\n",
       "             scoring=&#x27;accuracy&#x27;)</pre><b>In a Jupyter environment, please rerun this cell to show the HTML representation or trust the notebook. <br />On GitHub, the HTML representation is unable to render, please try loading this page with nbviewer.org.</b></div><div class=\"sk-container\" hidden><div class=\"sk-item sk-dashed-wrapped\"><div class=\"sk-label-container\"><div class=\"sk-label sk-toggleable\"><input class=\"sk-toggleable__control sk-hidden--visually\" id=\"sk-estimator-id-39\" type=\"checkbox\" ><label for=\"sk-estimator-id-39\" class=\"sk-toggleable__label sk-toggleable__label-arrow\">GridSearchCV</label><div class=\"sk-toggleable__content\"><pre>GridSearchCV(cv=5,\n",
       "             estimator=LogisticRegression(random_state=42, solver=&#x27;liblinear&#x27;),\n",
       "             n_jobs=10,\n",
       "             param_grid={&#x27;C&#x27;: [1e-05, 0.0001, 0.001, 0.01, 0.1, 1, 10, 100,\n",
       "                               1000, 10000, 100000]},\n",
       "             scoring=&#x27;accuracy&#x27;)</pre></div></div></div><div class=\"sk-parallel\"><div class=\"sk-parallel-item\"><div class=\"sk-item\"><div class=\"sk-label-container\"><div class=\"sk-label sk-toggleable\"><input class=\"sk-toggleable__control sk-hidden--visually\" id=\"sk-estimator-id-40\" type=\"checkbox\" ><label for=\"sk-estimator-id-40\" class=\"sk-toggleable__label sk-toggleable__label-arrow\">estimator: LogisticRegression</label><div class=\"sk-toggleable__content\"><pre>LogisticRegression(random_state=42, solver=&#x27;liblinear&#x27;)</pre></div></div></div><div class=\"sk-serial\"><div class=\"sk-item\"><div class=\"sk-estimator sk-toggleable\"><input class=\"sk-toggleable__control sk-hidden--visually\" id=\"sk-estimator-id-41\" type=\"checkbox\" ><label for=\"sk-estimator-id-41\" class=\"sk-toggleable__label sk-toggleable__label-arrow\">LogisticRegression</label><div class=\"sk-toggleable__content\"><pre>LogisticRegression(random_state=42, solver=&#x27;liblinear&#x27;)</pre></div></div></div></div></div></div></div></div></div></div>"
      ],
      "text/plain": [
       "GridSearchCV(cv=5,\n",
       "             estimator=LogisticRegression(random_state=42, solver='liblinear'),\n",
       "             n_jobs=10,\n",
       "             param_grid={'C': [1e-05, 0.0001, 0.001, 0.01, 0.1, 1, 10, 100,\n",
       "                               1000, 10000, 100000]},\n",
       "             scoring='accuracy')"
      ]
     },
     "execution_count": 104,
     "metadata": {},
     "output_type": "execute_result"
    }
   ],
   "source": [
    "params = {'C':[0.00001,0.0001,0.001,0.01,0.1,1,10,100,1000,10000,100000]}\n",
    "search_L2_lr = GridSearchCV(LogisticRegression(penalty='l2',solver='liblinear',random_state=42),params, n_jobs=10, cv=5,scoring='accuracy')\n",
    "search_L2_lr.fit(train_LSI50,train.root_label)"
   ]
  },
  {
   "cell_type": "code",
   "execution_count": 106,
   "id": "56955aa3",
   "metadata": {},
   "outputs": [
    {
     "name": "stdout",
     "output_type": "stream",
     "text": [
      "{'C': 100}\n",
      "{'C': 1000}\n"
     ]
    }
   ],
   "source": [
    "print(search_L1_lr.best_params_)\n",
    "print(search_L2_lr.best_params_)"
   ]
  },
  {
   "cell_type": "code",
   "execution_count": null,
   "id": "51c8de31",
   "metadata": {},
   "outputs": [],
   "source": []
  }
 ],
 "metadata": {
  "kernelspec": {
   "display_name": "Python 3 (ipykernel)",
   "language": "python",
   "name": "python3"
  },
  "language_info": {
   "codemirror_mode": {
    "name": "ipython",
    "version": 3
   },
   "file_extension": ".py",
   "mimetype": "text/x-python",
   "name": "python",
   "nbconvert_exporter": "python",
   "pygments_lexer": "ipython3",
   "version": "3.9.12"
  }
 },
 "nbformat": 4,
 "nbformat_minor": 5
}
