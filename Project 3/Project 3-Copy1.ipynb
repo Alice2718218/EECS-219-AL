{
 "cells": [
  {
   "cell_type": "code",
   "execution_count": 1,
   "id": "b6d5c584",
   "metadata": {},
   "outputs": [],
   "source": [
    "import pandas as pd\n",
    "import numpy as np\n",
    "import matplotlib.pyplot as plt\n",
    "from collections import Counter\n",
    "from surprise import Dataset, Reader, BaselineOnly\n",
    "from surprise.prediction_algorithms.knns import KNNWithMeans\n",
    "from surprise.prediction_algorithms.algo_base import AlgoBase\n",
    "from surprise.model_selection import cross_validate\n",
    "from tqdm import tqdm"
   ]
  },
  {
   "cell_type": "code",
   "execution_count": 2,
   "id": "5e995f29",
   "metadata": {},
   "outputs": [],
   "source": [
    "rating = pd.read_csv(\"ratings.csv\")\n",
    "tag = pd.read_csv(\"tags.csv\")\n",
    "movie = pd.read_csv(\"movies.csv\")\n",
    "link = pd.read_csv(\"links.csv\")"
   ]
  },
  {
   "cell_type": "code",
   "execution_count": 3,
   "id": "df6d7c25",
   "metadata": {},
   "outputs": [
    {
     "data": {
      "text/html": [
       "<div>\n",
       "<style scoped>\n",
       "    .dataframe tbody tr th:only-of-type {\n",
       "        vertical-align: middle;\n",
       "    }\n",
       "\n",
       "    .dataframe tbody tr th {\n",
       "        vertical-align: top;\n",
       "    }\n",
       "\n",
       "    .dataframe thead th {\n",
       "        text-align: right;\n",
       "    }\n",
       "</style>\n",
       "<table border=\"1\" class=\"dataframe\">\n",
       "  <thead>\n",
       "    <tr style=\"text-align: right;\">\n",
       "      <th></th>\n",
       "      <th>Unnamed: 0</th>\n",
       "      <th>userId</th>\n",
       "      <th>movieId</th>\n",
       "      <th>rating</th>\n",
       "      <th>timestamp</th>\n",
       "    </tr>\n",
       "  </thead>\n",
       "  <tbody>\n",
       "    <tr>\n",
       "      <th>0</th>\n",
       "      <td>0</td>\n",
       "      <td>496</td>\n",
       "      <td>112852</td>\n",
       "      <td>3.0</td>\n",
       "      <td>1415520462</td>\n",
       "    </tr>\n",
       "    <tr>\n",
       "      <th>1</th>\n",
       "      <td>1</td>\n",
       "      <td>391</td>\n",
       "      <td>1947</td>\n",
       "      <td>4.0</td>\n",
       "      <td>1030945141</td>\n",
       "    </tr>\n",
       "    <tr>\n",
       "      <th>2</th>\n",
       "      <td>2</td>\n",
       "      <td>387</td>\n",
       "      <td>1562</td>\n",
       "      <td>1.5</td>\n",
       "      <td>1095041022</td>\n",
       "    </tr>\n",
       "    <tr>\n",
       "      <th>3</th>\n",
       "      <td>3</td>\n",
       "      <td>474</td>\n",
       "      <td>2716</td>\n",
       "      <td>4.5</td>\n",
       "      <td>1053020930</td>\n",
       "    </tr>\n",
       "    <tr>\n",
       "      <th>4</th>\n",
       "      <td>4</td>\n",
       "      <td>483</td>\n",
       "      <td>88125</td>\n",
       "      <td>4.5</td>\n",
       "      <td>1311337237</td>\n",
       "    </tr>\n",
       "    <tr>\n",
       "      <th>...</th>\n",
       "      <td>...</td>\n",
       "      <td>...</td>\n",
       "      <td>...</td>\n",
       "      <td>...</td>\n",
       "      <td>...</td>\n",
       "    </tr>\n",
       "    <tr>\n",
       "      <th>100831</th>\n",
       "      <td>100831</td>\n",
       "      <td>469</td>\n",
       "      <td>1219</td>\n",
       "      <td>4.0</td>\n",
       "      <td>965661925</td>\n",
       "    </tr>\n",
       "    <tr>\n",
       "      <th>100832</th>\n",
       "      <td>100832</td>\n",
       "      <td>599</td>\n",
       "      <td>3571</td>\n",
       "      <td>2.0</td>\n",
       "      <td>1498511343</td>\n",
       "    </tr>\n",
       "    <tr>\n",
       "      <th>100833</th>\n",
       "      <td>100833</td>\n",
       "      <td>414</td>\n",
       "      <td>276</td>\n",
       "      <td>3.0</td>\n",
       "      <td>961596299</td>\n",
       "    </tr>\n",
       "    <tr>\n",
       "      <th>100834</th>\n",
       "      <td>100834</td>\n",
       "      <td>395</td>\n",
       "      <td>168</td>\n",
       "      <td>3.0</td>\n",
       "      <td>841503984</td>\n",
       "    </tr>\n",
       "    <tr>\n",
       "      <th>100835</th>\n",
       "      <td>100835</td>\n",
       "      <td>288</td>\n",
       "      <td>2407</td>\n",
       "      <td>3.5</td>\n",
       "      <td>1054568795</td>\n",
       "    </tr>\n",
       "  </tbody>\n",
       "</table>\n",
       "<p>100836 rows × 5 columns</p>\n",
       "</div>"
      ],
      "text/plain": [
       "        Unnamed: 0  userId  movieId  rating   timestamp\n",
       "0                0     496   112852     3.0  1415520462\n",
       "1                1     391     1947     4.0  1030945141\n",
       "2                2     387     1562     1.5  1095041022\n",
       "3                3     474     2716     4.5  1053020930\n",
       "4                4     483    88125     4.5  1311337237\n",
       "...            ...     ...      ...     ...         ...\n",
       "100831      100831     469     1219     4.0   965661925\n",
       "100832      100832     599     3571     2.0  1498511343\n",
       "100833      100833     414      276     3.0   961596299\n",
       "100834      100834     395      168     3.0   841503984\n",
       "100835      100835     288     2407     3.5  1054568795\n",
       "\n",
       "[100836 rows x 5 columns]"
      ]
     },
     "execution_count": 3,
     "metadata": {},
     "output_type": "execute_result"
    }
   ],
   "source": [
    "rating"
   ]
  },
  {
   "cell_type": "markdown",
   "id": "dafa2458",
   "metadata": {},
   "source": [
    "# Question 1A"
   ]
  },
  {
   "cell_type": "code",
   "execution_count": 4,
   "id": "3005c31b",
   "metadata": {},
   "outputs": [],
   "source": [
    "user_num = len(set(rating[\"userId\"]))\n",
    "movie_num = len(set(rating[\"movieId\"]))\n",
    "rating_num = len(rating[\"rating\"])"
   ]
  },
  {
   "cell_type": "code",
   "execution_count": 5,
   "id": "17b50231",
   "metadata": {},
   "outputs": [
    {
     "name": "stdout",
     "output_type": "stream",
     "text": [
      "Sparsity is 0.016999683055613623\n"
     ]
    }
   ],
   "source": [
    "sparsity = rating_num / (movie_num*user_num)\n",
    "print(\"Sparsity is\", sparsity)"
   ]
  },
  {
   "cell_type": "markdown",
   "id": "50fe6329",
   "metadata": {},
   "source": [
    "# Question 1B"
   ]
  },
  {
   "cell_type": "code",
   "execution_count": 6,
   "id": "1a5e685d",
   "metadata": {},
   "outputs": [
    {
     "data": {
      "text/plain": [
       "Text(0.5, 1.0, 'Frequency of the Rating Values')"
      ]
     },
     "execution_count": 6,
     "metadata": {},
     "output_type": "execute_result"
    },
    {
     "data": {
      "image/png": "[encoded data removed]",
      "text/plain": [
       "<Figure size 640x480 with 1 Axes>"
      ]
     },
     "metadata": {},
     "output_type": "display_data"
    }
   ],
   "source": [
    "bins = np.linspace(0,5,num=11)\n",
    "rating_value = rating[\"rating\"]\n",
    "plt.hist(rating_value, bins=bins)\n",
    "plt.xlabel(\"binned rating values\")\n",
    "plt.ylabel(\"raw rating values\")\n",
    "plt.title(\"Frequency of the Rating Values\")"
   ]
  },
  {
   "cell_type": "markdown",
   "id": "f2b6ab3f",
   "metadata": {},
   "source": [
    "## Shape of the raw rating values approximately have trend of increasing but non-monotonically. "
   ]
  },
  {
   "cell_type": "markdown",
   "id": "92973701",
   "metadata": {},
   "source": [
    "# Question 1C"
   ]
  },
  {
   "cell_type": "code",
   "execution_count": 7,
   "id": "9b91c9e9",
   "metadata": {},
   "outputs": [
    {
     "data": {
      "text/plain": [
       "Text(0.5, 1.0, 'Distribution of Ratings Received Among Movies')"
      ]
     },
     "execution_count": 7,
     "metadata": {},
     "output_type": "execute_result"
    },
    {
     "data": {
      "image/png": "[encoded data removed]",
      "text/plain": [
       "<Figure size 640x480 with 1 Axes>"
      ]
     },
     "metadata": {},
     "output_type": "display_data"
    }
   ],
   "source": [
    "movie_index = rating[\"movieId\"]\n",
    "counter = Counter(movie_index)\n",
    "counter_dec = sorted(list(counter.values()), reverse=True)\n",
    "plt.hist(counter_dec)\n",
    "plt.xlabel(\"Movie ID\")\n",
    "plt.ylabel(\"Frequency of rating Movie ID\")\n",
    "plt.title(\"Distribution of Ratings Received Among Movies\")"
   ]
  },
  {
   "cell_type": "markdown",
   "id": "71f01f81",
   "metadata": {},
   "source": [
    "# Question 1D"
   ]
  },
  {
   "cell_type": "code",
   "execution_count": 8,
   "id": "9719fb99",
   "metadata": {},
   "outputs": [
    {
     "data": {
      "text/plain": [
       "Text(0.5, 1.0, 'Distribution of Ratings Received Among Users')"
      ]
     },
     "execution_count": 8,
     "metadata": {},
     "output_type": "execute_result"
    },
    {
     "data": {
      "image/png": "[encoded data removed]",
      "text/plain": [
       "<Figure size 640x480 with 1 Axes>"
      ]
     },
     "metadata": {},
     "output_type": "display_data"
    }
   ],
   "source": [
    "user_index = rating[\"userId\"]\n",
    "counter_user = Counter(user_index)\n",
    "counter_dec_user = sorted(list(counter_user.values()), reverse=True)\n",
    "plt.hist(counter_dec_user)\n",
    "plt.xlabel(\"User ID\")\n",
    "plt.ylabel(\"Frequency of rating User\")\n",
    "plt.title(\"Distribution of Ratings Received Among Users\")"
   ]
  },
  {
   "cell_type": "markdown",
   "id": "b3d9a5c7",
   "metadata": {},
   "source": [
    "# Question 1E\n",
    "## Distribution of both graphs have decreasing trend. Both of them have high frequency low movie ID and user ID. It shows that more lower movie ID was rated and people has low user ID rate more movie than high user ID. "
   ]
  },
  {
   "cell_type": "markdown",
   "id": "c4a706eb",
   "metadata": {},
   "source": [
    "# Question 1F"
   ]
  },
  {
   "cell_type": "code",
   "execution_count": 9,
   "id": "7d91e902",
   "metadata": {},
   "outputs": [
    {
     "data": {
      "text/html": [
       "<div>\n",
       "<style scoped>\n",
       "    .dataframe tbody tr th:only-of-type {\n",
       "        vertical-align: middle;\n",
       "    }\n",
       "\n",
       "    .dataframe tbody tr th {\n",
       "        vertical-align: top;\n",
       "    }\n",
       "\n",
       "    .dataframe thead th {\n",
       "        text-align: right;\n",
       "    }\n",
       "</style>\n",
       "<table border=\"1\" class=\"dataframe\">\n",
       "  <thead>\n",
       "    <tr style=\"text-align: right;\">\n",
       "      <th></th>\n",
       "      <th>rating</th>\n",
       "    </tr>\n",
       "    <tr>\n",
       "      <th>movieId</th>\n",
       "      <th></th>\n",
       "    </tr>\n",
       "  </thead>\n",
       "  <tbody>\n",
       "    <tr>\n",
       "      <th>1</th>\n",
       "      <td>0.696990</td>\n",
       "    </tr>\n",
       "    <tr>\n",
       "      <th>2</th>\n",
       "      <td>0.777419</td>\n",
       "    </tr>\n",
       "    <tr>\n",
       "      <th>3</th>\n",
       "      <td>1.112651</td>\n",
       "    </tr>\n",
       "    <tr>\n",
       "      <th>4</th>\n",
       "      <td>0.726190</td>\n",
       "    </tr>\n",
       "    <tr>\n",
       "      <th>5</th>\n",
       "      <td>0.822917</td>\n",
       "    </tr>\n",
       "    <tr>\n",
       "      <th>...</th>\n",
       "      <td>...</td>\n",
       "    </tr>\n",
       "    <tr>\n",
       "      <th>193581</th>\n",
       "      <td>NaN</td>\n",
       "    </tr>\n",
       "    <tr>\n",
       "      <th>193583</th>\n",
       "      <td>NaN</td>\n",
       "    </tr>\n",
       "    <tr>\n",
       "      <th>193585</th>\n",
       "      <td>NaN</td>\n",
       "    </tr>\n",
       "    <tr>\n",
       "      <th>193587</th>\n",
       "      <td>NaN</td>\n",
       "    </tr>\n",
       "    <tr>\n",
       "      <th>193609</th>\n",
       "      <td>NaN</td>\n",
       "    </tr>\n",
       "  </tbody>\n",
       "</table>\n",
       "<p>9724 rows × 1 columns</p>\n",
       "</div>"
      ],
      "text/plain": [
       "           rating\n",
       "movieId          \n",
       "1        0.696990\n",
       "2        0.777419\n",
       "3        1.112651\n",
       "4        0.726190\n",
       "5        0.822917\n",
       "...           ...\n",
       "193581        NaN\n",
       "193583        NaN\n",
       "193585        NaN\n",
       "193587        NaN\n",
       "193609        NaN\n",
       "\n",
       "[9724 rows x 1 columns]"
      ]
     },
     "execution_count": 9,
     "metadata": {},
     "output_type": "execute_result"
    }
   ],
   "source": [
    "rating_value = rating[[\"rating\", \"movieId\"]]\n",
    "vars_value = rating_value.groupby(['movieId']).var()\n",
    "vars_value"
   ]
  },
  {
   "cell_type": "code",
   "execution_count": 10,
   "id": "0774ec8e",
   "metadata": {},
   "outputs": [
    {
     "data": {
      "text/plain": [
       "Text(0.5, 1.0, 'variance of the rating values received by each movie')"
      ]
     },
     "execution_count": 10,
     "metadata": {},
     "output_type": "execute_result"
    },
    {
     "data": {
      "image/png": "[encoded data removed]",
      "text/plain": [
       "<Figure size 640x480 with 1 Axes>"
      ]
     },
     "metadata": {},
     "output_type": "display_data"
    }
   ],
   "source": [
    "plt.hist(vars_value, bins=20)\n",
    "plt.xlabel(\"binned variance values\")\n",
    "plt.ylabel(\"number of movies\")\n",
    "plt.title(\"variance of the rating values received by each movie\")"
   ]
  },
  {
   "cell_type": "markdown",
   "id": "7195cc66",
   "metadata": {},
   "source": [
    "## The shape of the variance plot has a decreasing trend. Most of the variance values focus on interval 0 to 2. After variance value=2, there's not too many movies. "
   ]
  },
  {
   "cell_type": "markdown",
   "id": "36c658c5",
   "metadata": {},
   "source": [
    "# Q3"
   ]
  },
  {
   "cell_type": "markdown",
   "id": "676ae4b8",
   "metadata": {},
   "source": [
    "# Q4"
   ]
  },
  {
   "cell_type": "code",
   "execution_count": 11,
   "id": "70a3b6ff",
   "metadata": {},
   "outputs": [],
   "source": [
    "reader = Reader(line_format=\"user item rating timestamp\", sep=\",\",rating_scale=(0.5,5),skip_lines=1)\n",
    "data_rating = Dataset.load_from_file(\"ratings.csv\", reader=reader)"
   ]
  },
  {
   "cell_type": "code",
   "execution_count": 12,
   "id": "7d5a750e",
   "metadata": {},
   "outputs": [],
   "source": [
    "df_q4=pd.DataFrame()\n",
    "temp = {}"
   ]
  },
  {
   "cell_type": "code",
   "execution_count": null,
   "id": "6e3dea55",
   "metadata": {
    "pycharm": {
     "is_executing": true
    }
   },
   "outputs": [],
   "source": [
    "the = cross_validate(KNNWithMeans(sim_options={'name':'pearson'},k=4,verbose=True),data_rating,cv=10)"
   ]
  },
  {
   "cell_type": "code",
   "execution_count": null,
   "id": "baa31ac2",
   "metadata": {
    "pycharm": {
     "is_executing": true
    }
   },
   "outputs": [],
   "source": [
    "# for x in tqdm(range(2,102,2)):\n",
    "#     the = cross_validate(KNNWithMeans(sim_options={'name':'pearson'},k=x),data_rating,cv=10)\n",
    "#     temp[x]=the\n",
    "#     row1 = {\n",
    "#     \"k\": x,\n",
    "#     \"Average_Rmse\": np.mean(the[\"test_rmse\"]),\n",
    "#     \"Average_Mae\": np.mean(the[\"test_mae\"])\n",
    "#     }\n",
    "#     df_q4 = df_q4.append(row1, ignore_index=True)"
   ]
  },
  {
   "cell_type": "code",
   "execution_count": null,
   "id": "0e5fd7c5",
   "metadata": {
    "pycharm": {
     "is_executing": true
    }
   },
   "outputs": [],
   "source": []
  },
  {
   "cell_type": "code",
   "execution_count": null,
   "id": "a2159dc5",
   "metadata": {
    "pycharm": {
     "is_executing": true
    }
   },
   "outputs": [],
   "source": [
    "# row1 = {\n",
    "#     \"clus_name\": \"AgglomerativeClustering with n_cluster=20\",\n",
    "#     \"reducer_name\": \"None\",\n",
    "#     \"r_n_components\": 5,\n",
    "#     \"Homogeneity\": homogeneity_score(data_train.target,temp.labels_),\n",
    "#     \"Completeness\": completeness_score(data_train.target,temp.labels_),\n",
    "#     \"V-measure\": v_measure_score(data_train.target,temp.labels_),\n",
    "#     \"Adjusted Rand Index\": adjusted_rand_score(data_train.target,temp.labels_),\n",
    "#     \"Adjusted mutual information score\": adjusted_mutual_info_score(data_train.target,temp.labels_),\n",
    "#     \"Average\": ((homogeneity_score(data_train.target,temp.labels_)+\n",
    "#                  completeness_score(data_train.target,temp.labels_)+\n",
    "#                  v_measure_score(data_train.target,temp.labels_)+\n",
    "#                  adjusted_rand_score(data_train.target,temp.labels_)+\n",
    "#                   adjusted_mutual_info_score(data_train.target,temp.labels_))/5),\n",
    "# }\n",
    "# df_q17 = df_q17.append(row1, ignore_index=True)"
   ]
  },
  {
   "cell_type": "code",
   "execution_count": null,
   "id": "48522fd3",
   "metadata": {
    "pycharm": {
     "is_executing": true
    }
   },
   "outputs": [],
   "source": []
  }
 ],
 "metadata": {
  "kernelspec": {
   "display_name": "Python 3 (ipykernel)",
   "language": "python",
   "name": "python3"
  },
  "language_info": {
   "codemirror_mode": {
    "name": "ipython",
    "version": 3
   },
   "file_extension": ".py",
   "mimetype": "text/x-python",
   "name": "python",
   "nbconvert_exporter": "python",
   "pygments_lexer": "ipython3",
   "version": "3.9.13"
  }
 },
 "nbformat": 4,
 "nbformat_minor": 5
}
