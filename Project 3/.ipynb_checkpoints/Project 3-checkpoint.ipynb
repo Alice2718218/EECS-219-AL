{
 "cells": [
  {
   "cell_type": "code",
   "execution_count": 190,
   "id": "617fc5bf",
   "metadata": {},
   "outputs": [],
   "source": [
    "import csv\n",
    "import pandas as pd\n",
    "from surprise import NMF\n",
    "from surprise import Dataset"
   ]
  },
  {
   "cell_type": "code",
   "execution_count": 2,
   "id": "a5133cfb",
   "metadata": {},
   "outputs": [],
   "source": [
    "data_movies=pd.read_csv('data/movies.csv')"
   ]
  },
  {
   "cell_type": "code",
   "execution_count": 3,
   "id": "b0ed63d7",
   "metadata": {},
   "outputs": [
    {
     "data": {
      "text/html": [
       "<div>\n",
       "<style scoped>\n",
       "    .dataframe tbody tr th:only-of-type {\n",
       "        vertical-align: middle;\n",
       "    }\n",
       "\n",
       "    .dataframe tbody tr th {\n",
       "        vertical-align: top;\n",
       "    }\n",
       "\n",
       "    .dataframe thead th {\n",
       "        text-align: right;\n",
       "    }\n",
       "</style>\n",
       "<table border=\"1\" class=\"dataframe\">\n",
       "  <thead>\n",
       "    <tr style=\"text-align: right;\">\n",
       "      <th></th>\n",
       "      <th>movieId</th>\n",
       "      <th>title</th>\n",
       "      <th>genres</th>\n",
       "    </tr>\n",
       "  </thead>\n",
       "  <tbody>\n",
       "    <tr>\n",
       "      <th>0</th>\n",
       "      <td>1</td>\n",
       "      <td>Toy Story (1995)</td>\n",
       "      <td>Adventure|Animation|Children|Comedy|Fantasy</td>\n",
       "    </tr>\n",
       "    <tr>\n",
       "      <th>1</th>\n",
       "      <td>2</td>\n",
       "      <td>Jumanji (1995)</td>\n",
       "      <td>Adventure|Children|Fantasy</td>\n",
       "    </tr>\n",
       "    <tr>\n",
       "      <th>2</th>\n",
       "      <td>3</td>\n",
       "      <td>Grumpier Old Men (1995)</td>\n",
       "      <td>Comedy|Romance</td>\n",
       "    </tr>\n",
       "    <tr>\n",
       "      <th>3</th>\n",
       "      <td>4</td>\n",
       "      <td>Waiting to Exhale (1995)</td>\n",
       "      <td>Comedy|Drama|Romance</td>\n",
       "    </tr>\n",
       "    <tr>\n",
       "      <th>4</th>\n",
       "      <td>5</td>\n",
       "      <td>Father of the Bride Part II (1995)</td>\n",
       "      <td>Comedy</td>\n",
       "    </tr>\n",
       "    <tr>\n",
       "      <th>...</th>\n",
       "      <td>...</td>\n",
       "      <td>...</td>\n",
       "      <td>...</td>\n",
       "    </tr>\n",
       "    <tr>\n",
       "      <th>9737</th>\n",
       "      <td>193581</td>\n",
       "      <td>Black Butler: Book of the Atlantic (2017)</td>\n",
       "      <td>Action|Animation|Comedy|Fantasy</td>\n",
       "    </tr>\n",
       "    <tr>\n",
       "      <th>9738</th>\n",
       "      <td>193583</td>\n",
       "      <td>No Game No Life: Zero (2017)</td>\n",
       "      <td>Animation|Comedy|Fantasy</td>\n",
       "    </tr>\n",
       "    <tr>\n",
       "      <th>9739</th>\n",
       "      <td>193585</td>\n",
       "      <td>Flint (2017)</td>\n",
       "      <td>Drama</td>\n",
       "    </tr>\n",
       "    <tr>\n",
       "      <th>9740</th>\n",
       "      <td>193587</td>\n",
       "      <td>Bungo Stray Dogs: Dead Apple (2018)</td>\n",
       "      <td>Action|Animation</td>\n",
       "    </tr>\n",
       "    <tr>\n",
       "      <th>9741</th>\n",
       "      <td>193609</td>\n",
       "      <td>Andrew Dice Clay: Dice Rules (1991)</td>\n",
       "      <td>Comedy</td>\n",
       "    </tr>\n",
       "  </tbody>\n",
       "</table>\n",
       "<p>9742 rows × 3 columns</p>\n",
       "</div>"
      ],
      "text/plain": [
       "      movieId                                      title  \\\n",
       "0           1                           Toy Story (1995)   \n",
       "1           2                             Jumanji (1995)   \n",
       "2           3                    Grumpier Old Men (1995)   \n",
       "3           4                   Waiting to Exhale (1995)   \n",
       "4           5         Father of the Bride Part II (1995)   \n",
       "...       ...                                        ...   \n",
       "9737   193581  Black Butler: Book of the Atlantic (2017)   \n",
       "9738   193583               No Game No Life: Zero (2017)   \n",
       "9739   193585                               Flint (2017)   \n",
       "9740   193587        Bungo Stray Dogs: Dead Apple (2018)   \n",
       "9741   193609        Andrew Dice Clay: Dice Rules (1991)   \n",
       "\n",
       "                                           genres  \n",
       "0     Adventure|Animation|Children|Comedy|Fantasy  \n",
       "1                      Adventure|Children|Fantasy  \n",
       "2                                  Comedy|Romance  \n",
       "3                            Comedy|Drama|Romance  \n",
       "4                                          Comedy  \n",
       "...                                           ...  \n",
       "9737              Action|Animation|Comedy|Fantasy  \n",
       "9738                     Animation|Comedy|Fantasy  \n",
       "9739                                        Drama  \n",
       "9740                             Action|Animation  \n",
       "9741                                       Comedy  \n",
       "\n",
       "[9742 rows x 3 columns]"
      ]
     },
     "execution_count": 3,
     "metadata": {},
     "output_type": "execute_result"
    }
   ],
   "source": [
    "data_movies"
   ]
  },
  {
   "cell_type": "code",
   "execution_count": 4,
   "id": "d92ce8fb",
   "metadata": {},
   "outputs": [],
   "source": [
    "data_ratings=pd.read_csv('data/ratings.csv')"
   ]
  },
  {
   "cell_type": "code",
   "execution_count": 5,
   "id": "01a03a30",
   "metadata": {},
   "outputs": [
    {
     "data": {
      "text/html": [
       "<div>\n",
       "<style scoped>\n",
       "    .dataframe tbody tr th:only-of-type {\n",
       "        vertical-align: middle;\n",
       "    }\n",
       "\n",
       "    .dataframe tbody tr th {\n",
       "        vertical-align: top;\n",
       "    }\n",
       "\n",
       "    .dataframe thead th {\n",
       "        text-align: right;\n",
       "    }\n",
       "</style>\n",
       "<table border=\"1\" class=\"dataframe\">\n",
       "  <thead>\n",
       "    <tr style=\"text-align: right;\">\n",
       "      <th></th>\n",
       "      <th>Unnamed: 0</th>\n",
       "      <th>userId</th>\n",
       "      <th>movieId</th>\n",
       "      <th>rating</th>\n",
       "      <th>timestamp</th>\n",
       "    </tr>\n",
       "  </thead>\n",
       "  <tbody>\n",
       "    <tr>\n",
       "      <th>0</th>\n",
       "      <td>0</td>\n",
       "      <td>496</td>\n",
       "      <td>112852</td>\n",
       "      <td>3.0</td>\n",
       "      <td>1415520462</td>\n",
       "    </tr>\n",
       "    <tr>\n",
       "      <th>1</th>\n",
       "      <td>1</td>\n",
       "      <td>391</td>\n",
       "      <td>1947</td>\n",
       "      <td>4.0</td>\n",
       "      <td>1030945141</td>\n",
       "    </tr>\n",
       "    <tr>\n",
       "      <th>2</th>\n",
       "      <td>2</td>\n",
       "      <td>387</td>\n",
       "      <td>1562</td>\n",
       "      <td>1.5</td>\n",
       "      <td>1095041022</td>\n",
       "    </tr>\n",
       "    <tr>\n",
       "      <th>3</th>\n",
       "      <td>3</td>\n",
       "      <td>474</td>\n",
       "      <td>2716</td>\n",
       "      <td>4.5</td>\n",
       "      <td>1053020930</td>\n",
       "    </tr>\n",
       "    <tr>\n",
       "      <th>4</th>\n",
       "      <td>4</td>\n",
       "      <td>483</td>\n",
       "      <td>88125</td>\n",
       "      <td>4.5</td>\n",
       "      <td>1311337237</td>\n",
       "    </tr>\n",
       "    <tr>\n",
       "      <th>...</th>\n",
       "      <td>...</td>\n",
       "      <td>...</td>\n",
       "      <td>...</td>\n",
       "      <td>...</td>\n",
       "      <td>...</td>\n",
       "    </tr>\n",
       "    <tr>\n",
       "      <th>100831</th>\n",
       "      <td>100831</td>\n",
       "      <td>469</td>\n",
       "      <td>1219</td>\n",
       "      <td>4.0</td>\n",
       "      <td>965661925</td>\n",
       "    </tr>\n",
       "    <tr>\n",
       "      <th>100832</th>\n",
       "      <td>100832</td>\n",
       "      <td>599</td>\n",
       "      <td>3571</td>\n",
       "      <td>2.0</td>\n",
       "      <td>1498511343</td>\n",
       "    </tr>\n",
       "    <tr>\n",
       "      <th>100833</th>\n",
       "      <td>100833</td>\n",
       "      <td>414</td>\n",
       "      <td>276</td>\n",
       "      <td>3.0</td>\n",
       "      <td>961596299</td>\n",
       "    </tr>\n",
       "    <tr>\n",
       "      <th>100834</th>\n",
       "      <td>100834</td>\n",
       "      <td>395</td>\n",
       "      <td>168</td>\n",
       "      <td>3.0</td>\n",
       "      <td>841503984</td>\n",
       "    </tr>\n",
       "    <tr>\n",
       "      <th>100835</th>\n",
       "      <td>100835</td>\n",
       "      <td>288</td>\n",
       "      <td>2407</td>\n",
       "      <td>3.5</td>\n",
       "      <td>1054568795</td>\n",
       "    </tr>\n",
       "  </tbody>\n",
       "</table>\n",
       "<p>100836 rows × 5 columns</p>\n",
       "</div>"
      ],
      "text/plain": [
       "        Unnamed: 0  userId  movieId  rating   timestamp\n",
       "0                0     496   112852     3.0  1415520462\n",
       "1                1     391     1947     4.0  1030945141\n",
       "2                2     387     1562     1.5  1095041022\n",
       "3                3     474     2716     4.5  1053020930\n",
       "4                4     483    88125     4.5  1311337237\n",
       "...            ...     ...      ...     ...         ...\n",
       "100831      100831     469     1219     4.0   965661925\n",
       "100832      100832     599     3571     2.0  1498511343\n",
       "100833      100833     414      276     3.0   961596299\n",
       "100834      100834     395      168     3.0   841503984\n",
       "100835      100835     288     2407     3.5  1054568795\n",
       "\n",
       "[100836 rows x 5 columns]"
      ]
     },
     "execution_count": 5,
     "metadata": {},
     "output_type": "execute_result"
    }
   ],
   "source": [
    "data_ratings"
   ]
  },
  {
   "cell_type": "code",
   "execution_count": 6,
   "id": "8fee381e",
   "metadata": {},
   "outputs": [
    {
     "data": {
      "text/plain": [
       "0         3.0\n",
       "1         4.0\n",
       "2         1.5\n",
       "3         4.5\n",
       "4         4.5\n",
       "         ... \n",
       "100831    4.0\n",
       "100832    2.0\n",
       "100833    3.0\n",
       "100834    3.0\n",
       "100835    3.5\n",
       "Name: rating, Length: 100836, dtype: float64"
      ]
     },
     "execution_count": 6,
     "metadata": {},
     "output_type": "execute_result"
    }
   ],
   "source": [
    "data_ratings['rating']"
   ]
  },
  {
   "cell_type": "code",
   "execution_count": 8,
   "id": "6d5d7922",
   "metadata": {},
   "outputs": [
    {
     "data": {
      "text/html": [
       "<div>\n",
       "<style scoped>\n",
       "    .dataframe tbody tr th:only-of-type {\n",
       "        vertical-align: middle;\n",
       "    }\n",
       "\n",
       "    .dataframe tbody tr th {\n",
       "        vertical-align: top;\n",
       "    }\n",
       "\n",
       "    .dataframe thead th {\n",
       "        text-align: right;\n",
       "    }\n",
       "</style>\n",
       "<table border=\"1\" class=\"dataframe\">\n",
       "  <thead>\n",
       "    <tr style=\"text-align: right;\">\n",
       "      <th></th>\n",
       "      <th>Unnamed: 0</th>\n",
       "      <th>userId</th>\n",
       "      <th>movieId</th>\n",
       "      <th>rating</th>\n",
       "      <th>timestamp</th>\n",
       "    </tr>\n",
       "  </thead>\n",
       "  <tbody>\n",
       "    <tr>\n",
       "      <th>0</th>\n",
       "      <td>0</td>\n",
       "      <td>496</td>\n",
       "      <td>112852</td>\n",
       "      <td>3.0</td>\n",
       "      <td>1415520462</td>\n",
       "    </tr>\n",
       "    <tr>\n",
       "      <th>1</th>\n",
       "      <td>1</td>\n",
       "      <td>391</td>\n",
       "      <td>1947</td>\n",
       "      <td>4.0</td>\n",
       "      <td>1030945141</td>\n",
       "    </tr>\n",
       "    <tr>\n",
       "      <th>2</th>\n",
       "      <td>2</td>\n",
       "      <td>387</td>\n",
       "      <td>1562</td>\n",
       "      <td>1.5</td>\n",
       "      <td>1095041022</td>\n",
       "    </tr>\n",
       "    <tr>\n",
       "      <th>3</th>\n",
       "      <td>3</td>\n",
       "      <td>474</td>\n",
       "      <td>2716</td>\n",
       "      <td>4.5</td>\n",
       "      <td>1053020930</td>\n",
       "    </tr>\n",
       "    <tr>\n",
       "      <th>4</th>\n",
       "      <td>4</td>\n",
       "      <td>483</td>\n",
       "      <td>88125</td>\n",
       "      <td>4.5</td>\n",
       "      <td>1311337237</td>\n",
       "    </tr>\n",
       "    <tr>\n",
       "      <th>...</th>\n",
       "      <td>...</td>\n",
       "      <td>...</td>\n",
       "      <td>...</td>\n",
       "      <td>...</td>\n",
       "      <td>...</td>\n",
       "    </tr>\n",
       "    <tr>\n",
       "      <th>100831</th>\n",
       "      <td>100831</td>\n",
       "      <td>469</td>\n",
       "      <td>1219</td>\n",
       "      <td>4.0</td>\n",
       "      <td>965661925</td>\n",
       "    </tr>\n",
       "    <tr>\n",
       "      <th>100832</th>\n",
       "      <td>100832</td>\n",
       "      <td>599</td>\n",
       "      <td>3571</td>\n",
       "      <td>2.0</td>\n",
       "      <td>1498511343</td>\n",
       "    </tr>\n",
       "    <tr>\n",
       "      <th>100833</th>\n",
       "      <td>100833</td>\n",
       "      <td>414</td>\n",
       "      <td>276</td>\n",
       "      <td>3.0</td>\n",
       "      <td>961596299</td>\n",
       "    </tr>\n",
       "    <tr>\n",
       "      <th>100834</th>\n",
       "      <td>100834</td>\n",
       "      <td>395</td>\n",
       "      <td>168</td>\n",
       "      <td>3.0</td>\n",
       "      <td>841503984</td>\n",
       "    </tr>\n",
       "    <tr>\n",
       "      <th>100835</th>\n",
       "      <td>100835</td>\n",
       "      <td>288</td>\n",
       "      <td>2407</td>\n",
       "      <td>3.5</td>\n",
       "      <td>1054568795</td>\n",
       "    </tr>\n",
       "  </tbody>\n",
       "</table>\n",
       "<p>100836 rows × 5 columns</p>\n",
       "</div>"
      ],
      "text/plain": [
       "        Unnamed: 0  userId  movieId  rating   timestamp\n",
       "0                0     496   112852     3.0  1415520462\n",
       "1                1     391     1947     4.0  1030945141\n",
       "2                2     387     1562     1.5  1095041022\n",
       "3                3     474     2716     4.5  1053020930\n",
       "4                4     483    88125     4.5  1311337237\n",
       "...            ...     ...      ...     ...         ...\n",
       "100831      100831     469     1219     4.0   965661925\n",
       "100832      100832     599     3571     2.0  1498511343\n",
       "100833      100833     414      276     3.0   961596299\n",
       "100834      100834     395      168     3.0   841503984\n",
       "100835      100835     288     2407     3.5  1054568795\n",
       "\n",
       "[100836 rows x 5 columns]"
      ]
     },
     "execution_count": 8,
     "metadata": {},
     "output_type": "execute_result"
    }
   ],
   "source": [
    "data_ratings.dropna()"
   ]
  },
  {
   "cell_type": "code",
   "execution_count": 13,
   "id": "11a3add2",
   "metadata": {},
   "outputs": [
    {
     "data": {
      "text/plain": [
       "193609"
      ]
     },
     "execution_count": 13,
     "metadata": {},
     "output_type": "execute_result"
    }
   ],
   "source": [
    "data_ratings['movieId'].max()"
   ]
  },
  {
   "cell_type": "code",
   "execution_count": 14,
   "id": "1aa7e349",
   "metadata": {},
   "outputs": [
    {
     "data": {
      "text/plain": [
       "610"
      ]
     },
     "execution_count": 14,
     "metadata": {},
     "output_type": "execute_result"
    }
   ],
   "source": [
    "data_ratings['userId'].max()"
   ]
  },
  {
   "cell_type": "code",
   "execution_count": null,
   "id": "dd157ade",
   "metadata": {},
   "outputs": [],
   "source": []
  },
  {
   "cell_type": "code",
   "execution_count": 6,
   "id": "97941ac0",
   "metadata": {},
   "outputs": [],
   "source": [
    "import numpy as np\n",
    "R=np.zeros((data_ratings['userId'].max()+1,data_ratings['movieId'].max()+1))\n"
   ]
  },
  {
   "cell_type": "code",
   "execution_count": 7,
   "id": "17d4d708",
   "metadata": {},
   "outputs": [],
   "source": [
    "df=zip(data_ratings['userId'],data_ratings['movieId'],data_ratings['rating'])"
   ]
  },
  {
   "cell_type": "code",
   "execution_count": 8,
   "id": "db0d6a6f",
   "metadata": {},
   "outputs": [],
   "source": [
    "for user,movie,rating in df:\n",
    "    R[user][movie]=rating"
   ]
  },
  {
   "cell_type": "code",
   "execution_count": 9,
   "id": "f61fc765",
   "metadata": {},
   "outputs": [
    {
     "data": {
      "text/plain": [
       "(611, 193610)"
      ]
     },
     "execution_count": 9,
     "metadata": {},
     "output_type": "execute_result"
    }
   ],
   "source": [
    "R.shape"
   ]
  },
  {
   "cell_type": "code",
   "execution_count": 41,
   "id": "c7f44826",
   "metadata": {},
   "outputs": [],
   "source": [
    "num_users=R.shape[0]\n",
    "num_movies=R.shape[1]"
   ]
  },
  {
   "cell_type": "code",
   "execution_count": 96,
   "id": "041beaf4",
   "metadata": {},
   "outputs": [],
   "source": [
    "vars_value = rating_value.groupby(['movieId'],as_index=False).var()\n"
   ]
  },
  {
   "cell_type": "code",
   "execution_count": 138,
   "id": "82ca327f",
   "metadata": {},
   "outputs": [],
   "source": [
    "#Subset\n",
    "#Popular\n",
    "popular = data_ratings[data_ratings['movieId'].map(data_ratings['movieId'].value_counts()) > 2].reset_index(drop=True)\n",
    "#Unpopular\n",
    "unpopular = data_ratings[data_ratings['movieId'].map(data_ratings['movieId'].value_counts()) <= 2].reset_index(drop=True)\n",
    "#High variance\n",
    "hii = data_ratings[data_ratings['movieId'].map(data_ratings['movieId'].value_counts()) >= 5].reset_index(drop=True)\n",
    "\n",
    "high = hii[hii['movieId'].isin(set(vars_value.loc[vars_value[\"rating\"]>=2][\"movieId\"]))].reset_index(drop=True)"
   ]
  },
  {
   "cell_type": "code",
   "execution_count": 37,
   "id": "95c89532",
   "metadata": {},
   "outputs": [],
   "source": [
    "#Q6\n",
    "#Yes, with fixed U, the equation is just as a least square problem where r is y and U is k and V^T is x. Least square\n",
    "#is convex thus this equation is convex."
   ]
  },
  {
   "cell_type": "code",
   "execution_count": 43,
   "id": "e25a80fc",
   "metadata": {},
   "outputs": [],
   "source": [
    "\n",
    "from sklearn.metrics import mean_squared_error\n",
    "from math import sqrt\n",
    "from sklearn.metrics import mean_absolute_error"
   ]
  },
  {
   "cell_type": "code",
   "execution_count": 39,
   "id": "7ef56e7d",
   "metadata": {},
   "outputs": [],
   "source": [
    "from sklearn.model_selection import KFold\n",
    "kfold=KFold(10,shuffle=True,random_state=42)"
   ]
  },
  {
   "cell_type": "code",
   "execution_count": 40,
   "id": "e5b9a8d8",
   "metadata": {},
   "outputs": [],
   "source": [
    "from collections import defaultdict"
   ]
  },
  {
   "cell_type": "code",
   "execution_count": 10,
   "id": "1a0b0381",
   "metadata": {},
   "outputs": [],
   "source": [
    "from surprise import Dataset, NormalPredictor, Reader\n",
    "reader = Reader(rating_scale=(0.5, 5))"
   ]
  },
  {
   "cell_type": "code",
   "execution_count": 139,
   "id": "fa4b99c2",
   "metadata": {},
   "outputs": [],
   "source": [
    "def train_and_predict(dataset):\n",
    "    kdict=defaultdict(tuple)\n",
    "    for k in range(2,52,2):\n",
    "        RMSE=0\n",
    "        MAE=0\n",
    "        for train_idx,valid_idx in kfold.split(dataset):\n",
    "            train=Dataset.load_from_df(dataset.loc[train_idx,['userId','movieId','rating']],reader)\n",
    "            validation=dataset.loc[valid_idx,['userId','movieId','rating']].to_numpy()\n",
    "            nmf=NMF(n_factors=k,random_state=42)\n",
    "            nmf.fit(train.build_full_trainset())\n",
    "            predict=np.zeros_like(validation)\n",
    "            for i in range(validation.shape[0]):\n",
    "                user,item=validation[i][0],validation[i][1]\n",
    "                pred=nmf.predict(user,item)\n",
    "                predict[i]=[user,item,pred.est]\n",
    "            RMSE+=sqrt(mean_squared_error(validation[:,2],predict[:,2]))\n",
    "            MAE+=mean_absolute_error(validation[:,2],predict[:,2])\n",
    "        avgRMSE=RMSE/10\n",
    "        avgMAE=MAE/10\n",
    "        print('Done with k of value {}, get an avgRMSE of {} and an avgMAE of {}'.format(k,avgRMSE,avgMAE))\n",
    "        kdict[k]=(avgRMSE,avgMAE)\n",
    "    return kdict"
   ]
  },
  {
   "cell_type": "code",
   "execution_count": 142,
   "id": "c9f88297",
   "metadata": {},
   "outputs": [
    {
     "name": "stdout",
     "output_type": "stream",
     "text": [
      "Done with k of value 2, get an avgRMSE of 1.1489562171988301 and an avgMAE of 0.9664932586450607\n",
      "Done with k of value 4, get an avgRMSE of 1.040512317383016 and an avgMAE of 0.8505933039063329\n",
      "Done with k of value 6, get an avgRMSE of 0.98443444801166 and an avgMAE of 0.7890123449539304\n",
      "Done with k of value 8, get an avgRMSE of 0.9506656090717446 and an avgMAE of 0.7490546442678965\n",
      "Done with k of value 10, get an avgRMSE of 0.9320661606579479 and an avgMAE of 0.7254818372221062\n",
      "Done with k of value 12, get an avgRMSE of 0.9213370943644241 and an avgMAE of 0.7115198380622083\n",
      "Done with k of value 14, get an avgRMSE of 0.9184265015572961 and an avgMAE of 0.7045920957943321\n",
      "Done with k of value 16, get an avgRMSE of 0.9147151389639345 and an avgMAE of 0.6984552026112235\n",
      "Done with k of value 18, get an avgRMSE of 0.9132728166746364 and an avgMAE of 0.6948384242116434\n",
      "Done with k of value 20, get an avgRMSE of 0.9154437320989057 and an avgMAE of 0.6953094095703346\n",
      "Done with k of value 22, get an avgRMSE of 0.9163727817954028 and an avgMAE of 0.6936572816831419\n",
      "Done with k of value 24, get an avgRMSE of 0.9193353200841035 and an avgMAE of 0.6960090131247041\n",
      "Done with k of value 26, get an avgRMSE of 0.9223144692592076 and an avgMAE of 0.6967272322860973\n",
      "Done with k of value 28, get an avgRMSE of 0.9263207952299908 and an avgMAE of 0.6991962577935411\n",
      "Done with k of value 30, get an avgRMSE of 0.9291879618328271 and an avgMAE of 0.6997944654135742\n",
      "Done with k of value 32, get an avgRMSE of 0.9333287074236413 and an avgMAE of 0.7033981701539871\n",
      "Done with k of value 34, get an avgRMSE of 0.9378808883950864 and an avgMAE of 0.7061851639700014\n",
      "Done with k of value 36, get an avgRMSE of 0.9407730640608438 and an avgMAE of 0.7078471713877379\n",
      "Done with k of value 38, get an avgRMSE of 0.9457877466351615 and an avgMAE of 0.7121276791354977\n",
      "Done with k of value 40, get an avgRMSE of 0.9483889065154377 and an avgMAE of 0.7139591226106224\n",
      "Done with k of value 42, get an avgRMSE of 0.9529282384248224 and an avgMAE of 0.717468596832344\n",
      "Done with k of value 44, get an avgRMSE of 0.955935705323745 and an avgMAE of 0.7200532222785825\n",
      "Done with k of value 46, get an avgRMSE of 0.9602693847304966 and an avgMAE of 0.7236052342519249\n",
      "Done with k of value 48, get an avgRMSE of 0.964914372654035 and an avgMAE of 0.7265945283455006\n",
      "Done with k of value 50, get an avgRMSE of 0.9683942623475799 and an avgMAE of 0.7301098284817259\n"
     ]
    }
   ],
   "source": [
    "k_dict=train_and_predict(data_ratings)"
   ]
  },
  {
   "cell_type": "code",
   "execution_count": 144,
   "id": "dbae8374",
   "metadata": {},
   "outputs": [],
   "source": [
    "def plot_graph(error_dict,title):\n",
    "    Xs=list(error_dict.keys())\n",
    "    RMSEs,MAEs=list(zip(*error_dict.values()))\n",
    "    plt.plot(Xs,RMSEs,label='RMSE')\n",
    "    plt.plot(Xs,MAEs,label='MAE')\n",
    "    plt.title(title)\n",
    "    plt.xlabel('k')\n",
    "    plt.ylabel('error')\n",
    "    plt.legend()\n",
    "    plt.show()"
   ]
  },
  {
   "cell_type": "code",
   "execution_count": 149,
   "id": "cf0d47bd",
   "metadata": {},
   "outputs": [],
   "source": [
    "def plot_RMSE(error_dict,title):\n",
    "    Xs=list(error_dict.keys())\n",
    "    RMSEs,MAEs=list(zip(*error_dict.values()))\n",
    "    plt.plot(Xs,RMSEs,label='RMSE')\n",
    "    plt.title(title)\n",
    "    plt.xlabel('k')\n",
    "    plt.ylabel('RMSE')\n",
    "    plt.legend()\n",
    "    plt.show()"
   ]
  },
  {
   "cell_type": "code",
   "execution_count": 146,
   "id": "3c89330c",
   "metadata": {},
   "outputs": [
    {
     "data": {
      "image/png": "[encoded data removed]",
      "text/plain": [
       "<Figure size 640x480 with 1 Axes>"
      ]
     },
     "metadata": {},
     "output_type": "display_data"
    }
   ],
   "source": [
    "plot_graph(k_dict,'RMSE_MAE_FOR_ORIGINAL')"
   ]
  },
  {
   "cell_type": "code",
   "execution_count": 183,
   "id": "7e7b9e02",
   "metadata": {},
   "outputs": [],
   "source": [
    "#Q8B\n",
    "#The minimum average RMSE is 0.9132728166746364 and minimum avgMAE is 0.6948384242116434. This happens when we have a \n",
    "#k of 18 which is the same as number of movie genres"
   ]
  },
  {
   "cell_type": "code",
   "execution_count": 147,
   "id": "ed89909f",
   "metadata": {},
   "outputs": [
    {
     "name": "stdout",
     "output_type": "stream",
     "text": [
      "popular\n",
      "Done with k of value 2, get an avgRMSE of 1.1429383297603133 and an avgMAE of 0.9661534080313358\n",
      "Done with k of value 4, get an avgRMSE of 1.027548287898095 and an avgMAE of 0.8435514814033326\n",
      "Done with k of value 6, get an avgRMSE of 0.967762504699437 and an avgMAE of 0.777884512898847\n",
      "Done with k of value 8, get an avgRMSE of 0.9313148907924786 and an avgMAE of 0.7353185106930301\n",
      "Done with k of value 10, get an avgRMSE of 0.9141876855107268 and an avgMAE of 0.7147421780094562\n",
      "Done with k of value 12, get an avgRMSE of 0.900929475796168 and an avgMAE of 0.6973520283167024\n",
      "Done with k of value 14, get an avgRMSE of 0.8960911524103725 and an avgMAE of 0.6888747027216567\n",
      "Done with k of value 16, get an avgRMSE of 0.8954620843753694 and an avgMAE of 0.6857305554587364\n",
      "Done with k of value 18, get an avgRMSE of 0.8914436799781187 and an avgMAE of 0.6803121066063234\n",
      "Done with k of value 20, get an avgRMSE of 0.8948581468381619 and an avgMAE of 0.6807150725390789\n",
      "Done with k of value 22, get an avgRMSE of 0.8983487333962643 and an avgMAE of 0.6803050542373262\n",
      "Done with k of value 24, get an avgRMSE of 0.901883567015411 and an avgMAE of 0.6825488568065433\n",
      "Done with k of value 26, get an avgRMSE of 0.9048065771960097 and an avgMAE of 0.6828357881328361\n",
      "Done with k of value 28, get an avgRMSE of 0.9073368047384645 and an avgMAE of 0.6851620714394147\n",
      "Done with k of value 30, get an avgRMSE of 0.9116389529825689 and an avgMAE of 0.6875618111141043\n",
      "Done with k of value 32, get an avgRMSE of 0.91412143792845 and an avgMAE of 0.6888339043754113\n",
      "Done with k of value 34, get an avgRMSE of 0.9203946424035585 and an avgMAE of 0.6933680336902357\n",
      "Done with k of value 36, get an avgRMSE of 0.9236880189536543 and an avgMAE of 0.6952747725607312\n",
      "Done with k of value 38, get an avgRMSE of 0.9282416183122454 and an avgMAE of 0.6982755032517922\n",
      "Done with k of value 40, get an avgRMSE of 0.9325211719730525 and an avgMAE of 0.7022751442808909\n",
      "Done with k of value 42, get an avgRMSE of 0.9334408678190496 and an avgMAE of 0.7025547150613184\n",
      "Done with k of value 44, get an avgRMSE of 0.9416405341436018 and an avgMAE of 0.709478474127804\n",
      "Done with k of value 46, get an avgRMSE of 0.9448832185450916 and an avgMAE of 0.711806263365919\n",
      "Done with k of value 48, get an avgRMSE of 0.9486430163919193 and an avgMAE of 0.7145436895660058\n",
      "Done with k of value 50, get an avgRMSE of 0.9510371807866482 and an avgMAE of 0.7159624869325985\n",
      "unpopular\n",
      "Done with k of value 2, get an avgRMSE of 1.2391409178969486 and an avgMAE of 1.004908245754427\n",
      "Done with k of value 4, get an avgRMSE of 1.2402118246393328 and an avgMAE of 1.005706983773284\n",
      "Done with k of value 6, get an avgRMSE of 1.2264007525002703 and an avgMAE of 0.9969190281508269\n",
      "Done with k of value 8, get an avgRMSE of 1.2073422508937193 and an avgMAE of 0.9788274364357126\n",
      "Done with k of value 10, get an avgRMSE of 1.1928480636354437 and an avgMAE of 0.9661579233815913\n",
      "Done with k of value 12, get an avgRMSE of 1.176320226367956 and an avgMAE of 0.9498656755816137\n",
      "Done with k of value 14, get an avgRMSE of 1.165302860754271 and an avgMAE of 0.9393052784234627\n",
      "Done with k of value 16, get an avgRMSE of 1.162838411006709 and an avgMAE of 0.9353255350310178\n",
      "Done with k of value 18, get an avgRMSE of 1.1566600012517096 and an avgMAE of 0.9319002986075817\n",
      "Done with k of value 20, get an avgRMSE of 1.1503753329213224 and an avgMAE of 0.9240557613877641\n",
      "Done with k of value 22, get an avgRMSE of 1.1518803430167035 and an avgMAE of 0.9258062934127306\n",
      "Done with k of value 24, get an avgRMSE of 1.1446743167957678 and an avgMAE of 0.919757966775513\n",
      "Done with k of value 26, get an avgRMSE of 1.1437402424426921 and an avgMAE of 0.9172088575160575\n",
      "Done with k of value 28, get an avgRMSE of 1.1419696643031254 and an avgMAE of 0.9163966946191369\n",
      "Done with k of value 30, get an avgRMSE of 1.1409319139914038 and an avgMAE of 0.9167670942509784\n",
      "Done with k of value 32, get an avgRMSE of 1.1367233639138756 and an avgMAE of 0.9110187600914372\n",
      "Done with k of value 34, get an avgRMSE of 1.1368651734810369 and an avgMAE of 0.9114933584034768\n",
      "Done with k of value 36, get an avgRMSE of 1.1368156998150467 and an avgMAE of 0.9108446732658528\n",
      "Done with k of value 38, get an avgRMSE of 1.1349066228144693 and an avgMAE of 0.9081112826521768\n",
      "Done with k of value 40, get an avgRMSE of 1.1341704843020444 and an avgMAE of 0.9079177476684566\n",
      "Done with k of value 42, get an avgRMSE of 1.1348675866288551 and an avgMAE of 0.9077058706928132\n",
      "Done with k of value 44, get an avgRMSE of 1.1333867251431458 and an avgMAE of 0.905771892696108\n",
      "Done with k of value 46, get an avgRMSE of 1.1328187100288507 and an avgMAE of 0.9048582086145892\n",
      "Done with k of value 48, get an avgRMSE of 1.133180087728522 and an avgMAE of 0.90585156620673\n",
      "Done with k of value 50, get an avgRMSE of 1.132408583195115 and an avgMAE of 0.9061665198531752\n",
      "high variance\n",
      "Done with k of value 2, get an avgRMSE of 1.638106245053585 and an avgMAE of 1.327417041184981\n",
      "Done with k of value 4, get an avgRMSE of 1.6425410325640075 and an avgMAE of 1.3095837155451187\n",
      "Done with k of value 6, get an avgRMSE of 1.5908006943514132 and an avgMAE of 1.2818825177339042\n",
      "Done with k of value 8, get an avgRMSE of 1.5851119710102863 and an avgMAE of 1.2772891633485082\n",
      "Done with k of value 10, get an avgRMSE of 1.5560341523747456 and an avgMAE of 1.2572912227069952\n",
      "Done with k of value 12, get an avgRMSE of 1.5374161281494447 and an avgMAE of 1.2427709128791449\n",
      "Done with k of value 14, get an avgRMSE of 1.5201241619511223 and an avgMAE of 1.2219779149244088\n",
      "Done with k of value 16, get an avgRMSE of 1.510226924290461 and an avgMAE of 1.2255262297974396\n",
      "Done with k of value 18, get an avgRMSE of 1.501112540165222 and an avgMAE of 1.2078101026689623\n",
      "Done with k of value 20, get an avgRMSE of 1.4965065666958774 and an avgMAE of 1.214275956067754\n",
      "Done with k of value 22, get an avgRMSE of 1.4910371089809558 and an avgMAE of 1.2117087647947873\n",
      "Done with k of value 24, get an avgRMSE of 1.4913864276509379 and an avgMAE of 1.1946253055610296\n",
      "Done with k of value 26, get an avgRMSE of 1.516522876224404 and an avgMAE of 1.2190594522162408\n",
      "Done with k of value 28, get an avgRMSE of 1.4979252328927817 and an avgMAE of 1.210037911214392\n",
      "Done with k of value 30, get an avgRMSE of 1.5073982341264913 and an avgMAE of 1.2107103750350081\n",
      "Done with k of value 32, get an avgRMSE of 1.4983326454029322 and an avgMAE of 1.2067542064221821\n",
      "Done with k of value 34, get an avgRMSE of 1.4993715952117217 and an avgMAE of 1.204892831314217\n",
      "Done with k of value 36, get an avgRMSE of 1.4836807723229701 and an avgMAE of 1.197761619720162\n",
      "Done with k of value 38, get an avgRMSE of 1.4857482657351446 and an avgMAE of 1.1920129391843148\n",
      "Done with k of value 40, get an avgRMSE of 1.4631858157422246 and an avgMAE of 1.1671258390783215\n",
      "Done with k of value 42, get an avgRMSE of 1.504128686596705 and an avgMAE of 1.2033450696822254\n",
      "Done with k of value 44, get an avgRMSE of 1.4722081802714513 and an avgMAE of 1.1714307819664151\n",
      "Done with k of value 46, get an avgRMSE of 1.4755417787316731 and an avgMAE of 1.1786530493188845\n",
      "Done with k of value 48, get an avgRMSE of 1.4803136149976945 and an avgMAE of 1.1842007915343458\n",
      "Done with k of value 50, get an avgRMSE of 1.4718492146449784 and an avgMAE of 1.1760425817276698\n"
     ]
    }
   ],
   "source": [
    "#Q8C\n",
    "# popular\n",
    "print('popular')\n",
    "pop_kdict=train_and_predict(popular)\n",
    "# unpopular\n",
    "print('unpopular')\n",
    "unpop_kdict=train_and_predict(unpopular)\n",
    "# high\n",
    "print('high variance')\n",
    "high_var_kdict=train_and_predict(high)"
   ]
  },
  {
   "cell_type": "code",
   "execution_count": 153,
   "id": "3b3f7767",
   "metadata": {},
   "outputs": [
    {
     "data": {
      "image/png": "[encoded data removed]",
      "text/plain": [
       "<Figure size 640x480 with 1 Axes>"
      ]
     },
     "metadata": {},
     "output_type": "display_data"
    },
    {
     "data": {
      "image/png": "[encoded data removed]",
      "text/plain": [
       "<Figure size 640x480 with 1 Axes>"
      ]
     },
     "metadata": {},
     "output_type": "display_data"
    },
    {
     "data": {
      "image/png": "[encoded data removed]",
      "text/plain": [
       "<Figure size 640x480 with 1 Axes>"
      ]
     },
     "metadata": {},
     "output_type": "display_data"
    }
   ],
   "source": [
    "plot_RMSE(pop_kdict,'RMSE_FOR_POPULAR')\n",
    "plot_RMSE(unpop_kdict,'RMSE_FOR_UNPOPULAR')\n",
    "plot_RMSE(high_var_kdict,'RMSE_FOR_HIGH_VARIANCE')\n",
    "\n"
   ]
  },
  {
   "cell_type": "code",
   "execution_count": 180,
   "id": "1902b78f",
   "metadata": {},
   "outputs": [],
   "source": [
    "#missing roc"
   ]
  },
  {
   "cell_type": "code",
   "execution_count": 50,
   "id": "85649041",
   "metadata": {},
   "outputs": [
    {
     "name": "stdout",
     "output_type": "stream",
     "text": [
      "9724\n"
     ]
    }
   ],
   "source": [
    "#Q9\n",
    "\n",
    "nmf9=NMF(n_factors=20,random_state=42)\n",
    "formattedR=Dataset.load_from_df(data_ratings[['userId','movieId','rating']],reader)\n",
    "train=formattedR.build_full_trainset()\n",
    "nmf9.fit(train)\n",
    "user_factors=nmf9.pu\n",
    "item_factors=nmf9.qi"
   ]
  },
  {
   "cell_type": "code",
   "execution_count": 53,
   "id": "c0d74060",
   "metadata": {},
   "outputs": [],
   "source": [
    "idxToMovId=defaultdict(int)\n",
    "for i in range(train.n_items):\n",
    "    idxToMovId[i]=train.to_raw_iid(i)"
   ]
  },
  {
   "cell_type": "code",
   "execution_count": 25,
   "id": "a841c927",
   "metadata": {},
   "outputs": [],
   "source": [
    "movToGenre=zip(data_movies['movieId'],data_movies['genres'])\n",
    "movDict={movID:genre for movID, genre in movToGenre}"
   ]
  },
  {
   "cell_type": "code",
   "execution_count": 55,
   "id": "3c763d11",
   "metadata": {},
   "outputs": [],
   "source": [
    "cols=[]\n",
    "for i in range(item_factors.shape[1]):\n",
    "    col=[]\n",
    "    for j in range(item_factors.shape[0]):\n",
    "        col.append((item_factors[j][i],j))\n",
    "    cols.append(col)"
   ]
  },
  {
   "cell_type": "code",
   "execution_count": 69,
   "id": "d49b1d32",
   "metadata": {},
   "outputs": [],
   "source": [
    "#j rows in item factors indicates the jth item\n",
    "from collections import defaultdict\n",
    "freq=defaultdict(int)\n",
    "all_cols_top_10_genres=[]\n",
    "for i in range(len(cols)):\n",
    "    top_10_genres=[]\n",
    "    col=cols[i]\n",
    "    col=sorted(col,reverse=True)\n",
    "    for factor,idx in col[:10]:\n",
    "        movID=idxToMovId[idx]\n",
    "        genres=movDict[movID]\n",
    "        for genre in genres.split('|'):\n",
    "            freq[genre]+=1\n",
    "        top_10_genres.append(genres)\n",
    "    all_cols_top_10_genres.append(top_10_genres)          \n",
    "        "
   ]
  },
  {
   "cell_type": "code",
   "execution_count": 182,
   "id": "1c30128d",
   "metadata": {},
   "outputs": [
    {
     "name": "stdout",
     "output_type": "stream",
     "text": [
      "['Fantasy|Horror', 'Horror|Mystery|Thriller', 'Horror', 'Action|Crime|Thriller', 'Drama|Thriller', 'Drama|Horror|Thriller', 'Drama', 'Comedy|Drama', 'Action|Adventure', 'Crime|Horror|Mystery']\n",
      "['Children|Comedy', 'Comedy', 'Comedy|Fantasy|Horror', 'Comedy|Romance', 'Adventure|Comedy|Sci-Fi', 'Drama|War', 'Crime|Drama', 'Action|Comedy|Sci-Fi|Thriller', 'Comedy', 'Action|Adventure|Children|Comedy']\n",
      "['Comedy|Drama|Romance', 'Comedy|Crime', 'Action|Sci-Fi|Thriller', 'Documentary', 'Documentary', 'Romance|Thriller', 'Action|Children', 'Comedy', 'Comedy|Romance', 'Drama|War']\n",
      "['Action|Sci-Fi', 'Sci-Fi', 'Horror|Sci-Fi', 'Comedy|Drama', 'Comedy', 'Action|Drama|Fantasy', 'Horror|Sci-Fi', 'Action|Adventure|Animation|Children|Comedy|Romance', 'Drama', 'Drama|Romance|Western']\n",
      "['Action|Fantasy|Horror|Sci-Fi|Thriller', 'Comedy|Romance', 'Drama', 'Drama|Horror|Thriller', 'Action|Drama', 'Comedy|Fantasy', 'Thriller', 'Horror|Sci-Fi|Thriller', 'Comedy|Documentary', 'Comedy|Crime']\n",
      "['Animation|Children|Comedy|Musical', 'Adventure|Animation|Children|Comedy|IMAX', 'Horror|Thriller', 'Comedy|Romance', 'Animation|Children|Comedy', 'Horror', 'Action|Comedy|Crime', 'Comedy|Drama|Romance', 'Action|Comedy', 'Comedy|Drama']\n",
      "['Children|Comedy|Fantasy|Romance', 'Action|Adventure|Animation', 'Action|Comedy|Crime|Fantasy', 'Comedy|Drama', 'Children|Comedy|Drama', 'Comedy', 'Action|Comedy|Crime|Thriller', 'Drama', 'Action|Comedy', 'Horror|Mystery']\n",
      "['Action|Adventure|Sci-Fi', 'Drama|Romance', 'Documentary', 'Action|Drama', 'Animation|Comedy', 'Drama|Mystery', 'Comedy|Fantasy|Horror|Musical|Thriller', 'Comedy|Romance', 'Comedy|Drama|Romance', 'Drama|Romance']\n",
      "['Action|Horror|Thriller', 'Children|Comedy', 'Comedy', 'Comedy', 'Comedy', 'Drama|Romance', 'Action|Adventure|Animation|Fantasy', 'Fantasy|Romance|Thriller|IMAX', 'Horror', 'Adventure|Drama']\n",
      "['Fantasy|Western', 'Comedy|Romance', 'Action|Crime|Sci-Fi|Thriller', 'Adventure|Children', 'Action|Adventure|Children|Fantasy', 'Comedy|Drama', 'Comedy', 'Drama|Mystery|Sci-Fi', 'Children|Comedy|Fantasy', 'Comedy|Drama']\n",
      "['Drama', 'Drama|Thriller', 'Fantasy|Horror', 'Drama|Romance|Thriller', 'Comedy|Crime|Mystery|Romance', 'Action|Adventure|Fantasy|Sci-Fi', 'Drama|Mystery|Romance', 'Action|Adventure|Sci-Fi', 'Horror', 'Action|Crime|Thriller']\n",
      "['Horror|Thriller', 'Animation|Comedy', 'Comedy|Drama', 'Comedy|Drama|Romance', 'Adventure|Drama', 'Drama|War', 'Drama|Horror', 'Action|Adventure|Sci-Fi|Thriller', 'Crime|Drama', 'Drama|Horror|Thriller']\n",
      "['Drama|Sci-Fi', 'Crime|Drama|Fantasy|Mystery|Thriller', 'Horror|Thriller', 'Comedy', 'Comedy', 'Comedy|Drama', 'Action|Drama', 'Drama', 'Horror|Thriller', 'Comedy']\n",
      "['Comedy|Romance', 'Drama|Romance', 'Comedy|Horror', 'Drama|Film-Noir', 'Action|Adventure|Animation|Children|Comedy', 'Horror|Thriller', 'Comedy', 'Adventure|Thriller', 'Drama|Fantasy|Romance', 'Crime|Drama|Mystery']\n",
      "['Comedy|Romance', 'Drama', 'Crime|Horror|Mystery', 'Drama', 'Horror|Mystery|Thriller', 'Drama', 'Comedy|Drama|Horror', 'Drama|Thriller', 'Comedy|Horror', 'Drama|Romance']\n",
      "['Drama|Fantasy|Mystery', 'Sci-Fi', 'Comedy|Drama', 'Drama|Thriller', 'Drama|Romance', 'Action|Drama|Fantasy', 'Comedy|Drama|Horror', 'Drama|Mystery|Sci-Fi', 'Comedy|Romance', 'Comedy|Romance']\n",
      "['Action|Fantasy|Horror|Sci-Fi|Thriller', 'Drama', 'Horror', 'Comedy|Drama', 'Crime|Drama|War', 'Animation|Comedy|Drama|Fantasy|Sci-Fi', 'Drama|Sci-Fi', 'Action|Drama', 'Comedy', 'Drama']\n",
      "['Drama', 'Comedy', 'Comedy', 'Action|Comedy|Sci-Fi', 'Adventure|Children|Comedy', 'Action|Sci-Fi|Thriller', 'Action|Sci-Fi', 'Crime|Drama|Romance', 'Comedy|Musical', 'Drama|Romance']\n",
      "['Drama|Romance', 'Comedy|Drama', 'Sci-Fi', 'Drama|Romance|Thriller', 'Action|Sci-Fi', 'Action|Comedy', 'Drama|Thriller', 'Action|Comedy|Drama', 'Drama', 'Comedy|Documentary']\n",
      "['Action|Comedy|Western', 'Action|Adventure|Drama|Thriller', 'Comedy|Documentary', 'Comedy', 'Comedy', 'Comedy', 'Action|Drama|Sci-Fi', 'Comedy', 'Comedy|Romance', 'Comedy|Fantasy|Romance']\n"
     ]
    }
   ],
   "source": [
    "for col in all_cols_top_10_genres:\n",
    "    print(col)"
   ]
  },
  {
   "cell_type": "code",
   "execution_count": 71,
   "id": "55d4e503",
   "metadata": {},
   "outputs": [],
   "source": [
    "sortedFreq=sorted(freq.items(), key=lambda x:x[1], reverse=True)"
   ]
  },
  {
   "cell_type": "code",
   "execution_count": 72,
   "id": "17330eae",
   "metadata": {},
   "outputs": [
    {
     "data": {
      "text/plain": [
       "[('Comedy', 87),\n",
       " ('Drama', 81),\n",
       " ('Action', 41),\n",
       " ('Thriller', 36),\n",
       " ('Romance', 35),\n",
       " ('Horror', 33),\n",
       " ('Sci-Fi', 27),\n",
       " ('Fantasy', 22),\n",
       " ('Adventure', 19),\n",
       " ('Crime', 17),\n",
       " ('Children', 15),\n",
       " ('Mystery', 13),\n",
       " ('Animation', 10),\n",
       " ('Documentary', 6),\n",
       " ('War', 4),\n",
       " ('Western', 3),\n",
       " ('Musical', 3),\n",
       " ('IMAX', 2),\n",
       " ('Film-Noir', 1)]"
      ]
     },
     "execution_count": 72,
     "metadata": {},
     "output_type": "execute_result"
    }
   ],
   "source": [
    "sortedFreq"
   ]
  },
  {
   "cell_type": "code",
   "execution_count": 83,
   "id": "0d71acd6",
   "metadata": {},
   "outputs": [],
   "source": [
    "#most top 10 movie belongs to Comedy \n",
    "#connection between latent factor and movie genres: each row i in the item latent factor indicates factors for the ith\n",
    "#item in the original dataset. The ith item in the original dataset has a corresponding moveID. We can use the corresponding\n",
    "#movieID to fetch the genre of the movie using the movies.csv dataset"
   ]
  },
  {
   "cell_type": "code",
   "execution_count": 154,
   "id": "bd8b8eed",
   "metadata": {},
   "outputs": [],
   "source": [
    "#Q10A\n",
    "def bias_train_predict(dataset):\n",
    "    bias_k_dict=defaultdict(tuple)\n",
    "    for k in range(2,52,2):\n",
    "        RMSE=0\n",
    "        MAE=0\n",
    "        for train_idx,valid_idx in kfold.split(dataset):\n",
    "            train=Dataset.load_from_df(dataset.loc[train_idx,['userId','movieId','rating']],reader)\n",
    "            validation=dataset.loc[valid_idx,['userId','movieId','rating']].to_numpy()\n",
    "            nmf=NMF(n_factors=k,random_state=42,biased=True)\n",
    "            nmf.fit(train.build_full_trainset())\n",
    "            predict=np.zeros_like(validation)\n",
    "            for i in range(validation.shape[0]):\n",
    "                user,item=validation[i][0],validation[i][1]\n",
    "                pred=nmf.predict(user,item)\n",
    "                predict[i]=[user,item,pred.est]\n",
    "            RMSE+=sqrt(mean_squared_error(validation[:,2],predict[:,2]))\n",
    "            MAE+=mean_absolute_error(validation[:,2],predict[:,2])\n",
    "        avgRMSE=RMSE/10\n",
    "        avgMAE=MAE/10\n",
    "        print('Done with k of value {}, get an avgRMSE of {} and an avgMAE of {}'.format(k,avgRMSE,avgMAE))\n",
    "        bias_k_dict[k]=(avgRMSE,avgMAE)\n",
    "    return bias_k_dict"
   ]
  },
  {
   "cell_type": "code",
   "execution_count": 155,
   "id": "6b7a2ff3",
   "metadata": {},
   "outputs": [
    {
     "name": "stdout",
     "output_type": "stream",
     "text": [
      "Done with k of value 2, get an avgRMSE of 0.8670179657268658 and an avgMAE of 0.663987628091264\n",
      "Done with k of value 4, get an avgRMSE of 0.8697506869580313 and an avgMAE of 0.6661409706910595\n",
      "Done with k of value 6, get an avgRMSE of 0.8704896830903908 and an avgMAE of 0.6667459904512014\n",
      "Done with k of value 8, get an avgRMSE of 0.8712066431678638 and an avgMAE of 0.667291249670642\n",
      "Done with k of value 10, get an avgRMSE of 0.8900293920504667 and an avgMAE of 0.68046353083505\n",
      "Done with k of value 12, get an avgRMSE of 0.9669851822783743 and an avgMAE of 0.7409365191740249\n",
      "Done with k of value 14, get an avgRMSE of 1.0582409655559517 and an avgMAE of 0.7993456928824599\n",
      "Done with k of value 16, get an avgRMSE of 1.1183872013538079 and an avgMAE of 0.838122012966615\n",
      "Done with k of value 18, get an avgRMSE of 1.4940385871325792 and an avgMAE of 1.150188863529227\n",
      "Done with k of value 20, get an avgRMSE of 1.304664719751245 and an avgMAE of 0.9811147829086437\n",
      "Done with k of value 22, get an avgRMSE of 1.2884624430100253 and an avgMAE of 0.9691858392944411\n",
      "Done with k of value 24, get an avgRMSE of 1.418224796094726 and an avgMAE of 1.0765079186090425\n",
      "Done with k of value 26, get an avgRMSE of 1.4527402192813472 and an avgMAE of 1.130616803661376\n",
      "Done with k of value 28, get an avgRMSE of 1.3980241723267013 and an avgMAE of 1.0618301857510084\n",
      "Done with k of value 30, get an avgRMSE of 1.6125885541315594 and an avgMAE of 1.260838774281788\n",
      "Done with k of value 32, get an avgRMSE of 1.4383705601806684 and an avgMAE of 1.1040949870588672\n",
      "Done with k of value 34, get an avgRMSE of 1.2995758002205067 and an avgMAE of 0.980274845974861\n",
      "Done with k of value 36, get an avgRMSE of 1.425379759679999 and an avgMAE of 1.0925310758269575\n",
      "Done with k of value 38, get an avgRMSE of 1.3531299678587274 and an avgMAE of 1.0215372244902288\n",
      "Done with k of value 40, get an avgRMSE of 1.5993045184478567 and an avgMAE of 1.2561485469149232\n",
      "Done with k of value 42, get an avgRMSE of 1.5790848277096 and an avgMAE of 1.2324624782648739\n",
      "Done with k of value 44, get an avgRMSE of 1.5151775382729262 and an avgMAE of 1.1728003182791384\n",
      "Done with k of value 46, get an avgRMSE of 1.6950627360567894 and an avgMAE of 1.3335214976365823\n",
      "Done with k of value 48, get an avgRMSE of 1.7875312563127568 and an avgMAE of 1.4332472020790923\n",
      "Done with k of value 50, get an avgRMSE of 1.7630738165945907 and an avgMAE of 1.4026647423375773\n"
     ]
    }
   ],
   "source": [
    "bias_k_dict=bias_train_predict(data_ratings)"
   ]
  },
  {
   "cell_type": "code",
   "execution_count": 86,
   "id": "5c1821d6",
   "metadata": {},
   "outputs": [],
   "source": [
    "#Q10B"
   ]
  },
  {
   "cell_type": "code",
   "execution_count": 156,
   "id": "b05e3d2d",
   "metadata": {},
   "outputs": [
    {
     "data": {
      "image/png": "[encoded data removed]",
      "text/plain": [
       "<Figure size 640x480 with 1 Axes>"
      ]
     },
     "metadata": {},
     "output_type": "display_data"
    }
   ],
   "source": [
    "plot_graph(bias_k_dict,'RMSE_MAE_FOR_ORIGINAL_BIAS')"
   ]
  },
  {
   "cell_type": "code",
   "execution_count": 157,
   "id": "a72245ba",
   "metadata": {},
   "outputs": [
    {
     "name": "stdout",
     "output_type": "stream",
     "text": [
      "popular\n",
      "Done with k of value 2, get an avgRMSE of 1.1429383297603133 and an avgMAE of 0.9661534080313358\n",
      "Done with k of value 4, get an avgRMSE of 1.027548287898095 and an avgMAE of 0.8435514814033326\n",
      "Done with k of value 6, get an avgRMSE of 0.967762504699437 and an avgMAE of 0.777884512898847\n",
      "Done with k of value 8, get an avgRMSE of 0.9313148907924786 and an avgMAE of 0.7353185106930301\n",
      "Done with k of value 10, get an avgRMSE of 0.9141876855107268 and an avgMAE of 0.7147421780094562\n",
      "Done with k of value 12, get an avgRMSE of 0.900929475796168 and an avgMAE of 0.6973520283167024\n",
      "Done with k of value 14, get an avgRMSE of 0.8960911524103725 and an avgMAE of 0.6888747027216567\n",
      "Done with k of value 16, get an avgRMSE of 0.8954620843753694 and an avgMAE of 0.6857305554587364\n",
      "Done with k of value 18, get an avgRMSE of 0.8914436799781187 and an avgMAE of 0.6803121066063234\n",
      "Done with k of value 20, get an avgRMSE of 0.8948581468381619 and an avgMAE of 0.6807150725390789\n",
      "Done with k of value 22, get an avgRMSE of 0.8983487333962643 and an avgMAE of 0.6803050542373262\n",
      "Done with k of value 24, get an avgRMSE of 0.901883567015411 and an avgMAE of 0.6825488568065433\n",
      "Done with k of value 26, get an avgRMSE of 0.9048065771960097 and an avgMAE of 0.6828357881328361\n",
      "Done with k of value 28, get an avgRMSE of 0.9073368047384645 and an avgMAE of 0.6851620714394147\n",
      "Done with k of value 30, get an avgRMSE of 0.9116389529825689 and an avgMAE of 0.6875618111141043\n",
      "Done with k of value 32, get an avgRMSE of 0.91412143792845 and an avgMAE of 0.6888339043754113\n",
      "Done with k of value 34, get an avgRMSE of 0.9203946424035585 and an avgMAE of 0.6933680336902357\n",
      "Done with k of value 36, get an avgRMSE of 0.9236880189536543 and an avgMAE of 0.6952747725607312\n",
      "Done with k of value 38, get an avgRMSE of 0.9282416183122454 and an avgMAE of 0.6982755032517922\n",
      "Done with k of value 40, get an avgRMSE of 0.9325211719730525 and an avgMAE of 0.7022751442808909\n",
      "Done with k of value 42, get an avgRMSE of 0.9334408678190496 and an avgMAE of 0.7025547150613184\n",
      "Done with k of value 44, get an avgRMSE of 0.9416405341436018 and an avgMAE of 0.709478474127804\n",
      "Done with k of value 46, get an avgRMSE of 0.9448832185450916 and an avgMAE of 0.711806263365919\n",
      "Done with k of value 48, get an avgRMSE of 0.9486430163919193 and an avgMAE of 0.7145436895660058\n",
      "Done with k of value 50, get an avgRMSE of 0.9510371807866482 and an avgMAE of 0.7159624869325985\n",
      "unpopular\n",
      "Done with k of value 2, get an avgRMSE of 1.2391409178969486 and an avgMAE of 1.004908245754427\n",
      "Done with k of value 4, get an avgRMSE of 1.2402118246393328 and an avgMAE of 1.005706983773284\n",
      "Done with k of value 6, get an avgRMSE of 1.2264007525002703 and an avgMAE of 0.9969190281508269\n",
      "Done with k of value 8, get an avgRMSE of 1.2073422508937193 and an avgMAE of 0.9788274364357126\n",
      "Done with k of value 10, get an avgRMSE of 1.1928480636354437 and an avgMAE of 0.9661579233815913\n",
      "Done with k of value 12, get an avgRMSE of 1.176320226367956 and an avgMAE of 0.9498656755816137\n",
      "Done with k of value 14, get an avgRMSE of 1.165302860754271 and an avgMAE of 0.9393052784234627\n",
      "Done with k of value 16, get an avgRMSE of 1.162838411006709 and an avgMAE of 0.9353255350310178\n",
      "Done with k of value 18, get an avgRMSE of 1.1566600012517096 and an avgMAE of 0.9319002986075817\n",
      "Done with k of value 20, get an avgRMSE of 1.1503753329213224 and an avgMAE of 0.9240557613877641\n",
      "Done with k of value 22, get an avgRMSE of 1.1518803430167035 and an avgMAE of 0.9258062934127306\n",
      "Done with k of value 24, get an avgRMSE of 1.1446743167957678 and an avgMAE of 0.919757966775513\n",
      "Done with k of value 26, get an avgRMSE of 1.1437402424426921 and an avgMAE of 0.9172088575160575\n",
      "Done with k of value 28, get an avgRMSE of 1.1419696643031254 and an avgMAE of 0.9163966946191369\n",
      "Done with k of value 30, get an avgRMSE of 1.1409319139914038 and an avgMAE of 0.9167670942509784\n",
      "Done with k of value 32, get an avgRMSE of 1.1367233639138756 and an avgMAE of 0.9110187600914372\n",
      "Done with k of value 34, get an avgRMSE of 1.1368651734810369 and an avgMAE of 0.9114933584034768\n",
      "Done with k of value 36, get an avgRMSE of 1.1368156998150467 and an avgMAE of 0.9108446732658528\n",
      "Done with k of value 38, get an avgRMSE of 1.1349066228144693 and an avgMAE of 0.9081112826521768\n",
      "Done with k of value 40, get an avgRMSE of 1.1341704843020444 and an avgMAE of 0.9079177476684566\n",
      "Done with k of value 42, get an avgRMSE of 1.1348675866288551 and an avgMAE of 0.9077058706928132\n",
      "Done with k of value 44, get an avgRMSE of 1.1333867251431458 and an avgMAE of 0.905771892696108\n",
      "Done with k of value 46, get an avgRMSE of 1.1328187100288507 and an avgMAE of 0.9048582086145892\n",
      "Done with k of value 48, get an avgRMSE of 1.133180087728522 and an avgMAE of 0.90585156620673\n",
      "Done with k of value 50, get an avgRMSE of 1.132408583195115 and an avgMAE of 0.9061665198531752\n",
      "high variance\n",
      "Done with k of value 2, get an avgRMSE of 1.638106245053585 and an avgMAE of 1.327417041184981\n",
      "Done with k of value 4, get an avgRMSE of 1.6425410325640075 and an avgMAE of 1.3095837155451187\n",
      "Done with k of value 6, get an avgRMSE of 1.5908006943514132 and an avgMAE of 1.2818825177339042\n",
      "Done with k of value 8, get an avgRMSE of 1.5851119710102863 and an avgMAE of 1.2772891633485082\n",
      "Done with k of value 10, get an avgRMSE of 1.5560341523747456 and an avgMAE of 1.2572912227069952\n",
      "Done with k of value 12, get an avgRMSE of 1.5374161281494447 and an avgMAE of 1.2427709128791449\n",
      "Done with k of value 14, get an avgRMSE of 1.5201241619511223 and an avgMAE of 1.2219779149244088\n",
      "Done with k of value 16, get an avgRMSE of 1.510226924290461 and an avgMAE of 1.2255262297974396\n",
      "Done with k of value 18, get an avgRMSE of 1.501112540165222 and an avgMAE of 1.2078101026689623\n",
      "Done with k of value 20, get an avgRMSE of 1.4965065666958774 and an avgMAE of 1.214275956067754\n",
      "Done with k of value 22, get an avgRMSE of 1.4910371089809558 and an avgMAE of 1.2117087647947873\n",
      "Done with k of value 24, get an avgRMSE of 1.4913864276509379 and an avgMAE of 1.1946253055610296\n",
      "Done with k of value 26, get an avgRMSE of 1.516522876224404 and an avgMAE of 1.2190594522162408\n",
      "Done with k of value 28, get an avgRMSE of 1.4979252328927817 and an avgMAE of 1.210037911214392\n",
      "Done with k of value 30, get an avgRMSE of 1.5073982341264913 and an avgMAE of 1.2107103750350081\n",
      "Done with k of value 32, get an avgRMSE of 1.4983326454029322 and an avgMAE of 1.2067542064221821\n",
      "Done with k of value 34, get an avgRMSE of 1.4993715952117217 and an avgMAE of 1.204892831314217\n",
      "Done with k of value 36, get an avgRMSE of 1.4836807723229701 and an avgMAE of 1.197761619720162\n",
      "Done with k of value 38, get an avgRMSE of 1.4857482657351446 and an avgMAE of 1.1920129391843148\n",
      "Done with k of value 40, get an avgRMSE of 1.4631858157422246 and an avgMAE of 1.1671258390783215\n",
      "Done with k of value 42, get an avgRMSE of 1.504128686596705 and an avgMAE of 1.2033450696822254\n",
      "Done with k of value 44, get an avgRMSE of 1.4722081802714513 and an avgMAE of 1.1714307819664151\n",
      "Done with k of value 46, get an avgRMSE of 1.4755417787316731 and an avgMAE of 1.1786530493188845\n",
      "Done with k of value 48, get an avgRMSE of 1.4803136149976945 and an avgMAE of 1.1842007915343458\n",
      "Done with k of value 50, get an avgRMSE of 1.4718492146449784 and an avgMAE of 1.1760425817276698\n"
     ]
    }
   ],
   "source": [
    "#Q10C\n",
    "# popular\n",
    "print('popular')\n",
    "bias_pop_kdict=train_and_predict(popular)\n",
    "# unpopular\n",
    "print('unpopular')\n",
    "bias_unpop_kdict=train_and_predict(unpopular)\n",
    "# high\n",
    "print('high variance')\n",
    "bias_high_var_kdict=train_and_predict(high)"
   ]
  },
  {
   "cell_type": "code",
   "execution_count": 158,
   "id": "af1620c5",
   "metadata": {},
   "outputs": [
    {
     "data": {
      "image/png": "[encoded data removed]",
      "text/plain": [
       "<Figure size 640x480 with 1 Axes>"
      ]
     },
     "metadata": {},
     "output_type": "display_data"
    },
    {
     "data": {
      "image/png": "[encoded data removed]",
      "text/plain": [
       "<Figure size 640x480 with 1 Axes>"
      ]
     },
     "metadata": {},
     "output_type": "display_data"
    },
    {
     "data": {
      "image/png": "[encoded data removed]",
      "text/plain": [
       "<Figure size 640x480 with 1 Axes>"
      ]
     },
     "metadata": {},
     "output_type": "display_data"
    }
   ],
   "source": [
    "plot_RMSE(bias_pop_kdict,'RMSE_FOR_POPULAR_BIAS')\n",
    "plot_RMSE(bias_unpop_kdict,'RMSE_FOR_UNPOPULAR_BIAS')\n",
    "plot_RMSE(bias_high_var_kdict,'RMSE_FOR_HIGH_VARIANCE_BIAS')"
   ]
  },
  {
   "cell_type": "code",
   "execution_count": 181,
   "id": "56bb506e",
   "metadata": {},
   "outputs": [],
   "source": [
    "#missing roc"
   ]
  },
  {
   "cell_type": "code",
   "execution_count": 89,
   "id": "46c73dde",
   "metadata": {},
   "outputs": [],
   "source": [
    "#Q11A"
   ]
  },
  {
   "cell_type": "code",
   "execution_count": 174,
   "id": "80d94b37",
   "metadata": {},
   "outputs": [],
   "source": [
    "def naive_train_predict(dataset):\n",
    "    naive_RMSE=0\n",
    "    dropped_rows=[]\n",
    "    for train_idx,valid_idx in kfold.split(dataset):\n",
    "        train,validation=dataset.loc[train_idx,['userId','movieId','rating']].to_numpy(),dataset.loc[valid_idx,['userId','movieId','rating']].to_numpy()\n",
    "        user_ratings=defaultdict(list)\n",
    "        for user,movie,rating in train:\n",
    "            user_ratings[user].append(rating)\n",
    "        prediction=np.zeros_like(validation)\n",
    "        for i in range(validation.shape[0]):\n",
    "            user=validation[i][0]\n",
    "            item=validation[i][1]\n",
    "            # if user in validation hasn't rated any movie in training set\n",
    "            if(len(user_ratings[user])==0): \n",
    "                dropped_rows.append(i)\n",
    "                continue\n",
    "            prediction[i]=[user,item,sum(user_ratings[user])/len(user_ratings[user])]\n",
    "        np.delete(validation,dropped_rows,0)\n",
    "        np.delete(prediction,dropped_rows,0)\n",
    "        naive_RMSE+=sqrt(mean_squared_error(validation[:,2],prediction[:,2]))\n",
    "    naive_avgRMSE=naive_RMSE/10\n",
    "    return naive_avgRMSE"
   ]
  },
  {
   "cell_type": "code",
   "execution_count": 160,
   "id": "41eaefcd",
   "metadata": {},
   "outputs": [],
   "source": [
    "naive_RMSE_original=naive_train_predict(data_ratings)"
   ]
  },
  {
   "cell_type": "code",
   "execution_count": 177,
   "id": "b08a1c2d",
   "metadata": {},
   "outputs": [
    {
     "name": "stdout",
     "output_type": "stream",
     "text": [
      "average RMSE for original dataset 0.9410603557679573\n"
     ]
    }
   ],
   "source": [
    "print('average RMSE for original dataset {}'.format(naive_RMSE_original))"
   ]
  },
  {
   "cell_type": "code",
   "execution_count": 175,
   "id": "73339371",
   "metadata": {},
   "outputs": [
    {
     "name": "stdout",
     "output_type": "stream",
     "text": [
      "popular\n",
      "unpopular\n",
      "high variance\n"
     ]
    }
   ],
   "source": [
    "#Q11B \n",
    "# popular\n",
    "print('popular')\n",
    "naive_pop_kdict=naive_train_predict(popular)\n",
    "# unpopular\n",
    "print('unpopular')\n",
    "naive_unpop_kdict=naive_train_predict(unpopular)\n",
    "# high\n",
    "print('high variance')\n",
    "\n",
    "naive_high_var_kdict=naive_train_predict(high)"
   ]
  },
  {
   "cell_type": "code",
   "execution_count": 176,
   "id": "936b3ce9",
   "metadata": {},
   "outputs": [
    {
     "name": "stdout",
     "output_type": "stream",
     "text": [
      "average RMSE for popular subset 0.937438851087791\n",
      "average RMSE for unpopular subset 1.0092265456916887\n",
      "average RMSE for high variance subset 1.9810700212393992\n"
     ]
    }
   ],
   "source": [
    "print('average RMSE for popular subset {}'.format(naive_pop_kdict))\n",
    "print('average RMSE for unpopular subset {}'.format(naive_unpop_kdict))\n",
    "print('average RMSE for high variance subset {}'.format(naive_high_var_kdict))"
   ]
  },
  {
   "cell_type": "code",
   "execution_count": 91,
   "id": "408a3fbc",
   "metadata": {},
   "outputs": [],
   "source": [
    "#Q12 missing"
   ]
  },
  {
   "cell_type": "code",
   "execution_count": 178,
   "id": "efb9cbd4",
   "metadata": {},
   "outputs": [],
   "source": [
    "#Q13\n",
    "#precision: among all items we recommended to user, how many items are truly liked by the user\n",
    "#recall: among all items the user like, how many items that user actually like are recommended to the user by us. "
   ]
  },
  {
   "cell_type": "code",
   "execution_count": 203,
   "id": "2ae9e065",
   "metadata": {},
   "outputs": [],
   "source": [
    "#Q14\n",
    "def get_precision_recall(model):\n",
    "    precision_t=defaultdict(list)\n",
    "    recall_t=defaultdict(list)\n",
    "    threshold=3\n",
    "    for t in range(1,26,1):\n",
    "        folds_precision=0\n",
    "        folds_recall=0\n",
    "        for train_idx,valid_idx in kfold.split(data_ratings):\n",
    "            train=Dataset.load_from_df(data_ratings.loc[train_idx,['userId','movieId','rating']],reader)\n",
    "            validation=data_ratings.loc[valid_idx,['userId','movieId','rating']].to_numpy()\n",
    "            #consider chaging this to model to be general and modulize this\n",
    "#             nmf=NMF(n_factors=18,random_state=42)\n",
    "            model.fit(train.build_full_trainset())\n",
    "            L=defaultdict(list)\n",
    "            G=defaultdict(set)\n",
    "            users=set()\n",
    "            for i in range(validation.shape[0]):\n",
    "                user,item,rating=validation[i][0],validation[i][1],validation[i][2]\n",
    "                pred=model.predict(user,item)\n",
    "                L[user].append((pred.est,item))\n",
    "                if rating>threshold:\n",
    "                    G[user].add(item)\n",
    "                users.add(user)\n",
    "            for user in users:\n",
    "                L[user]=sorted(L[user],reverse=True)\n",
    "            S_t=defaultdict(set)\n",
    "            countOfUser=0\n",
    "            precision=0\n",
    "            recall=0\n",
    "            for user in users:\n",
    "                if len(L[user])<t or len(G[user])==0:\n",
    "                    continue\n",
    "                S_t[user]=set([iid for r,iid in L[user][:t]])\n",
    "                precision+=len(S_t[user].intersection(G[user]))/len(S_t[user])\n",
    "                recall+=len(S_t[user].intersection(G[user]))/len(G[user])              \n",
    "                countOfUser+=1\n",
    "            folds_precision+=precision/countOfUser\n",
    "            folds_recall+=recall/countOfUser\n",
    "        precision_t[t]=folds_precision/10\n",
    "        recall_t[t]=folds_recall/10\n",
    "        print('Done with t of {} get a precision {} and a recall {}'.format(t,precision_t[t],recall_t[t]))\n",
    "    return precision_t,recall_t"
   ]
  },
  {
   "cell_type": "code",
   "execution_count": 205,
   "id": "a6ec8ca6",
   "metadata": {},
   "outputs": [
    {
     "name": "stdout",
     "output_type": "stream",
     "text": [
      "Done with t of 1 get a precision 0.8194733173850949 and a recall 0.2296412267586922\n",
      "Done with t of 2 get a precision 0.7888032487521792 and a recall 0.36268090544692555\n",
      "Done with t of 3 get a precision 0.7726855932386951 and a recall 0.4370772743821306\n",
      "Done with t of 4 get a precision 0.7635420872617185 and a recall 0.4733274946911533\n",
      "Done with t of 5 get a precision 0.7586281124468425 and a recall 0.4974476013097722\n",
      "Done with t of 6 get a precision 0.7557558956632404 and a recall 0.5140888733334023\n",
      "Done with t of 7 get a precision 0.7521523878951502 and a recall 0.5287992738925189\n",
      "Done with t of 8 get a precision 0.7500344606164293 and a recall 0.5434349566784105\n",
      "Done with t of 9 get a precision 0.7494366103590389 and a recall 0.5514132596878873\n",
      "Done with t of 10 get a precision 0.7488067933531404 and a recall 0.5656262400675673\n",
      "Done with t of 11 get a precision 0.7473945840657941 and a recall 0.5772285398651035\n",
      "Done with t of 12 get a precision 0.746056112152458 and a recall 0.5833205846704387\n",
      "Done with t of 13 get a precision 0.7447892886938678 and a recall 0.5898835686847037\n",
      "Done with t of 14 get a precision 0.7444443415908257 and a recall 0.601190424025639\n",
      "Done with t of 15 get a precision 0.7457428906929155 and a recall 0.604370007624963\n",
      "Done with t of 16 get a precision 0.7450791045677352 and a recall 0.6053871038251126\n",
      "Done with t of 17 get a precision 0.7451852697014977 and a recall 0.6120221470498234\n",
      "Done with t of 18 get a precision 0.7453750969847938 and a recall 0.6171473319218842\n",
      "Done with t of 19 get a precision 0.74313460448714 and a recall 0.6241557936224077\n",
      "Done with t of 20 get a precision 0.7407802428077104 and a recall 0.633728408893226\n",
      "Done with t of 21 get a precision 0.7355168572404247 and a recall 0.6387997900700254\n",
      "Done with t of 22 get a precision 0.7323311104064332 and a recall 0.6471112741632741\n",
      "Done with t of 23 get a precision 0.7302338357580392 and a recall 0.6530437999050942\n",
      "Done with t of 24 get a precision 0.7263805721524424 and a recall 0.6589287953661871\n",
      "Done with t of 25 get a precision 0.7238215180677272 and a recall 0.6638911299461425\n"
     ]
    }
   ],
   "source": [
    "precision_t,recall_t=get_precision_recall(NMF(n_factors=18,random_state=42))"
   ]
  },
  {
   "cell_type": "code",
   "execution_count": 207,
   "id": "2cd4f0af",
   "metadata": {},
   "outputs": [
    {
     "name": "stdout",
     "output_type": "stream",
     "text": [
      "Done with t of 1 get a precision 0.8252559110331212 and a recall 0.232600658582292\n",
      "Done with t of 2 get a precision 0.7941363759197412 and a recall 0.36486120761591406\n",
      "Done with t of 3 get a precision 0.7791390511192591 and a recall 0.44178231192111983\n",
      "Done with t of 4 get a precision 0.7713804953622606 and a recall 0.47840416348613174\n",
      "Done with t of 5 get a precision 0.769573950970319 and a recall 0.5056170274128792\n",
      "Done with t of 6 get a precision 0.7661462653435908 and a recall 0.5209483217679879\n",
      "Done with t of 7 get a precision 0.7645543098270073 and a recall 0.538692865476274\n",
      "Done with t of 8 get a precision 0.7609059759272363 and a recall 0.5513545176238042\n",
      "Done with t of 9 get a precision 0.7602926818085708 and a recall 0.5598840572925651\n",
      "Done with t of 10 get a precision 0.7588433939215998 and a recall 0.5742048027807739\n",
      "Done with t of 11 get a precision 0.7565275837609986 and a recall 0.5857755111571828\n",
      "Done with t of 12 get a precision 0.7544182964599718 and a recall 0.5919249372107749\n",
      "Done with t of 13 get a precision 0.7511915124363598 and a recall 0.5967575984756637\n",
      "Done with t of 14 get a precision 0.7497530158828425 and a recall 0.6067646984633678\n",
      "Done with t of 15 get a precision 0.7505512597710523 and a recall 0.609679051866081\n",
      "Done with t of 16 get a precision 0.7508550409433433 and a recall 0.6110900383158011\n",
      "Done with t of 17 get a precision 0.7510608318569972 and a recall 0.619244882215078\n",
      "Done with t of 18 get a precision 0.750243608888465 and a recall 0.6231653246756093\n",
      "Done with t of 19 get a precision 0.7493232555186995 and a recall 0.6324296824686358\n",
      "Done with t of 20 get a precision 0.7463220998677093 and a recall 0.6419641021884299\n",
      "Done with t of 21 get a precision 0.7418971006979641 and a recall 0.6482055172320877\n",
      "Done with t of 22 get a precision 0.738066625085404 and a recall 0.6550756545510554\n",
      "Done with t of 23 get a precision 0.7356562916760885 and a recall 0.6607028589031438\n",
      "Done with t of 24 get a precision 0.7308933178226431 and a recall 0.6663754958898216\n",
      "Done with t of 25 get a precision 0.7281157110269761 and a recall 0.6720090175734467\n"
     ]
    }
   ],
   "source": [
    "from surprise.prediction_algorithms.knns import KNNWithMeans\n",
    "precision_t_KNN, recall_t_KNN=get_precision_recall(KNNWithMeans(sim_options={'name':'pearson'},k=30,verbose=False))"
   ]
  },
  {
   "cell_type": "code",
   "execution_count": 208,
   "id": "c77f4257",
   "metadata": {},
   "outputs": [
    {
     "name": "stdout",
     "output_type": "stream",
     "text": [
      "Done with t of 1 get a precision 0.7441241984703365 and a recall 0.20521516888852237\n",
      "Done with t of 2 get a precision 0.723448123430111 and a recall 0.33370708502071617\n",
      "Done with t of 3 get a precision 0.7113674651294312 and a recall 0.4060520569032501\n",
      "Done with t of 4 get a precision 0.7060419289118107 and a recall 0.44233859008201887\n",
      "Done with t of 5 get a precision 0.7044689289990158 and a recall 0.46667045535080814\n",
      "Done with t of 6 get a precision 0.7039316409505117 and a recall 0.48343064534115426\n",
      "Done with t of 7 get a precision 0.7034033214898806 and a recall 0.49921242699936064\n",
      "Done with t of 8 get a precision 0.7025104214561225 and a recall 0.5138940132620113\n",
      "Done with t of 9 get a precision 0.702139557128395 and a recall 0.5216713652115501\n",
      "Done with t of 10 get a precision 0.7001667988239191 and a recall 0.5327936726915102\n",
      "Done with t of 11 get a precision 0.6994549606805605 and a recall 0.5446159924432333\n",
      "Done with t of 12 get a precision 0.6983888102034608 and a recall 0.5508807451427404\n",
      "Done with t of 13 get a precision 0.69649072362969 and a recall 0.55582358633398\n",
      "Done with t of 14 get a precision 0.6976854559288006 and a recall 0.5674210429366127\n",
      "Done with t of 15 get a precision 0.6973314970931563 and a recall 0.567646320478469\n",
      "Done with t of 16 get a precision 0.6979448446690898 and a recall 0.5690764941294031\n",
      "Done with t of 17 get a precision 0.6991808491703059 and a recall 0.5770049306165272\n",
      "Done with t of 18 get a precision 0.6986859102197953 and a recall 0.5804172729859907\n",
      "Done with t of 19 get a precision 0.6976111064353504 and a recall 0.588279886869217\n",
      "Done with t of 20 get a precision 0.6941667554460823 and a recall 0.5953967978182557\n",
      "Done with t of 21 get a precision 0.6887714084432517 and a recall 0.5995871620526291\n",
      "Done with t of 22 get a precision 0.6862816181292608 and a recall 0.6073006416175647\n",
      "Done with t of 23 get a precision 0.6840649927390061 and a recall 0.6125779582528474\n",
      "Done with t of 24 get a precision 0.6789130920830162 and a recall 0.6164842237339547\n",
      "Done with t of 25 get a precision 0.6763421982136071 and a recall 0.6212385276860802\n"
     ]
    }
   ],
   "source": [
    "precision_t_bias,recall_t_bias=get_precision_recall(NMF(n_factors=18,random_state=42,biased=True))"
   ]
  },
  {
   "cell_type": "code",
   "execution_count": null,
   "id": "617da1b5",
   "metadata": {},
   "outputs": [],
   "source": []
  }
 ],
 "metadata": {
  "kernelspec": {
   "display_name": "Python 3 (ipykernel)",
   "language": "python",
   "name": "python3"
  },
  "language_info": {
   "codemirror_mode": {
    "name": "ipython",
    "version": 3
   },
   "file_extension": ".py",
   "mimetype": "text/x-python",
   "name": "python",
   "nbconvert_exporter": "python",
   "pygments_lexer": "ipython3",
   "version": "3.9.12"
  }
 },
 "nbformat": 4,
 "nbformat_minor": 5
}
