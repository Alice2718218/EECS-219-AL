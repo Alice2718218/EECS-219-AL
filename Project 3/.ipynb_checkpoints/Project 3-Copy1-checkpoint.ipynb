{
 "cells": [
  {
   "cell_type": "code",
   "execution_count": 1,
   "id": "b6d5c584",
   "metadata": {},
   "outputs": [],
   "source": [
    "import pandas as pd\n",
    "import numpy as np\n",
    "import matplotlib.pyplot as plt\n",
    "from collections import Counter\n",
    "from surprise import Dataset, Reader, BaselineOnly\n",
    "from surprise.prediction_algorithms.knns import KNNWithMeans\n",
    "from surprise.prediction_algorithms.algo_base import AlgoBase\n",
    "from surprise.model_selection import cross_validate\n",
    "from tqdm import tqdm\n",
    "import csv\n",
    "import pandas as pd\n",
    "from surprise import NMF\n",
    "from surprise import Dataset\n",
    "from sklearn.metrics import mean_squared_error\n",
    "from math import sqrt\n",
    "from sklearn.metrics import mean_absolute_error\n",
    "from sklearn.model_selection import KFold\n",
    "from collections import defaultdict\n",
    "from surprise import Dataset, NormalPredictor, Reader\n",
    "from surprise.prediction_algorithms.knns import KNNWithMeans"
   ]
  },
  {
   "cell_type": "code",
   "execution_count": 2,
   "id": "5e995f29",
   "metadata": {},
   "outputs": [],
   "source": [
    "rating = pd.read_csv(\"ratings.csv\")\n",
    "tag = pd.read_csv(\"tags.csv\")\n",
    "movie = pd.read_csv(\"movies.csv\")\n",
    "link = pd.read_csv(\"links.csv\")"
   ]
  },
  {
   "cell_type": "code",
   "execution_count": 3,
   "id": "df6d7c25",
   "metadata": {},
   "outputs": [
    {
     "data": {
      "text/html": [
       "<div>\n",
       "<style scoped>\n",
       "    .dataframe tbody tr th:only-of-type {\n",
       "        vertical-align: middle;\n",
       "    }\n",
       "\n",
       "    .dataframe tbody tr th {\n",
       "        vertical-align: top;\n",
       "    }\n",
       "\n",
       "    .dataframe thead th {\n",
       "        text-align: right;\n",
       "    }\n",
       "</style>\n",
       "<table border=\"1\" class=\"dataframe\">\n",
       "  <thead>\n",
       "    <tr style=\"text-align: right;\">\n",
       "      <th></th>\n",
       "      <th>Unnamed: 0</th>\n",
       "      <th>userId</th>\n",
       "      <th>movieId</th>\n",
       "      <th>rating</th>\n",
       "      <th>timestamp</th>\n",
       "    </tr>\n",
       "  </thead>\n",
       "  <tbody>\n",
       "    <tr>\n",
       "      <th>0</th>\n",
       "      <td>0</td>\n",
       "      <td>496</td>\n",
       "      <td>112852</td>\n",
       "      <td>3.0</td>\n",
       "      <td>1415520462</td>\n",
       "    </tr>\n",
       "    <tr>\n",
       "      <th>1</th>\n",
       "      <td>1</td>\n",
       "      <td>391</td>\n",
       "      <td>1947</td>\n",
       "      <td>4.0</td>\n",
       "      <td>1030945141</td>\n",
       "    </tr>\n",
       "    <tr>\n",
       "      <th>2</th>\n",
       "      <td>2</td>\n",
       "      <td>387</td>\n",
       "      <td>1562</td>\n",
       "      <td>1.5</td>\n",
       "      <td>1095041022</td>\n",
       "    </tr>\n",
       "    <tr>\n",
       "      <th>3</th>\n",
       "      <td>3</td>\n",
       "      <td>474</td>\n",
       "      <td>2716</td>\n",
       "      <td>4.5</td>\n",
       "      <td>1053020930</td>\n",
       "    </tr>\n",
       "    <tr>\n",
       "      <th>4</th>\n",
       "      <td>4</td>\n",
       "      <td>483</td>\n",
       "      <td>88125</td>\n",
       "      <td>4.5</td>\n",
       "      <td>1311337237</td>\n",
       "    </tr>\n",
       "    <tr>\n",
       "      <th>...</th>\n",
       "      <td>...</td>\n",
       "      <td>...</td>\n",
       "      <td>...</td>\n",
       "      <td>...</td>\n",
       "      <td>...</td>\n",
       "    </tr>\n",
       "    <tr>\n",
       "      <th>100831</th>\n",
       "      <td>100831</td>\n",
       "      <td>469</td>\n",
       "      <td>1219</td>\n",
       "      <td>4.0</td>\n",
       "      <td>965661925</td>\n",
       "    </tr>\n",
       "    <tr>\n",
       "      <th>100832</th>\n",
       "      <td>100832</td>\n",
       "      <td>599</td>\n",
       "      <td>3571</td>\n",
       "      <td>2.0</td>\n",
       "      <td>1498511343</td>\n",
       "    </tr>\n",
       "    <tr>\n",
       "      <th>100833</th>\n",
       "      <td>100833</td>\n",
       "      <td>414</td>\n",
       "      <td>276</td>\n",
       "      <td>3.0</td>\n",
       "      <td>961596299</td>\n",
       "    </tr>\n",
       "    <tr>\n",
       "      <th>100834</th>\n",
       "      <td>100834</td>\n",
       "      <td>395</td>\n",
       "      <td>168</td>\n",
       "      <td>3.0</td>\n",
       "      <td>841503984</td>\n",
       "    </tr>\n",
       "    <tr>\n",
       "      <th>100835</th>\n",
       "      <td>100835</td>\n",
       "      <td>288</td>\n",
       "      <td>2407</td>\n",
       "      <td>3.5</td>\n",
       "      <td>1054568795</td>\n",
       "    </tr>\n",
       "  </tbody>\n",
       "</table>\n",
       "<p>100836 rows × 5 columns</p>\n",
       "</div>"
      ],
      "text/plain": [
       "        Unnamed: 0  userId  movieId  rating   timestamp\n",
       "0                0     496   112852     3.0  1415520462\n",
       "1                1     391     1947     4.0  1030945141\n",
       "2                2     387     1562     1.5  1095041022\n",
       "3                3     474     2716     4.5  1053020930\n",
       "4                4     483    88125     4.5  1311337237\n",
       "...            ...     ...      ...     ...         ...\n",
       "100831      100831     469     1219     4.0   965661925\n",
       "100832      100832     599     3571     2.0  1498511343\n",
       "100833      100833     414      276     3.0   961596299\n",
       "100834      100834     395      168     3.0   841503984\n",
       "100835      100835     288     2407     3.5  1054568795\n",
       "\n",
       "[100836 rows x 5 columns]"
      ]
     },
     "execution_count": 3,
     "metadata": {},
     "output_type": "execute_result"
    }
   ],
   "source": [
    "rating"
   ]
  },
  {
   "cell_type": "markdown",
   "id": "dafa2458",
   "metadata": {},
   "source": [
    "# Question 1A"
   ]
  },
  {
   "cell_type": "code",
   "execution_count": 4,
   "id": "3005c31b",
   "metadata": {},
   "outputs": [],
   "source": [
    "user_num = len(set(rating[\"userId\"]))\n",
    "movie_num = len(set(rating[\"movieId\"]))\n",
    "rating_num = len(rating[\"rating\"])"
   ]
  },
  {
   "cell_type": "code",
   "execution_count": 5,
   "id": "17b50231",
   "metadata": {},
   "outputs": [
    {
     "name": "stdout",
     "output_type": "stream",
     "text": [
      "Sparsity is 0.016999683055613623\n"
     ]
    }
   ],
   "source": [
    "sparsity = rating_num / (movie_num*user_num)\n",
    "print(\"Sparsity is\", sparsity)"
   ]
  },
  {
   "cell_type": "markdown",
   "id": "50fe6329",
   "metadata": {},
   "source": [
    "# Question 1B"
   ]
  },
  {
   "cell_type": "code",
   "execution_count": 6,
   "id": "1a5e685d",
   "metadata": {},
   "outputs": [
    {
     "data": {
      "text/plain": [
       "Text(0.5, 1.0, 'Frequency of the Rating Values')"
      ]
     },
     "execution_count": 6,
     "metadata": {},
     "output_type": "execute_result"
    },
    {
     "data": {
      "image/png": "[encoded data removed]",
      "text/plain": [
       "<Figure size 432x288 with 1 Axes>"
      ]
     },
     "metadata": {
      "needs_background": "light"
     },
     "output_type": "display_data"
    }
   ],
   "source": [
    "bins = np.linspace(0,5,num=11)\n",
    "rating_value = rating[\"rating\"]\n",
    "plt.hist(rating_value, bins=bins)\n",
    "plt.xlabel(\"binned rating values\")\n",
    "plt.ylabel(\"raw rating values\")\n",
    "plt.title(\"Frequency of the Rating Values\")"
   ]
  },
  {
   "cell_type": "markdown",
   "id": "f2b6ab3f",
   "metadata": {},
   "source": [
    "Shape of the raw rating values approximately have trend of increasing but non-monotonically. "
   ]
  },
  {
   "cell_type": "markdown",
   "id": "92973701",
   "metadata": {},
   "source": [
    "# Question 1C"
   ]
  },
  {
   "cell_type": "code",
   "execution_count": 7,
   "id": "9b91c9e9",
   "metadata": {},
   "outputs": [
    {
     "data": {
      "text/plain": [
       "Text(0.5, 1.0, 'Distribution of Ratings Received Among Movies')"
      ]
     },
     "execution_count": 7,
     "metadata": {},
     "output_type": "execute_result"
    },
    {
     "data": {
      "image/png": "[encoded data removed]",
      "text/plain": [
       "<Figure size 432x288 with 1 Axes>"
      ]
     },
     "metadata": {
      "needs_background": "light"
     },
     "output_type": "display_data"
    }
   ],
   "source": [
    "movie_index = rating[\"movieId\"]\n",
    "counter = Counter(movie_index)\n",
    "counter_dec = sorted(list(counter.values()), reverse=True)\n",
    "plt.hist(counter_dec)\n",
    "plt.xlabel(\"Movie ID\")\n",
    "plt.ylabel(\"Frequency of rating Movie ID\")\n",
    "plt.title(\"Distribution of Ratings Received Among Movies\")"
   ]
  },
  {
   "cell_type": "markdown",
   "id": "71f01f81",
   "metadata": {},
   "source": [
    "# Question 1D"
   ]
  },
  {
   "cell_type": "code",
   "execution_count": 8,
   "id": "9719fb99",
   "metadata": {},
   "outputs": [
    {
     "data": {
      "text/plain": [
       "Text(0.5, 1.0, 'Distribution of Ratings Received Among Users')"
      ]
     },
     "execution_count": 8,
     "metadata": {},
     "output_type": "execute_result"
    },
    {
     "data": {
      "image/png": "[encoded data removed]",
      "text/plain": [
       "<Figure size 432x288 with 1 Axes>"
      ]
     },
     "metadata": {
      "needs_background": "light"
     },
     "output_type": "display_data"
    }
   ],
   "source": [
    "user_index = rating[\"userId\"]\n",
    "counter_user = Counter(user_index)\n",
    "counter_dec_user = sorted(list(counter_user.values()), reverse=True)\n",
    "plt.hist(counter_dec_user)\n",
    "plt.xlabel(\"User ID\")\n",
    "plt.ylabel(\"Frequency of rating User\")\n",
    "plt.title(\"Distribution of Ratings Received Among Users\")"
   ]
  },
  {
   "cell_type": "markdown",
   "id": "b3d9a5c7",
   "metadata": {},
   "source": [
    "# Question 1E\n",
    "Distribution of both graphs have decreasing trend. Both of them have high frequency low movie ID and user ID. It shows that more lower movie ID was rated and people has low user ID rate more movie than high user ID. "
   ]
  },
  {
   "cell_type": "markdown",
   "id": "c4a706eb",
   "metadata": {},
   "source": [
    "# Question 1F"
   ]
  },
  {
   "cell_type": "code",
   "execution_count": 9,
   "id": "7d91e902",
   "metadata": {},
   "outputs": [
    {
     "data": {
      "text/html": [
       "<div>\n",
       "<style scoped>\n",
       "    .dataframe tbody tr th:only-of-type {\n",
       "        vertical-align: middle;\n",
       "    }\n",
       "\n",
       "    .dataframe tbody tr th {\n",
       "        vertical-align: top;\n",
       "    }\n",
       "\n",
       "    .dataframe thead th {\n",
       "        text-align: right;\n",
       "    }\n",
       "</style>\n",
       "<table border=\"1\" class=\"dataframe\">\n",
       "  <thead>\n",
       "    <tr style=\"text-align: right;\">\n",
       "      <th></th>\n",
       "      <th>rating</th>\n",
       "    </tr>\n",
       "    <tr>\n",
       "      <th>movieId</th>\n",
       "      <th></th>\n",
       "    </tr>\n",
       "  </thead>\n",
       "  <tbody>\n",
       "    <tr>\n",
       "      <th>1</th>\n",
       "      <td>0.696990</td>\n",
       "    </tr>\n",
       "    <tr>\n",
       "      <th>2</th>\n",
       "      <td>0.777419</td>\n",
       "    </tr>\n",
       "    <tr>\n",
       "      <th>3</th>\n",
       "      <td>1.112651</td>\n",
       "    </tr>\n",
       "    <tr>\n",
       "      <th>4</th>\n",
       "      <td>0.726190</td>\n",
       "    </tr>\n",
       "    <tr>\n",
       "      <th>5</th>\n",
       "      <td>0.822917</td>\n",
       "    </tr>\n",
       "    <tr>\n",
       "      <th>...</th>\n",
       "      <td>...</td>\n",
       "    </tr>\n",
       "    <tr>\n",
       "      <th>193581</th>\n",
       "      <td>NaN</td>\n",
       "    </tr>\n",
       "    <tr>\n",
       "      <th>193583</th>\n",
       "      <td>NaN</td>\n",
       "    </tr>\n",
       "    <tr>\n",
       "      <th>193585</th>\n",
       "      <td>NaN</td>\n",
       "    </tr>\n",
       "    <tr>\n",
       "      <th>193587</th>\n",
       "      <td>NaN</td>\n",
       "    </tr>\n",
       "    <tr>\n",
       "      <th>193609</th>\n",
       "      <td>NaN</td>\n",
       "    </tr>\n",
       "  </tbody>\n",
       "</table>\n",
       "<p>9724 rows × 1 columns</p>\n",
       "</div>"
      ],
      "text/plain": [
       "           rating\n",
       "movieId          \n",
       "1        0.696990\n",
       "2        0.777419\n",
       "3        1.112651\n",
       "4        0.726190\n",
       "5        0.822917\n",
       "...           ...\n",
       "193581        NaN\n",
       "193583        NaN\n",
       "193585        NaN\n",
       "193587        NaN\n",
       "193609        NaN\n",
       "\n",
       "[9724 rows x 1 columns]"
      ]
     },
     "execution_count": 9,
     "metadata": {},
     "output_type": "execute_result"
    }
   ],
   "source": [
    "rating_value = rating[[\"rating\", \"movieId\"]]\n",
    "vars_value = rating_value.groupby(['movieId']).var()\n",
    "vars_value"
   ]
  },
  {
   "cell_type": "code",
   "execution_count": 10,
   "id": "0774ec8e",
   "metadata": {},
   "outputs": [
    {
     "data": {
      "text/plain": [
       "Text(0.5, 1.0, 'variance of the rating values received by each movie')"
      ]
     },
     "execution_count": 10,
     "metadata": {},
     "output_type": "execute_result"
    },
    {
     "data": {
      "image/png": "[encoded data removed]",
      "text/plain": [
       "<Figure size 432x288 with 1 Axes>"
      ]
     },
     "metadata": {
      "needs_background": "light"
     },
     "output_type": "display_data"
    }
   ],
   "source": [
    "plt.hist(vars_value, bins=20)\n",
    "plt.xlabel(\"binned variance values\")\n",
    "plt.ylabel(\"number of movies\")\n",
    "plt.title(\"variance of the rating values received by each movie\")"
   ]
  },
  {
   "cell_type": "markdown",
   "id": "7195cc66",
   "metadata": {},
   "source": [
    "The shape of the variance plot has a decreasing trend. Most of the variance values focus on interval 0 to 2. After variance value=2, there's not too many movies. "
   ]
  },
  {
   "cell_type": "markdown",
   "id": "5c702cdc",
   "metadata": {},
   "source": [
    "# Q2"
   ]
  },
  {
   "cell_type": "markdown",
   "id": "4d1503ee",
   "metadata": {},
   "source": [
    "A: $ \\mu_u = \t\\frac {\\sum_{i \\in I_u} r_{ui}} {||I_u||} $"
   ]
  },
  {
   "cell_type": "markdown",
   "id": "5a2be5dd",
   "metadata": {},
   "source": [
    "B: It means user u and user v have same set of rating item indices. It can be empty set because u and v may not rate same movie. Also rating matrix R is sparse also show that it is possible for user u and v rate totally different movies."
   ]
  },
  {
   "cell_type": "markdown",
   "id": "36c658c5",
   "metadata": {},
   "source": [
    "# Q3"
   ]
  },
  {
   "cell_type": "markdown",
   "id": "f053f1b4",
   "metadata": {},
   "source": [
    "Mean-centering the raw ratings redefine the point for predictor to be centered. It shifts the scale over, but retains the units. The effect is that the slope between the predictor and rating value we predict does not change at all. For instance, if there are users A and B, and both of them have extreme rating habit. A only rate the movie from 1 to 3, and B only rate the movie 4 to 6. If we don't subtract the mean, we will predict similar rating for A and B which is not accurate. "
   ]
  },
  {
   "cell_type": "markdown",
   "id": "676ae4b8",
   "metadata": {},
   "source": [
    "# Q4"
   ]
  },
  {
   "cell_type": "code",
   "execution_count": 11,
   "id": "70a3b6ff",
   "metadata": {},
   "outputs": [],
   "source": [
    "reader = Reader(rating_scale=(0,5))\n",
    "data_rating = Dataset.load_from_df(rating[[\"userId\",\"movieId\",\"rating\"]], reader=reader)"
   ]
  },
  {
   "cell_type": "code",
   "execution_count": 12,
   "id": "7d5a750e",
   "metadata": {},
   "outputs": [],
   "source": [
    "df_q4=pd.DataFrame()\n",
    "temp = {}"
   ]
  },
  {
   "cell_type": "code",
   "execution_count": 13,
   "id": "baa31ac2",
   "metadata": {
    "pycharm": {
     "is_executing": true
    }
   },
   "outputs": [
    {
     "name": "stderr",
     "output_type": "stream",
     "text": [
      " 10%|████▍                                       | 5/50 [01:29<13:27, 17.94s/it]\n"
     ]
    },
    {
     "ename": "KeyboardInterrupt",
     "evalue": "",
     "output_type": "error",
     "traceback": [
      "\u001b[0;31m---------------------------------------------------------------------------\u001b[0m",
      "\u001b[0;31mKeyboardInterrupt\u001b[0m                         Traceback (most recent call last)",
      "Input \u001b[0;32mIn [13]\u001b[0m, in \u001b[0;36m<cell line: 1>\u001b[0;34m()\u001b[0m\n\u001b[1;32m      1\u001b[0m \u001b[38;5;28;01mfor\u001b[39;00m x \u001b[38;5;129;01min\u001b[39;00m tqdm(\u001b[38;5;28mrange\u001b[39m(\u001b[38;5;241m2\u001b[39m,\u001b[38;5;241m102\u001b[39m,\u001b[38;5;241m2\u001b[39m)):\n\u001b[0;32m----> 2\u001b[0m     the \u001b[38;5;241m=\u001b[39m \u001b[43mcross_validate\u001b[49m\u001b[43m(\u001b[49m\u001b[43mKNNWithMeans\u001b[49m\u001b[43m(\u001b[49m\u001b[43msim_options\u001b[49m\u001b[38;5;241;43m=\u001b[39;49m\u001b[43m{\u001b[49m\u001b[38;5;124;43m'\u001b[39;49m\u001b[38;5;124;43mname\u001b[39;49m\u001b[38;5;124;43m'\u001b[39;49m\u001b[43m:\u001b[49m\u001b[38;5;124;43m'\u001b[39;49m\u001b[38;5;124;43mpearson\u001b[39;49m\u001b[38;5;124;43m'\u001b[39;49m\u001b[43m}\u001b[49m\u001b[43m,\u001b[49m\u001b[43mk\u001b[49m\u001b[38;5;241;43m=\u001b[39;49m\u001b[43mx\u001b[49m\u001b[43m,\u001b[49m\u001b[43mverbose\u001b[49m\u001b[38;5;241;43m=\u001b[39;49m\u001b[38;5;28;43;01mFalse\u001b[39;49;00m\u001b[43m)\u001b[49m\u001b[43m,\u001b[49m\u001b[43mdata_rating\u001b[49m\u001b[43m,\u001b[49m\u001b[43mcv\u001b[49m\u001b[38;5;241;43m=\u001b[39;49m\u001b[38;5;241;43m10\u001b[39;49m\u001b[43m,\u001b[49m\u001b[43mverbose\u001b[49m\u001b[38;5;241;43m=\u001b[39;49m\u001b[38;5;28;43;01mFalse\u001b[39;49;00m\u001b[43m)\u001b[49m\n\u001b[1;32m      3\u001b[0m     temp[x]\u001b[38;5;241m=\u001b[39mthe\n\u001b[1;32m      4\u001b[0m     row1 \u001b[38;5;241m=\u001b[39m {\n\u001b[1;32m      5\u001b[0m     \u001b[38;5;124m\"\u001b[39m\u001b[38;5;124mk\u001b[39m\u001b[38;5;124m\"\u001b[39m: x,\n\u001b[1;32m      6\u001b[0m     \u001b[38;5;124m\"\u001b[39m\u001b[38;5;124mAverage_Rmse\u001b[39m\u001b[38;5;124m\"\u001b[39m: np\u001b[38;5;241m.\u001b[39mmean(the[\u001b[38;5;124m\"\u001b[39m\u001b[38;5;124mtest_rmse\u001b[39m\u001b[38;5;124m\"\u001b[39m]),\n\u001b[1;32m      7\u001b[0m     \u001b[38;5;124m\"\u001b[39m\u001b[38;5;124mAverage_Mae\u001b[39m\u001b[38;5;124m\"\u001b[39m: np\u001b[38;5;241m.\u001b[39mmean(the[\u001b[38;5;124m\"\u001b[39m\u001b[38;5;124mtest_mae\u001b[39m\u001b[38;5;124m\"\u001b[39m])\n\u001b[1;32m      8\u001b[0m     }\n",
      "File \u001b[0;32m~/opt/anaconda3/lib/python3.9/site-packages/surprise/model_selection/validation.py:108\u001b[0m, in \u001b[0;36mcross_validate\u001b[0;34m(algo, data, measures, cv, return_train_measures, n_jobs, pre_dispatch, verbose)\u001b[0m\n\u001b[1;32m    102\u001b[0m cv \u001b[38;5;241m=\u001b[39m get_cv(cv)\n\u001b[1;32m    104\u001b[0m delayed_list \u001b[38;5;241m=\u001b[39m (\n\u001b[1;32m    105\u001b[0m     delayed(fit_and_score)(algo, trainset, testset, measures, return_train_measures)\n\u001b[1;32m    106\u001b[0m     \u001b[38;5;28;01mfor\u001b[39;00m (trainset, testset) \u001b[38;5;129;01min\u001b[39;00m cv\u001b[38;5;241m.\u001b[39msplit(data)\n\u001b[1;32m    107\u001b[0m )\n\u001b[0;32m--> 108\u001b[0m out \u001b[38;5;241m=\u001b[39m \u001b[43mParallel\u001b[49m\u001b[43m(\u001b[49m\u001b[43mn_jobs\u001b[49m\u001b[38;5;241;43m=\u001b[39;49m\u001b[43mn_jobs\u001b[49m\u001b[43m,\u001b[49m\u001b[43m \u001b[49m\u001b[43mpre_dispatch\u001b[49m\u001b[38;5;241;43m=\u001b[39;49m\u001b[43mpre_dispatch\u001b[49m\u001b[43m)\u001b[49m\u001b[43m(\u001b[49m\u001b[43mdelayed_list\u001b[49m\u001b[43m)\u001b[49m\n\u001b[1;32m    110\u001b[0m (test_measures_dicts, train_measures_dicts, fit_times, test_times) \u001b[38;5;241m=\u001b[39m \u001b[38;5;28mzip\u001b[39m(\u001b[38;5;241m*\u001b[39mout)\n\u001b[1;32m    112\u001b[0m test_measures \u001b[38;5;241m=\u001b[39m \u001b[38;5;28mdict\u001b[39m()\n",
      "File \u001b[0;32m~/opt/anaconda3/lib/python3.9/site-packages/joblib/parallel.py:1046\u001b[0m, in \u001b[0;36mParallel.__call__\u001b[0;34m(self, iterable)\u001b[0m\n\u001b[1;32m   1043\u001b[0m \u001b[38;5;28;01mif\u001b[39;00m \u001b[38;5;28mself\u001b[39m\u001b[38;5;241m.\u001b[39mdispatch_one_batch(iterator):\n\u001b[1;32m   1044\u001b[0m     \u001b[38;5;28mself\u001b[39m\u001b[38;5;241m.\u001b[39m_iterating \u001b[38;5;241m=\u001b[39m \u001b[38;5;28mself\u001b[39m\u001b[38;5;241m.\u001b[39m_original_iterator \u001b[38;5;129;01mis\u001b[39;00m \u001b[38;5;129;01mnot\u001b[39;00m \u001b[38;5;28;01mNone\u001b[39;00m\n\u001b[0;32m-> 1046\u001b[0m \u001b[38;5;28;01mwhile\u001b[39;00m \u001b[38;5;28;43mself\u001b[39;49m\u001b[38;5;241;43m.\u001b[39;49m\u001b[43mdispatch_one_batch\u001b[49m\u001b[43m(\u001b[49m\u001b[43miterator\u001b[49m\u001b[43m)\u001b[49m:\n\u001b[1;32m   1047\u001b[0m     \u001b[38;5;28;01mpass\u001b[39;00m\n\u001b[1;32m   1049\u001b[0m \u001b[38;5;28;01mif\u001b[39;00m pre_dispatch \u001b[38;5;241m==\u001b[39m \u001b[38;5;124m\"\u001b[39m\u001b[38;5;124mall\u001b[39m\u001b[38;5;124m\"\u001b[39m \u001b[38;5;129;01mor\u001b[39;00m n_jobs \u001b[38;5;241m==\u001b[39m \u001b[38;5;241m1\u001b[39m:\n\u001b[1;32m   1050\u001b[0m     \u001b[38;5;66;03m# The iterable was consumed all at once by the above for loop.\u001b[39;00m\n\u001b[1;32m   1051\u001b[0m     \u001b[38;5;66;03m# No need to wait for async callbacks to trigger to\u001b[39;00m\n\u001b[1;32m   1052\u001b[0m     \u001b[38;5;66;03m# consumption.\u001b[39;00m\n",
      "File \u001b[0;32m~/opt/anaconda3/lib/python3.9/site-packages/joblib/parallel.py:861\u001b[0m, in \u001b[0;36mParallel.dispatch_one_batch\u001b[0;34m(self, iterator)\u001b[0m\n\u001b[1;32m    859\u001b[0m     \u001b[38;5;28;01mreturn\u001b[39;00m \u001b[38;5;28;01mFalse\u001b[39;00m\n\u001b[1;32m    860\u001b[0m \u001b[38;5;28;01melse\u001b[39;00m:\n\u001b[0;32m--> 861\u001b[0m     \u001b[38;5;28;43mself\u001b[39;49m\u001b[38;5;241;43m.\u001b[39;49m\u001b[43m_dispatch\u001b[49m\u001b[43m(\u001b[49m\u001b[43mtasks\u001b[49m\u001b[43m)\u001b[49m\n\u001b[1;32m    862\u001b[0m     \u001b[38;5;28;01mreturn\u001b[39;00m \u001b[38;5;28;01mTrue\u001b[39;00m\n",
      "File \u001b[0;32m~/opt/anaconda3/lib/python3.9/site-packages/joblib/parallel.py:779\u001b[0m, in \u001b[0;36mParallel._dispatch\u001b[0;34m(self, batch)\u001b[0m\n\u001b[1;32m    777\u001b[0m \u001b[38;5;28;01mwith\u001b[39;00m \u001b[38;5;28mself\u001b[39m\u001b[38;5;241m.\u001b[39m_lock:\n\u001b[1;32m    778\u001b[0m     job_idx \u001b[38;5;241m=\u001b[39m \u001b[38;5;28mlen\u001b[39m(\u001b[38;5;28mself\u001b[39m\u001b[38;5;241m.\u001b[39m_jobs)\n\u001b[0;32m--> 779\u001b[0m     job \u001b[38;5;241m=\u001b[39m \u001b[38;5;28;43mself\u001b[39;49m\u001b[38;5;241;43m.\u001b[39;49m\u001b[43m_backend\u001b[49m\u001b[38;5;241;43m.\u001b[39;49m\u001b[43mapply_async\u001b[49m\u001b[43m(\u001b[49m\u001b[43mbatch\u001b[49m\u001b[43m,\u001b[49m\u001b[43m \u001b[49m\u001b[43mcallback\u001b[49m\u001b[38;5;241;43m=\u001b[39;49m\u001b[43mcb\u001b[49m\u001b[43m)\u001b[49m\n\u001b[1;32m    780\u001b[0m     \u001b[38;5;66;03m# A job can complete so quickly than its callback is\u001b[39;00m\n\u001b[1;32m    781\u001b[0m     \u001b[38;5;66;03m# called before we get here, causing self._jobs to\u001b[39;00m\n\u001b[1;32m    782\u001b[0m     \u001b[38;5;66;03m# grow. To ensure correct results ordering, .insert is\u001b[39;00m\n\u001b[1;32m    783\u001b[0m     \u001b[38;5;66;03m# used (rather than .append) in the following line\u001b[39;00m\n\u001b[1;32m    784\u001b[0m     \u001b[38;5;28mself\u001b[39m\u001b[38;5;241m.\u001b[39m_jobs\u001b[38;5;241m.\u001b[39minsert(job_idx, job)\n",
      "File \u001b[0;32m~/opt/anaconda3/lib/python3.9/site-packages/joblib/_parallel_backends.py:208\u001b[0m, in \u001b[0;36mSequentialBackend.apply_async\u001b[0;34m(self, func, callback)\u001b[0m\n\u001b[1;32m    206\u001b[0m \u001b[38;5;28;01mdef\u001b[39;00m \u001b[38;5;21mapply_async\u001b[39m(\u001b[38;5;28mself\u001b[39m, func, callback\u001b[38;5;241m=\u001b[39m\u001b[38;5;28;01mNone\u001b[39;00m):\n\u001b[1;32m    207\u001b[0m     \u001b[38;5;124;03m\"\"\"Schedule a func to be run\"\"\"\u001b[39;00m\n\u001b[0;32m--> 208\u001b[0m     result \u001b[38;5;241m=\u001b[39m \u001b[43mImmediateResult\u001b[49m\u001b[43m(\u001b[49m\u001b[43mfunc\u001b[49m\u001b[43m)\u001b[49m\n\u001b[1;32m    209\u001b[0m     \u001b[38;5;28;01mif\u001b[39;00m callback:\n\u001b[1;32m    210\u001b[0m         callback(result)\n",
      "File \u001b[0;32m~/opt/anaconda3/lib/python3.9/site-packages/joblib/_parallel_backends.py:572\u001b[0m, in \u001b[0;36mImmediateResult.__init__\u001b[0;34m(self, batch)\u001b[0m\n\u001b[1;32m    569\u001b[0m \u001b[38;5;28;01mdef\u001b[39;00m \u001b[38;5;21m__init__\u001b[39m(\u001b[38;5;28mself\u001b[39m, batch):\n\u001b[1;32m    570\u001b[0m     \u001b[38;5;66;03m# Don't delay the application, to avoid keeping the input\u001b[39;00m\n\u001b[1;32m    571\u001b[0m     \u001b[38;5;66;03m# arguments in memory\u001b[39;00m\n\u001b[0;32m--> 572\u001b[0m     \u001b[38;5;28mself\u001b[39m\u001b[38;5;241m.\u001b[39mresults \u001b[38;5;241m=\u001b[39m \u001b[43mbatch\u001b[49m\u001b[43m(\u001b[49m\u001b[43m)\u001b[49m\n",
      "File \u001b[0;32m~/opt/anaconda3/lib/python3.9/site-packages/joblib/parallel.py:262\u001b[0m, in \u001b[0;36mBatchedCalls.__call__\u001b[0;34m(self)\u001b[0m\n\u001b[1;32m    258\u001b[0m \u001b[38;5;28;01mdef\u001b[39;00m \u001b[38;5;21m__call__\u001b[39m(\u001b[38;5;28mself\u001b[39m):\n\u001b[1;32m    259\u001b[0m     \u001b[38;5;66;03m# Set the default nested backend to self._backend but do not set the\u001b[39;00m\n\u001b[1;32m    260\u001b[0m     \u001b[38;5;66;03m# change the default number of processes to -1\u001b[39;00m\n\u001b[1;32m    261\u001b[0m     \u001b[38;5;28;01mwith\u001b[39;00m parallel_backend(\u001b[38;5;28mself\u001b[39m\u001b[38;5;241m.\u001b[39m_backend, n_jobs\u001b[38;5;241m=\u001b[39m\u001b[38;5;28mself\u001b[39m\u001b[38;5;241m.\u001b[39m_n_jobs):\n\u001b[0;32m--> 262\u001b[0m         \u001b[38;5;28;01mreturn\u001b[39;00m [func(\u001b[38;5;241m*\u001b[39margs, \u001b[38;5;241m*\u001b[39m\u001b[38;5;241m*\u001b[39mkwargs)\n\u001b[1;32m    263\u001b[0m                 \u001b[38;5;28;01mfor\u001b[39;00m func, args, kwargs \u001b[38;5;129;01min\u001b[39;00m \u001b[38;5;28mself\u001b[39m\u001b[38;5;241m.\u001b[39mitems]\n",
      "File \u001b[0;32m~/opt/anaconda3/lib/python3.9/site-packages/joblib/parallel.py:262\u001b[0m, in \u001b[0;36m<listcomp>\u001b[0;34m(.0)\u001b[0m\n\u001b[1;32m    258\u001b[0m \u001b[38;5;28;01mdef\u001b[39;00m \u001b[38;5;21m__call__\u001b[39m(\u001b[38;5;28mself\u001b[39m):\n\u001b[1;32m    259\u001b[0m     \u001b[38;5;66;03m# Set the default nested backend to self._backend but do not set the\u001b[39;00m\n\u001b[1;32m    260\u001b[0m     \u001b[38;5;66;03m# change the default number of processes to -1\u001b[39;00m\n\u001b[1;32m    261\u001b[0m     \u001b[38;5;28;01mwith\u001b[39;00m parallel_backend(\u001b[38;5;28mself\u001b[39m\u001b[38;5;241m.\u001b[39m_backend, n_jobs\u001b[38;5;241m=\u001b[39m\u001b[38;5;28mself\u001b[39m\u001b[38;5;241m.\u001b[39m_n_jobs):\n\u001b[0;32m--> 262\u001b[0m         \u001b[38;5;28;01mreturn\u001b[39;00m [\u001b[43mfunc\u001b[49m\u001b[43m(\u001b[49m\u001b[38;5;241;43m*\u001b[39;49m\u001b[43margs\u001b[49m\u001b[43m,\u001b[49m\u001b[43m \u001b[49m\u001b[38;5;241;43m*\u001b[39;49m\u001b[38;5;241;43m*\u001b[39;49m\u001b[43mkwargs\u001b[49m\u001b[43m)\u001b[49m\n\u001b[1;32m    263\u001b[0m                 \u001b[38;5;28;01mfor\u001b[39;00m func, args, kwargs \u001b[38;5;129;01min\u001b[39;00m \u001b[38;5;28mself\u001b[39m\u001b[38;5;241m.\u001b[39mitems]\n",
      "File \u001b[0;32m~/opt/anaconda3/lib/python3.9/site-packages/surprise/model_selection/validation.py:176\u001b[0m, in \u001b[0;36mfit_and_score\u001b[0;34m(algo, trainset, testset, measures, return_train_measures)\u001b[0m\n\u001b[1;32m    174\u001b[0m fit_time \u001b[38;5;241m=\u001b[39m time\u001b[38;5;241m.\u001b[39mtime() \u001b[38;5;241m-\u001b[39m start_fit\n\u001b[1;32m    175\u001b[0m start_test \u001b[38;5;241m=\u001b[39m time\u001b[38;5;241m.\u001b[39mtime()\n\u001b[0;32m--> 176\u001b[0m predictions \u001b[38;5;241m=\u001b[39m \u001b[43malgo\u001b[49m\u001b[38;5;241;43m.\u001b[39;49m\u001b[43mtest\u001b[49m\u001b[43m(\u001b[49m\u001b[43mtestset\u001b[49m\u001b[43m)\u001b[49m\n\u001b[1;32m    177\u001b[0m test_time \u001b[38;5;241m=\u001b[39m time\u001b[38;5;241m.\u001b[39mtime() \u001b[38;5;241m-\u001b[39m start_test\n\u001b[1;32m    179\u001b[0m \u001b[38;5;28;01mif\u001b[39;00m return_train_measures:\n",
      "File \u001b[0;32m~/opt/anaconda3/lib/python3.9/site-packages/surprise/prediction_algorithms/algo_base.py:160\u001b[0m, in \u001b[0;36mAlgoBase.test\u001b[0;34m(self, testset, verbose)\u001b[0m\n\u001b[1;32m    142\u001b[0m \u001b[38;5;124;03m\"\"\"Test the algorithm on given testset, i.e. estimate all the ratings\u001b[39;00m\n\u001b[1;32m    143\u001b[0m \u001b[38;5;124;03min the given testset.\u001b[39;00m\n\u001b[1;32m    144\u001b[0m \n\u001b[0;32m   (...)\u001b[0m\n\u001b[1;32m    156\u001b[0m \u001b[38;5;124;03m    that contains all the estimated ratings.\u001b[39;00m\n\u001b[1;32m    157\u001b[0m \u001b[38;5;124;03m\"\"\"\u001b[39;00m\n\u001b[1;32m    159\u001b[0m \u001b[38;5;66;03m# The ratings are translated back to their original scale.\u001b[39;00m\n\u001b[0;32m--> 160\u001b[0m predictions \u001b[38;5;241m=\u001b[39m [\n\u001b[1;32m    161\u001b[0m     \u001b[38;5;28mself\u001b[39m\u001b[38;5;241m.\u001b[39mpredict(uid, iid, r_ui_trans, verbose\u001b[38;5;241m=\u001b[39mverbose)\n\u001b[1;32m    162\u001b[0m     \u001b[38;5;28;01mfor\u001b[39;00m (uid, iid, r_ui_trans) \u001b[38;5;129;01min\u001b[39;00m testset\n\u001b[1;32m    163\u001b[0m ]\n\u001b[1;32m    164\u001b[0m \u001b[38;5;28;01mreturn\u001b[39;00m predictions\n",
      "File \u001b[0;32m~/opt/anaconda3/lib/python3.9/site-packages/surprise/prediction_algorithms/algo_base.py:161\u001b[0m, in \u001b[0;36m<listcomp>\u001b[0;34m(.0)\u001b[0m\n\u001b[1;32m    142\u001b[0m \u001b[38;5;124;03m\"\"\"Test the algorithm on given testset, i.e. estimate all the ratings\u001b[39;00m\n\u001b[1;32m    143\u001b[0m \u001b[38;5;124;03min the given testset.\u001b[39;00m\n\u001b[1;32m    144\u001b[0m \n\u001b[0;32m   (...)\u001b[0m\n\u001b[1;32m    156\u001b[0m \u001b[38;5;124;03m    that contains all the estimated ratings.\u001b[39;00m\n\u001b[1;32m    157\u001b[0m \u001b[38;5;124;03m\"\"\"\u001b[39;00m\n\u001b[1;32m    159\u001b[0m \u001b[38;5;66;03m# The ratings are translated back to their original scale.\u001b[39;00m\n\u001b[1;32m    160\u001b[0m predictions \u001b[38;5;241m=\u001b[39m [\n\u001b[0;32m--> 161\u001b[0m     \u001b[38;5;28;43mself\u001b[39;49m\u001b[38;5;241;43m.\u001b[39;49m\u001b[43mpredict\u001b[49m\u001b[43m(\u001b[49m\u001b[43muid\u001b[49m\u001b[43m,\u001b[49m\u001b[43m \u001b[49m\u001b[43miid\u001b[49m\u001b[43m,\u001b[49m\u001b[43m \u001b[49m\u001b[43mr_ui_trans\u001b[49m\u001b[43m,\u001b[49m\u001b[43m \u001b[49m\u001b[43mverbose\u001b[49m\u001b[38;5;241;43m=\u001b[39;49m\u001b[43mverbose\u001b[49m\u001b[43m)\u001b[49m\n\u001b[1;32m    162\u001b[0m     \u001b[38;5;28;01mfor\u001b[39;00m (uid, iid, r_ui_trans) \u001b[38;5;129;01min\u001b[39;00m testset\n\u001b[1;32m    163\u001b[0m ]\n\u001b[1;32m    164\u001b[0m \u001b[38;5;28;01mreturn\u001b[39;00m predictions\n",
      "File \u001b[0;32m~/opt/anaconda3/lib/python3.9/site-packages/surprise/prediction_algorithms/algo_base.py:102\u001b[0m, in \u001b[0;36mAlgoBase.predict\u001b[0;34m(self, uid, iid, r_ui, clip, verbose)\u001b[0m\n\u001b[1;32m    100\u001b[0m details \u001b[38;5;241m=\u001b[39m {}\n\u001b[1;32m    101\u001b[0m \u001b[38;5;28;01mtry\u001b[39;00m:\n\u001b[0;32m--> 102\u001b[0m     est \u001b[38;5;241m=\u001b[39m \u001b[38;5;28;43mself\u001b[39;49m\u001b[38;5;241;43m.\u001b[39;49m\u001b[43mestimate\u001b[49m\u001b[43m(\u001b[49m\u001b[43miuid\u001b[49m\u001b[43m,\u001b[49m\u001b[43m \u001b[49m\u001b[43miiid\u001b[49m\u001b[43m)\u001b[49m\n\u001b[1;32m    104\u001b[0m     \u001b[38;5;66;03m# If the details dict was also returned\u001b[39;00m\n\u001b[1;32m    105\u001b[0m     \u001b[38;5;28;01mif\u001b[39;00m \u001b[38;5;28misinstance\u001b[39m(est, \u001b[38;5;28mtuple\u001b[39m):\n",
      "File \u001b[0;32m~/opt/anaconda3/lib/python3.9/site-packages/surprise/prediction_algorithms/knns.py:201\u001b[0m, in \u001b[0;36mKNNWithMeans.estimate\u001b[0;34m(self, u, i)\u001b[0m\n\u001b[1;32m    199\u001b[0m     \u001b[38;5;28;01mif\u001b[39;00m sim \u001b[38;5;241m>\u001b[39m \u001b[38;5;241m0\u001b[39m:\n\u001b[1;32m    200\u001b[0m         sum_sim \u001b[38;5;241m+\u001b[39m\u001b[38;5;241m=\u001b[39m sim\n\u001b[0;32m--> 201\u001b[0m         sum_ratings \u001b[38;5;241m+\u001b[39m\u001b[38;5;241m=\u001b[39m sim \u001b[38;5;241m*\u001b[39m (\u001b[43mr\u001b[49m\u001b[43m \u001b[49m\u001b[38;5;241;43m-\u001b[39;49m\u001b[43m \u001b[49m\u001b[38;5;28;43mself\u001b[39;49m\u001b[38;5;241;43m.\u001b[39;49m\u001b[43mmeans\u001b[49m\u001b[43m[\u001b[49m\u001b[43mnb\u001b[49m\u001b[43m]\u001b[49m)\n\u001b[1;32m    202\u001b[0m         actual_k \u001b[38;5;241m+\u001b[39m\u001b[38;5;241m=\u001b[39m \u001b[38;5;241m1\u001b[39m\n\u001b[1;32m    204\u001b[0m \u001b[38;5;28;01mif\u001b[39;00m actual_k \u001b[38;5;241m<\u001b[39m \u001b[38;5;28mself\u001b[39m\u001b[38;5;241m.\u001b[39mmin_k:\n",
      "\u001b[0;31mKeyboardInterrupt\u001b[0m: "
     ]
    }
   ],
   "source": [
    "for x in tqdm(range(2,102,2)):\n",
    "    the = cross_validate(KNNWithMeans(sim_options={'name':'pearson'},k=x,verbose=False),data_rating,cv=10,verbose=False)\n",
    "    temp[x]=the\n",
    "    row1 = {\n",
    "    \"k\": x,\n",
    "    \"Average_Rmse\": np.mean(the[\"test_rmse\"]),\n",
    "    \"Average_Mae\": np.mean(the[\"test_mae\"])\n",
    "    }\n",
    "    row1 = pd.DataFrame([row1])\n",
    "    df_q4 = pd.concat([df_q4,row1], ignore_index=False)"
   ]
  },
  {
   "cell_type": "code",
   "execution_count": null,
   "id": "0e5fd7c5",
   "metadata": {
    "pycharm": {
     "is_executing": true
    }
   },
   "outputs": [],
   "source": [
    "print(df_q4)"
   ]
  },
  {
   "cell_type": "code",
   "execution_count": null,
   "id": "a2159dc5",
   "metadata": {
    "pycharm": {
     "is_executing": true
    }
   },
   "outputs": [],
   "source": [
    "plt.plot(df_q4[\"k\"],df_q4[\"Average_Rmse\"] , label = \"Average Rmse\")\n",
    "plt.legend()\n",
    "plt.show()\n",
    "plt.plot(df_q4[\"k\"],df_q4[\"Average_Mae\"] , label = \"Average Mae\")\n",
    "plt.legend()\n",
    "plt.show()"
   ]
  },
  {
   "cell_type": "markdown",
   "id": "12330071",
   "metadata": {
    "pycharm": {
     "is_executing": true
    }
   },
   "source": [
    "# Q5"
   ]
  },
  {
   "cell_type": "markdown",
   "id": "10e4c487",
   "metadata": {},
   "source": [
    "k=30"
   ]
  },
  {
   "cell_type": "markdown",
   "id": "271a007f",
   "metadata": {},
   "source": [
    "# Q6"
   ]
  },
  {
   "cell_type": "code",
   "execution_count": null,
   "id": "6567c043",
   "metadata": {},
   "outputs": [],
   "source": [
    "data_movies = movie\n",
    "data_ratings = rating.dropna()"
   ]
  },
  {
   "cell_type": "code",
   "execution_count": null,
   "id": "118959b2",
   "metadata": {},
   "outputs": [],
   "source": [
    "#R=np.zeros((data_ratings['userId'].max()+1,data_ratings['movieId'].max()+1))"
   ]
  },
  {
   "cell_type": "code",
   "execution_count": null,
   "id": "c8b371bd",
   "metadata": {},
   "outputs": [],
   "source": [
    "#df=zip(data_ratings['userId'],data_ratings['movieId'],data_ratings['rating'])"
   ]
  },
  {
   "cell_type": "code",
   "execution_count": null,
   "id": "d0e2f671",
   "metadata": {},
   "outputs": [],
   "source": [
    "#for user,movie,rating in df:\n",
    "#    R[user][movie]=rating"
   ]
  },
  {
   "cell_type": "code",
   "execution_count": null,
   "id": "1271892c",
   "metadata": {},
   "outputs": [],
   "source": [
    "#R.shape"
   ]
  },
  {
   "cell_type": "code",
   "execution_count": null,
   "id": "ecd8b93d",
   "metadata": {},
   "outputs": [],
   "source": [
    "#num_users=R.shape[0]\n",
    "#num_movies=R.shape[1]"
   ]
  },
  {
   "cell_type": "code",
   "execution_count": null,
   "id": "8bd6ac7c",
   "metadata": {},
   "outputs": [],
   "source": [
    "vars_value = rating_value.groupby(['movieId'],as_index=False).var()"
   ]
  },
  {
   "cell_type": "code",
   "execution_count": null,
   "id": "6b82ec5c",
   "metadata": {},
   "outputs": [],
   "source": [
    "#Subset\n",
    "#Popular\n",
    "popular = data_ratings[data_ratings['movieId'].map(data_ratings['movieId'].value_counts()) > 2].reset_index(drop=True)\n",
    "#Unpopular\n",
    "unpopular = data_ratings[data_ratings['movieId'].map(data_ratings['movieId'].value_counts()) <= 2].reset_index(drop=True)\n",
    "#High variance\n",
    "hii = data_ratings[data_ratings['movieId'].map(data_ratings['movieId'].value_counts()) >= 5].reset_index(drop=True)\n",
    "\n",
    "high = hii[hii['movieId'].isin(set(vars_value.loc[vars_value[\"rating\"]>=2][\"movieId\"]))].reset_index(drop=True)"
   ]
  },
  {
   "cell_type": "code",
   "execution_count": null,
   "id": "8f3e9499",
   "metadata": {},
   "outputs": [],
   "source": [
    "reader = Reader(rating_scale=(0,5))\n",
    "data_pop = Dataset.load_from_df(popular[[\"userId\",\"movieId\",\"rating\"]], reader=reader)"
   ]
  },
  {
   "cell_type": "code",
   "execution_count": null,
   "id": "cd78f53c",
   "metadata": {},
   "outputs": [],
   "source": [
    "df_q6_pop=pd.DataFrame()\n",
    "temp_pop = {}"
   ]
  },
  {
   "cell_type": "code",
   "execution_count": null,
   "id": "86200c04",
   "metadata": {},
   "outputs": [],
   "source": [
    "for x in tqdm(range(2,102,2)):\n",
    "    kf = KFold(n_splits=10)\n",
    "\n",
    "    algo = KNNWithMeans(sim_options={'name':'pearson'},k=x,verbose=False)\n",
    "\n",
    "    the = []\n",
    "    for trainset, testset in kf.split(data_pop):\n",
    "\n",
    "        # train and test algorithm.\n",
    "        algo.fit(trainset)\n",
    "        predictions = algo.test(testset)\n",
    "\n",
    "        # Compute and print Root Mean Squared Error\n",
    "        the.append(accuracy.rmse(predictions, verbose=False))\n",
    "    temp_pop[x]=the\n",
    "    row1 = {\n",
    "    \"k\": x,\n",
    "    \"Average_Rmse\": np.mean(the)\n",
    "    }\n",
    "    row1 = pd.DataFrame([row1])\n",
    "    df_q6_pop = pd.concat([df_q6_pop,row1], ignore_index=False)"
   ]
  },
  {
   "cell_type": "code",
   "execution_count": null,
   "id": "4a7dee40",
   "metadata": {},
   "outputs": [],
   "source": [
    "data_unpop = Dataset.load_from_df(unpopular[[\"userId\",\"movieId\",\"rating\"]], reader=reader)\n",
    "df_q6_unpop=pd.DataFrame()\n",
    "temp_unpop = {}"
   ]
  },
  {
   "cell_type": "code",
   "execution_count": null,
   "id": "3c53058e",
   "metadata": {},
   "outputs": [],
   "source": [
    "for x in tqdm(range(2,102,2)):\n",
    "    kf = KFold(n_splits=10)\n",
    "\n",
    "    algo = KNNWithMeans(sim_options={'name':'pearson'},k=x,verbose=False)\n",
    "\n",
    "    the = []\n",
    "    for trainset, testset in kf.split(data_unpop):\n",
    "\n",
    "        # train and test algorithm.\n",
    "        algo.fit(trainset)\n",
    "        predictions = algo.test(testset)\n",
    "\n",
    "        # Compute and print Root Mean Squared Error\n",
    "        the.append(accuracy.rmse(predictions, verbose=False))\n",
    "    temp_unpop[x]=the\n",
    "    row1 = {\n",
    "    \"k\": x,\n",
    "    \"Average_Rmse\": np.mean(the)\n",
    "    }\n",
    "    row1 = pd.DataFrame([row1])\n",
    "    df_q6_unpop = pd.concat([df_q6_unpop,row1], ignore_index=False)"
   ]
  },
  {
   "cell_type": "code",
   "execution_count": null,
   "id": "66271524",
   "metadata": {},
   "outputs": [],
   "source": [
    "data_high = Dataset.load_from_df(high[[\"userId\",\"movieId\",\"rating\"]], reader=reader)\n",
    "df_q6_high=pd.DataFrame()\n",
    "temp_high = {}"
   ]
  },
  {
   "cell_type": "code",
   "execution_count": null,
   "id": "e23582d9",
   "metadata": {},
   "outputs": [],
   "source": [
    "for x in tqdm(range(2,102,2)):\n",
    "    kf = KFold(n_splits=10)\n",
    "\n",
    "    algo = KNNWithMeans(sim_options={'name':'pearson'},k=x,verbose=False)\n",
    "\n",
    "    the = []\n",
    "    for trainset, testset in kf.split(data_high):\n",
    "\n",
    "        # train and test algorithm.\n",
    "        algo.fit(trainset)\n",
    "        predictions = algo.test(testset)\n",
    "\n",
    "        # Compute and print Root Mean Squared Error\n",
    "        the.append(accuracy.rmse(predictions, verbose=False))\n",
    "    temp_unpop[x]=the\n",
    "    row1 = {\n",
    "    \"k\": x,\n",
    "    \"Average_Rmse\": np.mean(the)\n",
    "    }\n",
    "    row1 = pd.DataFrame([row1])\n",
    "    df_q6_high = pd.concat([df_q6_high,row1], ignore_index=False)"
   ]
  },
  {
   "cell_type": "code",
   "execution_count": null,
   "id": "978d5182",
   "metadata": {},
   "outputs": [],
   "source": [
    "plt.plot(df_q6_pop[\"k\"],df_q6_pop[\"Average_Rmse\"] , label = \"Popular Average Rmse\")\n",
    "plt.legend()\n",
    "plt.show()\n",
    "plt.plot(df_q6_unpop[\"k\"],df_q6_unpop[\"Average_Rmse\"] , label = \"UnPopular Average Rmse\")\n",
    "plt.legend()\n",
    "plt.show()\n",
    "plt.plot(df_q6_high[\"k\"],df_q6_high[\"Average_Rmse\"] , label = \"HighVeriance Average Rmse\")\n",
    "plt.legend()\n",
    "plt.show()"
   ]
  },
  {
   "cell_type": "markdown",
   "id": "c078575d",
   "metadata": {},
   "source": [
    "# Q7"
   ]
  },
  {
   "cell_type": "markdown",
   "id": "ea948aa6",
   "metadata": {},
   "source": [
    "Yes, with fixed U, the equation is just as a least square problem where r is y and U is k and V^T is x. Least square is convex thus this equation is convex."
   ]
  },
  {
   "cell_type": "markdown",
   "id": "e2baa485",
   "metadata": {},
   "source": [
    "# Q8 A"
   ]
  },
  {
   "cell_type": "code",
   "execution_count": null,
   "id": "b835c12c",
   "metadata": {},
   "outputs": [],
   "source": [
    "kfold=KFold(10,shuffle=True,random_state=42)"
   ]
  },
  {
   "cell_type": "code",
   "execution_count": null,
   "id": "a21e1322",
   "metadata": {},
   "outputs": [],
   "source": [
    "reader = Reader(rating_scale=(0.5, 5))"
   ]
  },
  {
   "cell_type": "code",
   "execution_count": null,
   "id": "d0604e9e",
   "metadata": {},
   "outputs": [],
   "source": [
    "def train_and_predict(dataset):\n",
    "    kdict=defaultdict(tuple)\n",
    "    for k in range(2,52,2):\n",
    "        RMSE=0\n",
    "        MAE=0\n",
    "        for train_idx,valid_idx in kfold.split(dataset):\n",
    "            train=Dataset.load_from_df(dataset.loc[train_idx,['userId','movieId','rating']],reader)\n",
    "            validation=dataset.loc[valid_idx,['userId','movieId','rating']].to_numpy()\n",
    "            nmf=NMF(n_factors=k,random_state=42)\n",
    "            nmf.fit(train.build_full_trainset())\n",
    "            predict=np.zeros_like(validation)\n",
    "            for i in range(validation.shape[0]):\n",
    "                user,item=validation[i][0],validation[i][1]\n",
    "                pred=nmf.predict(user,item)\n",
    "                predict[i]=[user,item,pred.est]\n",
    "            RMSE+=sqrt(mean_squared_error(validation[:,2],predict[:,2]))\n",
    "            MAE+=mean_absolute_error(validation[:,2],predict[:,2])\n",
    "        avgRMSE=RMSE/10\n",
    "        avgMAE=MAE/10\n",
    "        print('Done with k of value {}, get an avgRMSE of {} and an avgMAE of {}'.format(k,avgRMSE,avgMAE))\n",
    "        kdict[k]=(avgRMSE,avgMAE)\n",
    "    return kdict"
   ]
  },
  {
   "cell_type": "code",
   "execution_count": null,
   "id": "ac0803a9",
   "metadata": {},
   "outputs": [],
   "source": [
    "k_dict=train_and_predict(data_ratings)"
   ]
  },
  {
   "cell_type": "code",
   "execution_count": null,
   "id": "66469d33",
   "metadata": {},
   "outputs": [],
   "source": [
    "def plot_graph(error_dict,title):\n",
    "    Xs=list(error_dict.keys())\n",
    "    RMSEs,MAEs=list(zip(*error_dict.values()))\n",
    "    plt.plot(Xs,RMSEs,label='RMSE')\n",
    "    plt.plot(Xs,MAEs,label='MAE')\n",
    "    plt.title(title)\n",
    "    plt.xlabel('k')\n",
    "    plt.ylabel('error')\n",
    "    plt.legend()\n",
    "    plt.show()"
   ]
  },
  {
   "cell_type": "code",
   "execution_count": null,
   "id": "169f101f",
   "metadata": {},
   "outputs": [],
   "source": [
    "def plot_RMSE(error_dict,title):\n",
    "    Xs=list(error_dict.keys())\n",
    "    RMSEs,MAEs=list(zip(*error_dict.values()))\n",
    "    plt.plot(Xs,RMSEs,label='RMSE')\n",
    "    plt.title(title)\n",
    "    plt.xlabel('k')\n",
    "    plt.ylabel('RMSE')\n",
    "    plt.legend()\n",
    "    plt.show()"
   ]
  },
  {
   "cell_type": "code",
   "execution_count": null,
   "id": "3c503268",
   "metadata": {},
   "outputs": [],
   "source": [
    "plot_graph(k_dict,'RMSE_MAE_FOR_ORIGINAL')"
   ]
  },
  {
   "cell_type": "markdown",
   "id": "3957a257",
   "metadata": {},
   "source": [
    "# Q8 B"
   ]
  },
  {
   "cell_type": "markdown",
   "id": "46a857cd",
   "metadata": {},
   "source": [
    "The minimum average RMSE is 0.9132728166746364 and minimum avgMAE is 0.6948384242116434. This happens when we have a k of 18 which is the same as number of movie genres"
   ]
  },
  {
   "cell_type": "markdown",
   "id": "f8e9895c",
   "metadata": {},
   "source": [
    "# Q8 C"
   ]
  },
  {
   "cell_type": "code",
   "execution_count": null,
   "id": "760d0609",
   "metadata": {},
   "outputs": [],
   "source": [
    "# popular\n",
    "print('popular')\n",
    "pop_kdict=train_and_predict(popular)\n",
    "# unpopular\n",
    "print('unpopular')\n",
    "unpop_kdict=train_and_predict(unpopular)\n",
    "# high\n",
    "print('high variance')\n",
    "high_var_kdict=train_and_predict(high)"
   ]
  },
  {
   "cell_type": "code",
   "execution_count": null,
   "id": "49919665",
   "metadata": {},
   "outputs": [],
   "source": [
    "plot_RMSE(pop_kdict,'RMSE_FOR_POPULAR')\n",
    "plot_RMSE(unpop_kdict,'RMSE_FOR_UNPOPULAR')\n",
    "plot_RMSE(high_var_kdict,'RMSE_FOR_HIGH_VARIANCE')"
   ]
  },
  {
   "cell_type": "markdown",
   "id": "8e918b3b",
   "metadata": {},
   "source": [
    "# ROC"
   ]
  },
  {
   "cell_type": "markdown",
   "id": "46f64462",
   "metadata": {},
   "source": [
    "# Q9"
   ]
  },
  {
   "cell_type": "code",
   "execution_count": null,
   "id": "99030134",
   "metadata": {},
   "outputs": [],
   "source": [
    "nmf9=NMF(n_factors=20,random_state=42)\n",
    "formattedR=Dataset.load_from_df(data_ratings[['userId','movieId','rating']],reader)\n",
    "train=formattedR.build_full_trainset()\n",
    "nmf9.fit(train)\n",
    "user_factors=nmf9.pu\n",
    "item_factors=nmf9.qi"
   ]
  },
  {
   "cell_type": "code",
   "execution_count": null,
   "id": "98e2e747",
   "metadata": {},
   "outputs": [],
   "source": [
    "idxToMovId=defaultdict(int)\n",
    "for i in range(train.n_items):\n",
    "    idxToMovId[i]=train.to_raw_iid(i)"
   ]
  },
  {
   "cell_type": "code",
   "execution_count": null,
   "id": "3a71d57d",
   "metadata": {},
   "outputs": [],
   "source": [
    "movToGenre=zip(data_movies['movieId'],data_movies['genres'])\n",
    "movDict={movID:genre for movID, genre in movToGenre}"
   ]
  },
  {
   "cell_type": "code",
   "execution_count": null,
   "id": "d5836333",
   "metadata": {},
   "outputs": [],
   "source": [
    "cols=[]\n",
    "for i in range(item_factors.shape[1]):\n",
    "    col=[]\n",
    "    for j in range(item_factors.shape[0]):\n",
    "        col.append((item_factors[j][i],j))\n",
    "    cols.append(col)"
   ]
  },
  {
   "cell_type": "code",
   "execution_count": null,
   "id": "7ed27d21",
   "metadata": {},
   "outputs": [],
   "source": [
    "#j rows in item factors indicates the jth item\n",
    "from collections import defaultdict\n",
    "freq=defaultdict(int)\n",
    "all_cols_top_10_genres=[]\n",
    "for i in range(len(cols)):\n",
    "    top_10_genres=[]\n",
    "    col=cols[i]\n",
    "    col=sorted(col,reverse=True)\n",
    "    for factor,idx in col[:10]:\n",
    "        movID=idxToMovId[idx]\n",
    "        genres=movDict[movID]\n",
    "        for genre in genres.split('|'):\n",
    "            freq[genre]+=1\n",
    "        top_10_genres.append(genres)\n",
    "    all_cols_top_10_genres.append(top_10_genres)   "
   ]
  },
  {
   "cell_type": "code",
   "execution_count": null,
   "id": "e7c02bc6",
   "metadata": {},
   "outputs": [],
   "source": [
    "for col in all_cols_top_10_genres:\n",
    "    print(col)"
   ]
  },
  {
   "cell_type": "code",
   "execution_count": null,
   "id": "e80788ff",
   "metadata": {},
   "outputs": [],
   "source": [
    "sortedFreq=sorted(freq.items(), key=lambda x:x[1], reverse=True)\n",
    "sortedFreq"
   ]
  },
  {
   "cell_type": "markdown",
   "id": "cf6922ee",
   "metadata": {},
   "source": [
    "most top 10 movie belongs to Comedy "
   ]
  },
  {
   "cell_type": "markdown",
   "id": "2965faf9",
   "metadata": {},
   "source": [
    "connection between latent factor and movie genres: each row i in the item latent factor indicates factors for the ith item in the original dataset. The ith item in the original dataset has a corresponding moveID. We can use the corresponding movieID to fetch the genre of the movie using the movies.csv dataset"
   ]
  },
  {
   "cell_type": "markdown",
   "id": "6b8f2060",
   "metadata": {},
   "source": [
    "# Q10 A"
   ]
  },
  {
   "cell_type": "code",
   "execution_count": null,
   "id": "6c5965f7",
   "metadata": {},
   "outputs": [],
   "source": [
    "def bias_train_predict(dataset):\n",
    "    bias_k_dict=defaultdict(tuple)\n",
    "    for k in range(2,52,2):\n",
    "        RMSE=0\n",
    "        MAE=0\n",
    "        for train_idx,valid_idx in kfold.split(dataset):\n",
    "            train=Dataset.load_from_df(dataset.loc[train_idx,['userId','movieId','rating']],reader)\n",
    "            validation=dataset.loc[valid_idx,['userId','movieId','rating']].to_numpy()\n",
    "            nmf=NMF(n_factors=k,random_state=42,biased=True)\n",
    "            nmf.fit(train.build_full_trainset())\n",
    "            predict=np.zeros_like(validation)\n",
    "            for i in range(validation.shape[0]):\n",
    "                user,item=validation[i][0],validation[i][1]\n",
    "                pred=nmf.predict(user,item)\n",
    "                predict[i]=[user,item,pred.est]\n",
    "            RMSE+=sqrt(mean_squared_error(validation[:,2],predict[:,2]))\n",
    "            MAE+=mean_absolute_error(validation[:,2],predict[:,2])\n",
    "        avgRMSE=RMSE/10\n",
    "        avgMAE=MAE/10\n",
    "        print('Done with k of value {}, get an avgRMSE of {} and an avgMAE of {}'.format(k,avgRMSE,avgMAE))\n",
    "        bias_k_dict[k]=(avgRMSE,avgMAE)\n",
    "    return bias_k_dict"
   ]
  },
  {
   "cell_type": "code",
   "execution_count": null,
   "id": "88b053f6",
   "metadata": {},
   "outputs": [],
   "source": [
    "bias_k_dict=bias_train_predict(data_ratings)"
   ]
  },
  {
   "cell_type": "markdown",
   "id": "6f22390a",
   "metadata": {},
   "source": [
    "# Q10 B"
   ]
  },
  {
   "cell_type": "code",
   "execution_count": null,
   "id": "d1483d6b",
   "metadata": {},
   "outputs": [],
   "source": [
    "plot_graph(bias_k_dict,'RMSE_MAE_FOR_ORIGINAL_BIAS')"
   ]
  },
  {
   "cell_type": "markdown",
   "id": "94dd43b1",
   "metadata": {},
   "source": [
    "# Q10 C"
   ]
  },
  {
   "cell_type": "code",
   "execution_count": null,
   "id": "1d31e51b",
   "metadata": {},
   "outputs": [],
   "source": [
    "# popular\n",
    "print('popular')\n",
    "bias_pop_kdict=train_and_predict(popular)\n",
    "# unpopular\n",
    "print('unpopular')\n",
    "bias_unpop_kdict=train_and_predict(unpopular)\n",
    "# high\n",
    "print('high variance')\n",
    "bias_high_var_kdict=train_and_predict(high)"
   ]
  },
  {
   "cell_type": "code",
   "execution_count": null,
   "id": "fb3c22a7",
   "metadata": {},
   "outputs": [],
   "source": [
    "plot_RMSE(bias_pop_kdict,'RMSE_FOR_POPULAR_BIAS')\n",
    "plot_RMSE(bias_unpop_kdict,'RMSE_FOR_UNPOPULAR_BIAS')\n",
    "plot_RMSE(bias_high_var_kdict,'RMSE_FOR_HIGH_VARIANCE_BIAS')"
   ]
  },
  {
   "cell_type": "markdown",
   "id": "e8c94d91",
   "metadata": {},
   "source": [
    "# ROC"
   ]
  },
  {
   "cell_type": "markdown",
   "id": "87f5ffc8",
   "metadata": {},
   "source": [
    "# Q11A"
   ]
  },
  {
   "cell_type": "code",
   "execution_count": null,
   "id": "2ea62d5f",
   "metadata": {},
   "outputs": [],
   "source": [
    "def naive_train_predict(dataset):\n",
    "    naive_RMSE=0\n",
    "    dropped_rows=[]\n",
    "    for train_idx,valid_idx in kfold.split(dataset):\n",
    "        train,validation=dataset.loc[train_idx,['userId','movieId','rating']].to_numpy(),dataset.loc[valid_idx,['userId','movieId','rating']].to_numpy()\n",
    "        user_ratings=defaultdict(list)\n",
    "        for user,movie,rating in train:\n",
    "            user_ratings[user].append(rating)\n",
    "        prediction=np.zeros_like(validation)\n",
    "        for i in range(validation.shape[0]):\n",
    "            user=validation[i][0]\n",
    "            item=validation[i][1]\n",
    "            # if user in validation hasn't rated any movie in training set\n",
    "            if(len(user_ratings[user])==0): \n",
    "                dropped_rows.append(i)\n",
    "                continue\n",
    "            prediction[i]=[user,item,sum(user_ratings[user])/len(user_ratings[user])]\n",
    "        np.delete(validation,dropped_rows,0)\n",
    "        np.delete(prediction,dropped_rows,0)\n",
    "        naive_RMSE+=sqrt(mean_squared_error(validation[:,2],prediction[:,2]))\n",
    "    naive_avgRMSE=naive_RMSE/10\n",
    "    return naive_avgRMSE"
   ]
  },
  {
   "cell_type": "code",
   "execution_count": null,
   "id": "b7fa51ae",
   "metadata": {},
   "outputs": [],
   "source": [
    "naive_RMSE_original=naive_train_predict(data_ratings)"
   ]
  },
  {
   "cell_type": "code",
   "execution_count": null,
   "id": "2e6147bd",
   "metadata": {},
   "outputs": [],
   "source": [
    "print('average RMSE for original dataset {}'.format(naive_RMSE_original))"
   ]
  },
  {
   "cell_type": "markdown",
   "id": "004e86f0",
   "metadata": {},
   "source": [
    "# Q11 B"
   ]
  },
  {
   "cell_type": "code",
   "execution_count": null,
   "id": "287c8253",
   "metadata": {},
   "outputs": [],
   "source": [
    "# popular\n",
    "print('popular')\n",
    "naive_pop_kdict=naive_train_predict(popular)\n",
    "# unpopular\n",
    "print('unpopular')\n",
    "naive_unpop_kdict=naive_train_predict(unpopular)\n",
    "# high\n",
    "print('high variance')\n",
    "\n",
    "naive_high_var_kdict=naive_train_predict(high)"
   ]
  },
  {
   "cell_type": "code",
   "execution_count": null,
   "id": "52de7373",
   "metadata": {},
   "outputs": [],
   "source": [
    "print('average RMSE for popular subset {}'.format(naive_pop_kdict))\n",
    "print('average RMSE for unpopular subset {}'.format(naive_unpop_kdict))\n",
    "print('average RMSE for high variance subset {}'.format(naive_high_var_kdict))"
   ]
  },
  {
   "cell_type": "markdown",
   "id": "79cdf7d8",
   "metadata": {},
   "source": [
    "# Q12 "
   ]
  },
  {
   "cell_type": "code",
   "execution_count": null,
   "id": "a0468889",
   "metadata": {},
   "outputs": [],
   "source": []
  },
  {
   "cell_type": "markdown",
   "id": "fdf3c2f5",
   "metadata": {},
   "source": [
    "# Q13"
   ]
  },
  {
   "cell_type": "markdown",
   "id": "828bdaf8",
   "metadata": {},
   "source": [
    "Precision: among all items we recommended to user, how many items are truly liked by the user"
   ]
  },
  {
   "cell_type": "markdown",
   "id": "135d5496",
   "metadata": {},
   "source": [
    "Recall: among all items the user like, how many items that user actually like are recommended to the user by us. "
   ]
  },
  {
   "cell_type": "markdown",
   "id": "17bbe597",
   "metadata": {},
   "source": [
    "# Q14"
   ]
  },
  {
   "cell_type": "code",
   "execution_count": null,
   "id": "ada2da7c",
   "metadata": {},
   "outputs": [],
   "source": [
    "def get_precision_recall(model):\n",
    "    precision_t=defaultdict(list)\n",
    "    recall_t=defaultdict(list)\n",
    "    threshold=3\n",
    "    for t in range(1,26,1):\n",
    "        folds_precision=0\n",
    "        folds_recall=0\n",
    "        for train_idx,valid_idx in kfold.split(data_ratings):\n",
    "            train=Dataset.load_from_df(data_ratings.loc[train_idx,['userId','movieId','rating']],reader)\n",
    "            validation=data_ratings.loc[valid_idx,['userId','movieId','rating']].to_numpy()\n",
    "            #consider chaging this to model to be general and modulize this\n",
    "#             nmf=NMF(n_factors=18,random_state=42)\n",
    "            model.fit(train.build_full_trainset())\n",
    "            L=defaultdict(list)\n",
    "            G=defaultdict(set)\n",
    "            users=set()\n",
    "            for i in range(validation.shape[0]):\n",
    "                user,item,rating=validation[i][0],validation[i][1],validation[i][2]\n",
    "                pred=model.predict(user,item)\n",
    "                L[user].append((pred.est,item))\n",
    "                if rating>threshold:\n",
    "                    G[user].add(item)\n",
    "                users.add(user)\n",
    "            for user in users:\n",
    "                L[user]=sorted(L[user],reverse=True)\n",
    "            S_t=defaultdict(set)\n",
    "            countOfUser=0\n",
    "            precision=0\n",
    "            recall=0\n",
    "            for user in users:\n",
    "                if len(L[user])<t or len(G[user])==0:\n",
    "                    continue\n",
    "                S_t[user]=set([iid for r,iid in L[user][:t]])\n",
    "                precision+=len(S_t[user].intersection(G[user]))/len(S_t[user])\n",
    "                recall+=len(S_t[user].intersection(G[user]))/len(G[user])              \n",
    "                countOfUser+=1\n",
    "            folds_precision+=precision/countOfUser\n",
    "            folds_recall+=recall/countOfUser\n",
    "        precision_t[t]=folds_precision/10\n",
    "        recall_t[t]=folds_recall/10\n",
    "        print('Done with t of {} get a precision {} and a recall {}'.format(t,precision_t[t],recall_t[t]))\n",
    "    return precision_t,recall_t"
   ]
  },
  {
   "cell_type": "code",
   "execution_count": null,
   "id": "7d00d6d2",
   "metadata": {},
   "outputs": [],
   "source": [
    "precision_t,recall_t=get_precision_recall(NMF(n_factors=18,random_state=42))"
   ]
  },
  {
   "cell_type": "code",
   "execution_count": null,
   "id": "f40ccbfc",
   "metadata": {},
   "outputs": [],
   "source": [
    "precision_t_KNN, recall_t_KNN=get_precision_recall(KNNWithMeans(sim_options={'name':'pearson'},k=30,verbose=False))"
   ]
  },
  {
   "cell_type": "code",
   "execution_count": null,
   "id": "7e95eece",
   "metadata": {},
   "outputs": [],
   "source": [
    "precision_t_bias,recall_t_bias=get_precision_recall(NMF(n_factors=18,random_state=42,biased=True))"
   ]
  }
 ],
 "metadata": {
  "kernelspec": {
   "display_name": "Python 3 (ipykernel)",
   "language": "python",
   "name": "python3"
  },
  "language_info": {
   "codemirror_mode": {
    "name": "ipython",
    "version": 3
   },
   "file_extension": ".py",
   "mimetype": "text/x-python",
   "name": "python",
   "nbconvert_exporter": "python",
   "pygments_lexer": "ipython3",
   "version": "3.9.12"
  }
 },
 "nbformat": 4,
 "nbformat_minor": 5
}
